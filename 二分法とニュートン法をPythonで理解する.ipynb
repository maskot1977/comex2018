{
 "cells": [
  {
   "cell_type": "code",
   "execution_count": 1,
   "metadata": {},
   "outputs": [],
   "source": [
    "from scipy import optimize\n",
    "import math\n",
    "\n",
    "def f(x):\n",
    "    return math.exp(x) - 3 * x"
   ]
  },
  {
   "cell_type": "code",
   "execution_count": 3,
   "metadata": {},
   "outputs": [
    {
     "data": {
      "text/plain": [
       "0.619061286737633"
      ]
     },
     "execution_count": 3,
     "metadata": {},
     "output_type": "execute_result"
    }
   ],
   "source": [
    "optimize.bisect(f, 0, 1)"
   ]
  },
  {
   "cell_type": "code",
   "execution_count": 2,
   "metadata": {},
   "outputs": [
    {
     "data": {
      "text/plain": [
       "0.6190612867359452"
      ]
     },
     "execution_count": 2,
     "metadata": {},
     "output_type": "execute_result"
    }
   ],
   "source": [
    "optimize.newton(f, 0)"
   ]
  },
  {
   "cell_type": "markdown",
   "metadata": {},
   "source": [
    "## もっと詳しい使い方を知りたい\n",
    "\n",
    "「?」を使うと、パラメーターの説明や使用例などが確認できます。英語ですけど。"
   ]
  },
  {
   "cell_type": "code",
   "execution_count": 13,
   "metadata": {},
   "outputs": [],
   "source": [
    "optimize.bisect?"
   ]
  },
  {
   "cell_type": "code",
   "execution_count": 12,
   "metadata": {},
   "outputs": [],
   "source": [
    "optimize.newton?"
   ]
  },
  {
   "cell_type": "markdown",
   "metadata": {},
   "source": [
    "# 他にどんな最適化手法があるか知りたい\n",
    "\n",
    "「optimize?」とすると、.bisect や .newton だけでなく、他の方法についてもいろいろ説明してあります。英語ですけど。"
   ]
  },
  {
   "cell_type": "code",
   "execution_count": 14,
   "metadata": {},
   "outputs": [],
   "source": [
    "optimize?"
   ]
  },
  {
   "cell_type": "code",
   "execution_count": 16,
   "metadata": {},
   "outputs": [
    {
     "data": {
      "text/plain": [
       "<function __main__.<lambda>(f)>"
      ]
     },
     "execution_count": 16,
     "metadata": {},
     "output_type": "execute_result"
    }
   ],
   "source": [
    "lambda f: math.exp(x) - 3 * x"
   ]
  },
  {
   "cell_type": "markdown",
   "metadata": {},
   "source": [
    "# 二分法"
   ]
  },
  {
   "cell_type": "code",
   "execution_count": 4,
   "metadata": {},
   "outputs": [
    {
     "name": "stdout",
     "output_type": "stream",
     "text": [
      "n\tc\tf(c)\n",
      "1\t0.50000\t0.14872\n",
      "2\t0.75000\t-0.13300\n",
      "3\t0.62500\t-0.00675\n",
      "4\t0.56250\t0.06755\n",
      "5\t0.59375\t0.02952\n",
      "6\t0.60938\t0.01116\n",
      "7\t0.61719\t0.00214\n",
      "8\t0.62109\t-0.00232\n",
      "9\t0.61914\t-0.00009\n",
      "10\t0.61816\t0.00103\n",
      "11\t0.61865\t0.00047\n",
      "12\t0.61890\t0.00019\n",
      "13\t0.61902\t0.00005\n",
      "14\t0.61908\t-0.00002\n",
      "15\t0.61905\t0.00001\n",
      "16\t0.61906\t-0.00000\n",
      "x = 0.619064\n"
     ]
    }
   ],
   "source": [
    "import math\n",
    "\n",
    "def f(x):\n",
    "    return math.exp(x) - 3 * x\n",
    "\n",
    "def fd(x):\n",
    "    return math.exp(x) - 3\n",
    "\n",
    "eps1 = 0.00001\n",
    "eps2 = 0.00001\n",
    "\n",
    "a = 0\n",
    "b = 1\n",
    "\n",
    "print(\"n\\tc\\tf(c)\")\n",
    "n = 1\n",
    "while True:\n",
    "    c = (a + b)/2\n",
    "    print(\"{}\\t{:.5f}\\t{:.5f}\".format(n, c, f(c)))\n",
    "    if f(a)*f(c) < 0:\n",
    "        b = c\n",
    "    else:\n",
    "        a = c\n",
    "    n += 1\n",
    "    if abs(f(c)) < eps1 or abs(a - b) < eps2:\n",
    "        break\n",
    "\n",
    "print(\"x = %f\" % c)"
   ]
  },
  {
   "cell_type": "markdown",
   "metadata": {},
   "source": [
    "# ニュートン法"
   ]
  },
  {
   "cell_type": "code",
   "execution_count": 5,
   "metadata": {},
   "outputs": [
    {
     "name": "stdout",
     "output_type": "stream",
     "text": [
      "n\tx\tf(x)\tdf(x)\tdx\n",
      "0\t0.0000\t1.0000\t-2.0000\t-0.5000\n",
      "1\t0.5000\t0.1487\t-1.3513\t-0.1101\n",
      "2\t0.6101\t0.0104\t-1.1595\t-0.0089\n",
      "3\t0.6190\t0.0001\t-1.1429\t-0.0001\n",
      "x = 0.619061\n"
     ]
    }
   ],
   "source": [
    "import math\n",
    "\n",
    "def f(x):\n",
    "    return math.exp(x) - 3 * x\n",
    "\n",
    "def df(x):\n",
    "    return math.exp(x) - 3\n",
    "\n",
    "eps1 = 1e-5\n",
    "\n",
    "x = 0 # 初期値\n",
    "\n",
    "print(\"n\\tx\\tf(x)\\tdf(x)\\tdx\")\n",
    "n = 0\n",
    "while True:\n",
    "    print(\"{}\\t{:.4f}\\t{:.4f}\\t{:.4f}\\t{:.4f}\".format(n, x, f(x), df(x), f(x)/df(x)))\n",
    "    x -= f(x)/df(x)\n",
    "    if abs(f(x)) < eps1:\n",
    "        break\n",
    "    n += 1\n",
    "\n",
    "print(\"x = %f\" % x)"
   ]
  },
  {
   "cell_type": "code",
   "execution_count": 6,
   "metadata": {},
   "outputs": [],
   "source": [
    "class Newton:\n",
    "    def __init__(self, f, df):\n",
    "        self.f = f\n",
    "        self.df = df\n",
    "\n",
    "    def _update(self, x):\n",
    "        return x - f(x)/df(x)\n",
    "\n",
    "    def solve(self, init_x, n_iter, tol):\n",
    "        print(\"n\\tx\\tf(x)\\tdf(x)\\tdx\")\n",
    "        x = init_x\n",
    "        for i in range(n_iter):\n",
    "            new_x = self._update(x)\n",
    "            error = abs(new_x - x)\n",
    "            print(\"{}\\t{:.4f}\\t{:.4f}\\t{:.4f}\\t{:.4f}\".format(i, x, f(x), df(x), f(x)/df(x)))\n",
    "            x = new_x\n",
    "            if error < tol:\n",
    "                break\n",
    "        return x"
   ]
  },
  {
   "cell_type": "code",
   "execution_count": 7,
   "metadata": {},
   "outputs": [
    {
     "name": "stdout",
     "output_type": "stream",
     "text": [
      "n\tx\tf(x)\tdf(x)\tdx\n",
      "0\t0.0000\t1.0000\t-2.0000\t-0.5000\n",
      "1\t0.5000\t0.1487\t-1.3513\t-0.1101\n",
      "2\t0.6101\t0.0104\t-1.1595\t-0.0089\n",
      "3\t0.6190\t0.0001\t-1.1429\t-0.0001\n",
      "4\t0.6191\t0.0000\t-1.1428\t-0.0000\n",
      "x = 0.619061\n"
     ]
    }
   ],
   "source": [
    "f = lambda x: math.exp(x) - 3 * x\n",
    "df = lambda x: math.exp(x) - 3\n",
    "\n",
    "newton = Newton(f=f, df=df)\n",
    "result_x = newton.solve(init_x=0, n_iter=100, tol=1e-5)\n",
    "print(\"x = {0:.6f}\".format(result_x))"
   ]
  },
  {
   "cell_type": "code",
   "execution_count": null,
   "metadata": {},
   "outputs": [],
   "source": []
  }
 ],
 "metadata": {
  "kernelspec": {
   "display_name": "Python 3",
   "language": "python",
   "name": "python3"
  },
  "language_info": {
   "codemirror_mode": {
    "name": "ipython",
    "version": 3
   },
   "file_extension": ".py",
   "mimetype": "text/x-python",
   "name": "python",
   "nbconvert_exporter": "python",
   "pygments_lexer": "ipython3",
   "version": "3.6.5"
  }
 },
 "nbformat": 4,
 "nbformat_minor": 2
}
