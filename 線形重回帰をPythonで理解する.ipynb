{
 "cells": [
  {
   "cell_type": "code",
   "execution_count": 1,
   "metadata": {},
   "outputs": [],
   "source": [
    "# 数値計算やデータフレーム操作に関するライブラリをインポートする\n",
    "import numpy as np\n",
    "import pandas as pd"
   ]
  },
  {
   "cell_type": "code",
   "execution_count": 2,
   "metadata": {},
   "outputs": [],
   "source": [
    "# URL によるリソースへのアクセスを提供するライブラリをインポートする。\n",
    "import urllib.request "
   ]
  },
  {
   "cell_type": "code",
   "execution_count": 3,
   "metadata": {},
   "outputs": [],
   "source": [
    "# 図やグラフを図示するためのライブラリをインポートする。\n",
    "import matplotlib.pyplot as plt\n",
    "%matplotlib inline"
   ]
  },
  {
   "cell_type": "code",
   "execution_count": 4,
   "metadata": {},
   "outputs": [],
   "source": [
    "# 線形回帰を行なうライブラリ\n",
    "from sklearn import linear_model"
   ]
  },
  {
   "cell_type": "code",
   "execution_count": 5,
   "metadata": {},
   "outputs": [
    {
     "data": {
      "text/plain": [
       "('winequality-red.txt', <http.client.HTTPMessage at 0x11dc057f0>)"
      ]
     },
     "execution_count": 5,
     "metadata": {},
     "output_type": "execute_result"
    }
   ],
   "source": [
    "# ウェブ上のリソースを指定する\n",
    "url = 'https://raw.githubusercontent.com/chemo-wakate/tutorial-6th/master/beginner/data/winequality-red.txt'\n",
    "# 指定したURLからリソースをダウンロードし、名前をつける。\n",
    "urllib.request.urlretrieve(url, 'winequality-red.txt') "
   ]
  },
  {
   "cell_type": "code",
   "execution_count": 6,
   "metadata": {},
   "outputs": [],
   "source": [
    "# データの読み込み\n",
    "df = pd.read_csv('winequality-red.txt', sep='\\t', index_col=0)"
   ]
  },
  {
   "cell_type": "code",
   "execution_count": 7,
   "metadata": {},
   "outputs": [],
   "source": [
    "# 品質の良いワインだけ選択し df1 に入れる\n",
    "df1 = df[df['quality'] > 6]"
   ]
  },
  {
   "cell_type": "code",
   "execution_count": 8,
   "metadata": {
    "scrolled": true
   },
   "outputs": [
    {
     "data": {
      "text/html": [
       "<div>\n",
       "<style scoped>\n",
       "    .dataframe tbody tr th:only-of-type {\n",
       "        vertical-align: middle;\n",
       "    }\n",
       "\n",
       "    .dataframe tbody tr th {\n",
       "        vertical-align: top;\n",
       "    }\n",
       "\n",
       "    .dataframe thead th {\n",
       "        text-align: right;\n",
       "    }\n",
       "</style>\n",
       "<table border=\"1\" class=\"dataframe\">\n",
       "  <thead>\n",
       "    <tr style=\"text-align: right;\">\n",
       "      <th></th>\n",
       "      <th>fixed acidity</th>\n",
       "      <th>volatile acidity</th>\n",
       "      <th>citric acid</th>\n",
       "      <th>residual sugar</th>\n",
       "      <th>chlorides</th>\n",
       "      <th>free sulfur dioxide</th>\n",
       "      <th>total sulfur dioxide</th>\n",
       "      <th>density</th>\n",
       "      <th>pH</th>\n",
       "      <th>sulphates</th>\n",
       "      <th>alcohol</th>\n",
       "      <th>quality</th>\n",
       "    </tr>\n",
       "  </thead>\n",
       "  <tbody>\n",
       "    <tr>\n",
       "      <th>7</th>\n",
       "      <td>7.3</td>\n",
       "      <td>0.65</td>\n",
       "      <td>0.00</td>\n",
       "      <td>1.2</td>\n",
       "      <td>0.065</td>\n",
       "      <td>15.0</td>\n",
       "      <td>21.0</td>\n",
       "      <td>0.9946</td>\n",
       "      <td>3.39</td>\n",
       "      <td>0.47</td>\n",
       "      <td>10.0</td>\n",
       "      <td>7</td>\n",
       "    </tr>\n",
       "    <tr>\n",
       "      <th>8</th>\n",
       "      <td>7.8</td>\n",
       "      <td>0.58</td>\n",
       "      <td>0.02</td>\n",
       "      <td>2.0</td>\n",
       "      <td>0.073</td>\n",
       "      <td>9.0</td>\n",
       "      <td>18.0</td>\n",
       "      <td>0.9968</td>\n",
       "      <td>3.36</td>\n",
       "      <td>0.57</td>\n",
       "      <td>9.5</td>\n",
       "      <td>7</td>\n",
       "    </tr>\n",
       "    <tr>\n",
       "      <th>16</th>\n",
       "      <td>8.5</td>\n",
       "      <td>0.28</td>\n",
       "      <td>0.56</td>\n",
       "      <td>1.8</td>\n",
       "      <td>0.092</td>\n",
       "      <td>35.0</td>\n",
       "      <td>103.0</td>\n",
       "      <td>0.9969</td>\n",
       "      <td>3.30</td>\n",
       "      <td>0.75</td>\n",
       "      <td>10.5</td>\n",
       "      <td>7</td>\n",
       "    </tr>\n",
       "    <tr>\n",
       "      <th>37</th>\n",
       "      <td>8.1</td>\n",
       "      <td>0.38</td>\n",
       "      <td>0.28</td>\n",
       "      <td>2.1</td>\n",
       "      <td>0.066</td>\n",
       "      <td>13.0</td>\n",
       "      <td>30.0</td>\n",
       "      <td>0.9968</td>\n",
       "      <td>3.23</td>\n",
       "      <td>0.73</td>\n",
       "      <td>9.7</td>\n",
       "      <td>7</td>\n",
       "    </tr>\n",
       "    <tr>\n",
       "      <th>62</th>\n",
       "      <td>7.5</td>\n",
       "      <td>0.52</td>\n",
       "      <td>0.16</td>\n",
       "      <td>1.9</td>\n",
       "      <td>0.085</td>\n",
       "      <td>12.0</td>\n",
       "      <td>35.0</td>\n",
       "      <td>0.9968</td>\n",
       "      <td>3.38</td>\n",
       "      <td>0.62</td>\n",
       "      <td>9.5</td>\n",
       "      <td>7</td>\n",
       "    </tr>\n",
       "  </tbody>\n",
       "</table>\n",
       "</div>"
      ],
      "text/plain": [
       "    fixed acidity  volatile acidity  citric acid  residual sugar  chlorides  \\\n",
       "7             7.3              0.65         0.00             1.2      0.065   \n",
       "8             7.8              0.58         0.02             2.0      0.073   \n",
       "16            8.5              0.28         0.56             1.8      0.092   \n",
       "37            8.1              0.38         0.28             2.1      0.066   \n",
       "62            7.5              0.52         0.16             1.9      0.085   \n",
       "\n",
       "    free sulfur dioxide  total sulfur dioxide  density    pH  sulphates  \\\n",
       "7                  15.0                  21.0   0.9946  3.39       0.47   \n",
       "8                   9.0                  18.0   0.9968  3.36       0.57   \n",
       "16                 35.0                 103.0   0.9969  3.30       0.75   \n",
       "37                 13.0                  30.0   0.9968  3.23       0.73   \n",
       "62                 12.0                  35.0   0.9968  3.38       0.62   \n",
       "\n",
       "    alcohol  quality  \n",
       "7      10.0        7  \n",
       "8       9.5        7  \n",
       "16     10.5        7  \n",
       "37      9.7        7  \n",
       "62      9.5        7  "
      ]
     },
     "execution_count": 8,
     "metadata": {},
     "output_type": "execute_result"
    }
   ],
   "source": [
    "df1.head()"
   ]
  },
  {
   "cell_type": "code",
   "execution_count": 9,
   "metadata": {},
   "outputs": [],
   "source": [
    "X = df1[['pH', 'density']].values\n",
    "Y = df1['fixed acidity'].values"
   ]
  },
  {
   "cell_type": "code",
   "execution_count": 10,
   "metadata": {},
   "outputs": [
    {
     "data": {
      "text/plain": [
       "array([[3.39   , 0.9946 ],\n",
       "       [3.36   , 0.9968 ],\n",
       "       [3.3    , 0.9969 ],\n",
       "       [3.23   , 0.9968 ],\n",
       "       [3.38   , 0.9968 ],\n",
       "       [3.42   , 0.9962 ],\n",
       "       [3.57   , 0.9924 ],\n",
       "       [3.22   , 0.99695],\n",
       "       [3.2    , 0.9994 ],\n",
       "       [3.2    , 0.9994 ],\n",
       "       [3.31   , 0.998  ],\n",
       "       [3.54   , 0.9927 ],\n",
       "       [3.07   , 1.00005],\n",
       "       [3.07   , 1.00005],\n",
       "       [3.36   , 0.99965],\n",
       "       [3.2    , 0.9968 ],\n",
       "       [3.35   , 0.9973 ],\n",
       "       [3.23   , 0.9976 ],\n",
       "       [3.38   , 0.9991 ],\n",
       "       [3.25   , 0.9972 ],\n",
       "       [3.38   , 0.9991 ],\n",
       "       [3.34   , 0.9976 ],\n",
       "       [3.34   , 0.9976 ],\n",
       "       [3.37   , 0.9989 ],\n",
       "       [3.37   , 0.9989 ],\n",
       "       [3.05   , 0.9978 ],\n",
       "       [3.34   , 0.9963 ],\n",
       "       [3.17   , 0.9992 ],\n",
       "       [3.11   , 0.9997 ],\n",
       "       [3.58   , 0.9955 ],\n",
       "       [3.24   , 0.997  ],\n",
       "       [3.15   , 1.     ],\n",
       "       [3.07   , 1.0022 ],\n",
       "       [3.07   , 1.0022 ],\n",
       "       [3.2    , 0.9962 ],\n",
       "       [3.01   , 0.9984 ],\n",
       "       [3.2    , 0.9962 ],\n",
       "       [3.19   , 0.9982 ],\n",
       "       [3.56   , 0.9924 ],\n",
       "       [3.22   , 1.0004 ],\n",
       "       [3.18   , 0.9996 ],\n",
       "       [3.27   , 0.9986 ],\n",
       "       [3.28   , 0.9972 ],\n",
       "       [3.52   , 0.9952 ],\n",
       "       [3.15   , 0.9978 ],\n",
       "       [3.52   , 0.9952 ],\n",
       "       [3.15   , 0.9978 ],\n",
       "       [2.88   , 0.9987 ],\n",
       "       [2.95   , 1.0032 ],\n",
       "       [3.23   , 0.9963 ],\n",
       "       [3.57   , 0.9934 ],\n",
       "       [3.26   , 0.9998 ],\n",
       "       [3.22   , 0.9988 ],\n",
       "       [3.26   , 0.9998 ],\n",
       "       [3.15   , 0.9964 ],\n",
       "       [3.32   , 1.0002 ],\n",
       "       [3.34   , 0.9952 ],\n",
       "       [3.32   , 0.995  ],\n",
       "       [3.15   , 0.9972 ],\n",
       "       [3.15   , 0.9972 ],\n",
       "       [3.17   , 0.999  ],\n",
       "       [3.17   , 0.999  ],\n",
       "       [3.18   , 0.9976 ],\n",
       "       [3.21   , 0.9976 ],\n",
       "       [3.16   , 0.9968 ],\n",
       "       [3.25   , 0.9976 ],\n",
       "       [3.04   , 0.9986 ],\n",
       "       [3.09   , 0.9973 ],\n",
       "       [3.09   , 0.9973 ],\n",
       "       [3.2    , 1.0014 ],\n",
       "       [2.98   , 0.9976 ],\n",
       "       [3.3    , 1.0002 ],\n",
       "       [3.12   , 0.9986 ],\n",
       "       [3.72   , 0.9917 ],\n",
       "       [3.05   , 0.9976 ],\n",
       "       [3.34   , 0.9973 ],\n",
       "       [3.35   , 0.9964 ],\n",
       "       [3.37   , 0.9984 ],\n",
       "       [3.33   , 0.9964 ],\n",
       "       [2.92   , 0.998  ],\n",
       "       [3.24   , 0.99526],\n",
       "       [3.56   , 0.99264],\n",
       "       [3.33   , 0.99356],\n",
       "       [3.27   , 0.99386],\n",
       "       [3.33   , 0.99356],\n",
       "       [3.71   , 0.99154],\n",
       "       [3.4    , 0.9951 ],\n",
       "       [3.46   , 0.99417],\n",
       "       [3.26   , 0.99064],\n",
       "       [3.26   , 0.99064],\n",
       "       [3.24   , 0.99672],\n",
       "       [3.24   , 0.99736],\n",
       "       [3.51   , 0.99538],\n",
       "       [3.4    , 0.99594],\n",
       "       [3.15   , 0.99686],\n",
       "       [3.23   , 0.99552],\n",
       "       [3.12   , 0.99664],\n",
       "       [3.31   , 0.99614],\n",
       "       [3.15   , 0.99577],\n",
       "       [3.31   , 0.99444],\n",
       "       [3.31   , 0.99444],\n",
       "       [3.58   , 0.99736],\n",
       "       [3.58   , 0.99736],\n",
       "       [3.41   , 0.9962 ],\n",
       "       [3.41   , 0.9962 ],\n",
       "       [3.27   , 0.99639],\n",
       "       [3.47   , 0.99604],\n",
       "       [3.3    , 0.99468],\n",
       "       [3.34   , 0.99356],\n",
       "       [3.36   , 0.99509],\n",
       "       [3.19   , 0.99484],\n",
       "       [3.22   , 0.99834],\n",
       "       [3.24   , 0.99864],\n",
       "       [3.27   , 0.99498],\n",
       "       [3.14   , 0.99566],\n",
       "       [3.29   , 0.99745],\n",
       "       [3.26   , 0.99408],\n",
       "       [3.41   , 0.99552],\n",
       "       [3.41   , 0.99552],\n",
       "       [3.41   , 0.99552],\n",
       "       [3.26   , 0.99408],\n",
       "       [3.31   , 0.99536],\n",
       "       [3.2    , 0.99458],\n",
       "       [3.47   , 0.99519],\n",
       "       [3.13   , 0.99604],\n",
       "       [3.22   , 0.99643],\n",
       "       [3.3    , 0.99658],\n",
       "       [3.28   , 0.99416],\n",
       "       [3.19   , 0.9947 ],\n",
       "       [3.71   , 0.99378],\n",
       "       [3.71   , 0.99378],\n",
       "       [3.44   , 0.99495],\n",
       "       [3.26   , 0.99676],\n",
       "       [3.26   , 0.99516],\n",
       "       [3.36   , 0.9928 ],\n",
       "       [3.36   , 0.9928 ],\n",
       "       [3.26   , 0.99516],\n",
       "       [3.26   , 0.99516],\n",
       "       [3.23   , 0.99549],\n",
       "       [3.25   , 0.99354],\n",
       "       [3.27   , 0.99486],\n",
       "       [3.32   , 0.99568],\n",
       "       [3.32   , 0.99568],\n",
       "       [3.42   , 0.99488],\n",
       "       [3.35   , 0.99514],\n",
       "       [3.17   , 0.99683],\n",
       "       [3.22   , 0.99356],\n",
       "       [3.24   , 0.9953 ],\n",
       "       [3.29   , 0.99859],\n",
       "       [3.38   , 0.99426],\n",
       "       [3.21   , 0.99586],\n",
       "       [3.19   , 0.9971 ],\n",
       "       [3.21   , 0.99586],\n",
       "       [3.21   , 0.99462],\n",
       "       [3.4    , 0.99358],\n",
       "       [3.02   , 0.99572],\n",
       "       [3.02   , 0.99572],\n",
       "       [3.18   , 0.99498],\n",
       "       [3.44   , 0.99769],\n",
       "       [3.01   , 0.99316],\n",
       "       [3.01   , 0.99316],\n",
       "       [3.38   , 0.99738],\n",
       "       [3.02   , 0.99735],\n",
       "       [3.02   , 0.99735],\n",
       "       [2.98   , 0.99451],\n",
       "       [3.33   , 0.99615],\n",
       "       [3.15   , 0.99358],\n",
       "       [3.27   , 0.99523],\n",
       "       [3.78   , 0.99471],\n",
       "       [3.2    , 0.99235],\n",
       "       [3.14   , 0.99394],\n",
       "       [3.38   , 0.9933 ],\n",
       "       [3.37   , 0.99684],\n",
       "       [3.3    , 0.99524],\n",
       "       [3.21   , 0.99702],\n",
       "       [3.3    , 0.99473],\n",
       "       [3.33   , 0.99524],\n",
       "       [3.46   , 0.9924 ],\n",
       "       [3.14   , 0.99676],\n",
       "       [3.14   , 0.99434],\n",
       "       [3.32   , 0.99528],\n",
       "       [3.35   , 0.99318],\n",
       "       [3.52   , 0.99439],\n",
       "       [3.27   , 0.99419],\n",
       "       [3.35   , 0.99516],\n",
       "       [3.4    , 0.99534],\n",
       "       [3.4    , 0.99534],\n",
       "       [3.4    , 0.99534],\n",
       "       [3.4    , 0.99534],\n",
       "       [3.45   , 0.99428],\n",
       "       [3.68   , 0.99157],\n",
       "       [3.5    , 0.9908 ],\n",
       "       [3.14   , 0.9948 ],\n",
       "       [3.18   , 0.99495],\n",
       "       [3.52   , 0.9966 ],\n",
       "       [3.23   , 0.996  ],\n",
       "       [3.28   , 0.9952 ],\n",
       "       [3.27   , 0.995  ],\n",
       "       [3.35   , 0.9952 ],\n",
       "       [3.42   , 0.9955 ],\n",
       "       [3.23   , 0.9947 ],\n",
       "       [3.23   , 0.99472],\n",
       "       [3.23   , 0.9947 ],\n",
       "       [3.33   , 0.99732],\n",
       "       [3.35   , 0.99374],\n",
       "       [3.32   , 0.99458],\n",
       "       [3.3    , 0.99728],\n",
       "       [3.3    , 0.99728],\n",
       "       [3.54   , 0.99182],\n",
       "       [3.54   , 0.99182],\n",
       "       [3.42   , 0.99459],\n",
       "       [3.42   , 0.99397],\n",
       "       [3.4    , 0.99666],\n",
       "       [3.17   , 0.9955 ],\n",
       "       [3.24   , 0.99419],\n",
       "       [3.44   , 0.99514],\n",
       "       [3.29   , 0.99484]])"
      ]
     },
     "execution_count": 10,
     "metadata": {},
     "output_type": "execute_result"
    }
   ],
   "source": [
    "X"
   ]
  },
  {
   "cell_type": "code",
   "execution_count": 11,
   "metadata": {},
   "outputs": [
    {
     "name": "stdout",
     "output_type": "stream",
     "text": [
      "偏回帰係数=  [ -6.81345785 495.44719993]\n",
      "切片=  -462.2252942029534\n",
      "決定係数=  0.8321527707032893\n"
     ]
    },
    {
     "name": "stderr",
     "output_type": "stream",
     "text": [
      "/Users/kot/miniconda3/envs/py3new/lib/python3.6/site-packages/sklearn/linear_model/base.py:485: RuntimeWarning: internal gelsd driver lwork query error, required iwork dimension not returned. This is likely the result of LAPACK bug 0038, fixed in LAPACK 3.2.2 (released July 21, 2010). Falling back to 'gelss' driver.\n",
      "  linalg.lstsq(X, y)\n"
     ]
    }
   ],
   "source": [
    "from sklearn import linear_model\n",
    "clf = linear_model.LinearRegression()\n",
    "clf.fit(X, Y) # 予測モデルを作成\n",
    "\n",
    "print(\"偏回帰係数= \", clf.coef_)\n",
    "print(\"切片= \", clf.intercept_)\n",
    "print(\"決定係数= \", clf.score(X, Y))"
   ]
  },
  {
   "cell_type": "code",
   "execution_count": 12,
   "metadata": {},
   "outputs": [],
   "source": [
    "# 平均値を求める関数\n",
    "def average(list):\n",
    "    sum = 0\n",
    "    for x in list:\n",
    "        sum += x\n",
    "    return sum / len(list)"
   ]
  },
  {
   "cell_type": "code",
   "execution_count": 13,
   "metadata": {},
   "outputs": [],
   "source": [
    "# 分散を求める関数\n",
    "def variance(list):\n",
    "    ave = average(list)\n",
    "    sum = 0\n",
    "    for x in list:\n",
    "        sum += (x - ave) ** 2\n",
    "    return sum / len(list)"
   ]
  },
  {
   "cell_type": "code",
   "execution_count": 14,
   "metadata": {},
   "outputs": [],
   "source": [
    "# 標準偏差を求める関数\n",
    "import math\n",
    "def standard_deviation(list):\n",
    "    return math.sqrt(variance(list))"
   ]
  },
  {
   "cell_type": "code",
   "execution_count": 15,
   "metadata": {},
   "outputs": [],
   "source": [
    "# 共分散 = 偏差積の平均 （偏差値、ではありません。偏差積、です）\n",
    "def covariance(list1, list2): \n",
    "    ave1 = average(list1)\n",
    "    ave2 = average(list2)\n",
    "    sum = 0\n",
    "    for d1, d2 in zip(list1, list2):\n",
    "        sum += (d1 - ave1) * (d2 - ave2)\n",
    "    return sum / len(list1)"
   ]
  },
  {
   "cell_type": "code",
   "execution_count": 16,
   "metadata": {},
   "outputs": [],
   "source": [
    "# 相関係数 = 共分散を list1, list2 の標準偏差で割ったもの\n",
    "def correlation(list1, list2):\n",
    "    return covariance(list1, list2) / (standard_deviation(list1) * standard_deviation(list2))"
   ]
  },
  {
   "cell_type": "code",
   "execution_count": 17,
   "metadata": {},
   "outputs": [],
   "source": [
    "# b の影響を除いた、a と y の偏回帰係数 partial regression coefficient を求める関数\n",
    "def partial_regression(y, a, b):\n",
    "    ray = correlation(a, y)\n",
    "    rby = correlation(b, y)\n",
    "    rab = correlation(a, b)\n",
    "    return (ray - rby * rab) * standard_deviation(y) / ((1 - rab ** 2) * standard_deviation(a))"
   ]
  },
  {
   "cell_type": "code",
   "execution_count": 18,
   "metadata": {},
   "outputs": [
    {
     "name": "stdout",
     "output_type": "stream",
     "text": [
      "[-6.81345784696975, 495.4471999314514]\n"
     ]
    }
   ],
   "source": [
    "# 偏回帰係数を求める\n",
    "p = partial_regression(Y, X[:, 0], X[:, 1])\n",
    "q = partial_regression(Y, X[:, 1], X[:, 0])\n",
    "print([p, q])"
   ]
  },
  {
   "cell_type": "code",
   "execution_count": 19,
   "metadata": {},
   "outputs": [
    {
     "data": {
      "text/plain": [
       "-462.2252942029537"
      ]
     },
     "execution_count": 19,
     "metadata": {},
     "output_type": "execute_result"
    }
   ],
   "source": [
    "# 切片　＝　Yの平均　－　p * X1の平均　－　q * X2の平均\n",
    "m = average(Y) - p * average(X[:, 0]) - q * average(X[:, 1])\n",
    "m"
   ]
  },
  {
   "cell_type": "code",
   "execution_count": 20,
   "metadata": {},
   "outputs": [],
   "source": [
    "def f(X1, X2):\n",
    "    return p * X1 + q * X2 + m"
   ]
  },
  {
   "cell_type": "code",
   "execution_count": 21,
   "metadata": {},
   "outputs": [
    {
     "data": {
      "text/plain": [
       "9378.584125956377"
      ]
     },
     "execution_count": 21,
     "metadata": {},
     "output_type": "execute_result"
    }
   ],
   "source": [
    "f(10, 20)"
   ]
  },
  {
   "cell_type": "code",
   "execution_count": 22,
   "metadata": {},
   "outputs": [],
   "source": [
    "def r2(X1, X2, Y):\n",
    "    sum1 = 0\n",
    "    sum2 = 0\n",
    "    for x1, x2, y in zip(X1, X2, Y):\n",
    "        sum1 += (y - f(x1, x2)) ** 2\n",
    "        sum2 += (y - average(Y)) ** 2\n",
    "    return 1 - sum1 / sum2"
   ]
  },
  {
   "cell_type": "code",
   "execution_count": 23,
   "metadata": {},
   "outputs": [
    {
     "data": {
      "text/plain": [
       "0.8321527707032887"
      ]
     },
     "execution_count": 23,
     "metadata": {},
     "output_type": "execute_result"
    }
   ],
   "source": [
    "r2(X[:, 0], X[:, 1], Y)"
   ]
  },
  {
   "cell_type": "code",
   "execution_count": null,
   "metadata": {},
   "outputs": [],
   "source": []
  }
 ],
 "metadata": {
  "kernelspec": {
   "display_name": "Python 3",
   "language": "python",
   "name": "python3"
  },
  "language_info": {
   "codemirror_mode": {
    "name": "ipython",
    "version": 3
   },
   "file_extension": ".py",
   "mimetype": "text/x-python",
   "name": "python",
   "nbconvert_exporter": "python",
   "pygments_lexer": "ipython3",
   "version": "3.6.5"
  }
 },
 "nbformat": 4,
 "nbformat_minor": 2
}
