{
 "cells": [
  {
   "cell_type": "code",
   "execution_count": 3,
   "metadata": {},
   "outputs": [],
   "source": [
    "def RungeKutta(f, x0, y0, x1, h):\n",
    "    n = int((x1 - x0) / h)\n",
    "    vx = [0] * (n + 1)\n",
    "    vy = [0] * (n + 1)\n",
    "    vx[0] = x = x0\n",
    "    vy[0] = y = y0\n",
    "    for i in range(1, n + 1):\n",
    "        k1 = h * f(x, y)\n",
    "        k2 = h * f(x + h / 2., y + k1 / 2.)\n",
    "        k3 = h * f(x + h / 2., y + k2 / 2.)\n",
    "        k4 = h * f(x + h, y + k3)\n",
    "        vx[i] = x = x0 + i * h\n",
    "        vy[i] = y = y + (k1 + 2. * k2 + 2. * k3 + k4) / 6\n",
    "    return vx, vy"
   ]
  },
  {
   "cell_type": "code",
   "execution_count": 4,
   "metadata": {},
   "outputs": [],
   "source": [
    "def f(x, y): # 解きたい微分方程式を dy/dx = 2 - y/x とする。\n",
    "    return 2 - y /x"
   ]
  },
  {
   "cell_type": "code",
   "execution_count": 14,
   "metadata": {},
   "outputs": [
    {
     "name": "stdout",
     "output_type": "stream",
     "text": [
      "1.00    2.00000\n",
      "1.10    2.00909\n",
      "1.20    2.03333\n",
      "1.30    2.06923\n",
      "1.40    2.11429\n",
      "1.50    2.16667\n",
      "1.60    2.22500\n",
      "1.70    2.28824\n",
      "1.80    2.35556\n",
      "1.90    2.42632\n",
      "2.00    2.50000\n"
     ]
    }
   ],
   "source": [
    "# x0 = 1 で、y0 = 2 となる初期条件で、上記の微分方程式を満足する関数 y の x = 2 における値を求める。刻み幅 h = 0.1\n",
    "# 最後の値が求める x と y\n",
    "vx, vy = RungeKutta(f, 1, 2, 2, 0.1)\n",
    "for x, y in list(zip(vx, vy)):\n",
    "    print(\"%4.2f %10.5f\" % (x, y))"
   ]
  },
  {
   "cell_type": "code",
   "execution_count": null,
   "metadata": {},
   "outputs": [],
   "source": []
  }
 ],
 "metadata": {
  "kernelspec": {
   "display_name": "Python 3",
   "language": "python",
   "name": "python3"
  },
  "language_info": {
   "codemirror_mode": {
    "name": "ipython",
    "version": 3
   },
   "file_extension": ".py",
   "mimetype": "text/x-python",
   "name": "python",
   "nbconvert_exporter": "python",
   "pygments_lexer": "ipython3",
   "version": "3.6.7"
  }
 },
 "nbformat": 4,
 "nbformat_minor": 2
}
