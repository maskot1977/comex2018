{
 "cells": [
  {
   "cell_type": "code",
   "execution_count": 2,
   "metadata": {},
   "outputs": [
    {
     "name": "stdout",
     "output_type": "stream",
     "text": [
      "Hello Python\n"
     ]
    }
   ],
   "source": [
    "# Program Test\n",
    "\n",
    "# This script prints \"Hello Python\"\n",
    "# 2018/11/26 xxxxxxxx Mas Kot\n",
    "\n",
    "print(\"Hello Python\")"
   ]
  },
  {
   "cell_type": "code",
   "execution_count": 3,
   "metadata": {},
   "outputs": [
    {
     "name": "stdout",
     "output_type": "stream",
     "text": [
      "0.9999999999932537\n",
      "1.0\n",
      "4.0\n",
      "2.718281828459045\n"
     ]
    }
   ],
   "source": [
    "# 第１回講義課題１\n",
    "# Program Test3\n",
    "\n",
    "# Use sume functions\n",
    "# 2018/11/26 xxxxxxxx Mas Kot\n",
    "\n",
    "import math # 数学関数のライブラリ\n",
    "\n",
    "print(math.sin(3.1416/2.0))\n",
    "print(math.log10(10.0)) # 常用対数\n",
    "print(math.sqrt(16.0))\n",
    "print(math.exp(1.0))"
   ]
  },
  {
   "cell_type": "code",
   "execution_count": 4,
   "metadata": {},
   "outputs": [
    {
     "name": "stdout",
     "output_type": "stream",
     "text": [
      "a =  2.0\n",
      "b =  3.0\n",
      "a + b =  5.0\n",
      "a - b =  -1.0\n",
      "a * b =  6.0\n",
      "a / b =  0.6666666666666666\n",
      "a ** b =  8.0\n"
     ]
    }
   ],
   "source": [
    "# 第１回講義課題2\n",
    "# Program Test4\n",
    "\n",
    "# Use some variables\n",
    "# 2018/11/26 xxxxxxxx Mas Kot\n",
    "\n",
    "a = 2.0\n",
    "b = 3.0\n",
    "print(\"a = \", a)\n",
    "print(\"b = \", b)\n",
    "print(\"a + b = \", a + b)\n",
    "print(\"a - b = \", a - b)\n",
    "print(\"a * b = \", a * b)\n",
    "print(\"a / b = \", a / b)\n",
    "print(\"a ** b = \", a ** b)"
   ]
  },
  {
   "cell_type": "code",
   "execution_count": 5,
   "metadata": {},
   "outputs": [
    {
     "name": "stdout",
     "output_type": "stream",
     "text": [
      "Input A:\n",
      "3\n",
      "Input B:\n",
      "0\n",
      "a =  3.0\n",
      "b =  0.0\n",
      "a + b =  3.0\n",
      "a - b =  3.0\n",
      "a * b =  0.0\n"
     ]
    },
    {
     "ename": "ZeroDivisionError",
     "evalue": "float division by zero",
     "output_type": "error",
     "traceback": [
      "\u001b[0;31m---------------------------------------------------------------------------\u001b[0m",
      "\u001b[0;31mZeroDivisionError\u001b[0m                         Traceback (most recent call last)",
      "\u001b[0;32m<ipython-input-5-a7c24ef7e3b4>\u001b[0m in \u001b[0;36m<module>\u001b[0;34m\u001b[0m\n\u001b[1;32m     14\u001b[0m \u001b[0mprint\u001b[0m\u001b[0;34m(\u001b[0m\u001b[0;34m\"a - b = \"\u001b[0m\u001b[0;34m,\u001b[0m \u001b[0ma\u001b[0m \u001b[0;34m-\u001b[0m \u001b[0mb\u001b[0m\u001b[0;34m)\u001b[0m\u001b[0;34m\u001b[0m\u001b[0;34m\u001b[0m\u001b[0m\n\u001b[1;32m     15\u001b[0m \u001b[0mprint\u001b[0m\u001b[0;34m(\u001b[0m\u001b[0;34m\"a * b = \"\u001b[0m\u001b[0;34m,\u001b[0m \u001b[0ma\u001b[0m \u001b[0;34m*\u001b[0m \u001b[0mb\u001b[0m\u001b[0;34m)\u001b[0m\u001b[0;34m\u001b[0m\u001b[0;34m\u001b[0m\u001b[0m\n\u001b[0;32m---> 16\u001b[0;31m \u001b[0mprint\u001b[0m\u001b[0;34m(\u001b[0m\u001b[0;34m\"a / b = \"\u001b[0m\u001b[0;34m,\u001b[0m \u001b[0ma\u001b[0m \u001b[0;34m/\u001b[0m \u001b[0mb\u001b[0m\u001b[0;34m)\u001b[0m\u001b[0;34m\u001b[0m\u001b[0;34m\u001b[0m\u001b[0m\n\u001b[0m\u001b[1;32m     17\u001b[0m \u001b[0mprint\u001b[0m\u001b[0;34m(\u001b[0m\u001b[0;34m\"a ** b = \"\u001b[0m\u001b[0;34m,\u001b[0m \u001b[0ma\u001b[0m \u001b[0;34m**\u001b[0m \u001b[0mb\u001b[0m\u001b[0;34m)\u001b[0m\u001b[0;34m\u001b[0m\u001b[0;34m\u001b[0m\u001b[0m\n",
      "\u001b[0;31mZeroDivisionError\u001b[0m: float division by zero"
     ]
    }
   ],
   "source": [
    "# 第１回講義課題3\n",
    "# Program Test5\n",
    "\n",
    "# Use \"Input\" sentence\n",
    "# 2018/11/26 xxxxxxxx Mas Kot\n",
    "\n",
    "print(\"Input A:\")\n",
    "a = float(input()) # float は文字列を浮動小数点数に変換する関数\n",
    "print(\"Input B:\")\n",
    "b = float(input())\n",
    "print(\"a = \", a)\n",
    "print(\"b = \", b)\n",
    "print(\"a + b = \", a + b)\n",
    "print(\"a - b = \", a - b)\n",
    "print(\"a * b = \", a * b)\n",
    "print(\"a / b = \", a / b)\n",
    "print(\"a ** b = \", a ** b)"
   ]
  },
  {
   "cell_type": "code",
   "execution_count": 6,
   "metadata": {},
   "outputs": [
    {
     "name": "stdout",
     "output_type": "stream",
     "text": [
      "ax + b = 0\n",
      "Input A:\n",
      "3\n",
      "Input B:\n",
      "9\n",
      "x =  -3.0\n"
     ]
    }
   ],
   "source": [
    "# 第１回講義課題4\n",
    "# Program Test6\n",
    "\n",
    "# Use \"Input\" sentence\n",
    "# 2018/11/26 xxxxxxxx Mas Kot\n",
    "\n",
    "print(\"ax + b = 0\")\n",
    "print(\"Input A:\")\n",
    "a = float(input())\n",
    "print(\"Input B:\")\n",
    "b = float(input())\n",
    "print(\"x = \", - b / a)"
   ]
  },
  {
   "cell_type": "code",
   "execution_count": 10,
   "metadata": {},
   "outputs": [
    {
     "name": "stdout",
     "output_type": "stream",
     "text": [
      "Input angle A by degree:\n",
      "180\n",
      "a [rad] =  3.141592653589793\n",
      "a [rad] * cos(a) =  -3.141592653589793\n"
     ]
    }
   ],
   "source": [
    "# 第１回講義課題5\n",
    "# Program Test7\n",
    "\n",
    "# Use \"Input\" sentence\n",
    "# 2018/11/26 xxxxxxxx Mas Kot\n",
    "\n",
    "import math\n",
    "print(\"Input angle A by degree:\")\n",
    "a = float(input()) * math.pi / 180\n",
    "print(\"a [rad] = \", a)\n",
    "print(\"a [rad] * cos(a) = \", a * math.cos(a))"
   ]
  },
  {
   "cell_type": "code",
   "execution_count": null,
   "metadata": {},
   "outputs": [],
   "source": []
  }
 ],
 "metadata": {
  "kernelspec": {
   "display_name": "Python 3",
   "language": "python",
   "name": "python3"
  },
  "language_info": {
   "codemirror_mode": {
    "name": "ipython",
    "version": 3
   },
   "file_extension": ".py",
   "mimetype": "text/x-python",
   "name": "python",
   "nbconvert_exporter": "python",
   "pygments_lexer": "ipython3",
   "version": "3.6.7"
  }
 },
 "nbformat": 4,
 "nbformat_minor": 2
}
