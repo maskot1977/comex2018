{
 "cells": [
  {
   "cell_type": "markdown",
   "metadata": {},
   "source": [
    "多層パーセプトロン（Multilayer perceptron、MLP）は、順伝播型ニューラルネットワークの一種であり、少なくとも3つのノードの層からなります。入力ノード以外の個々のノードは非線形活性化関数を使用するニューロンであり、誤差逆伝播法（バックプロパゲーション）と呼ばれる教師あり学習手法を利用することで、線形分離可能ではないデータを識別できます。非線形活性化関数として使われる関数のひとつに、シグモイド関数があります。\n",
    "\n",
    "# あやめのデータ（3品種）を例に説明します。"
   ]
  },
  {
   "cell_type": "code",
   "execution_count": 1,
   "metadata": {},
   "outputs": [],
   "source": [
    "# 数値計算やデータフレーム操作に関するライブラリをインポートする\n",
    "import numpy as np\n",
    "import pandas as pd"
   ]
  },
  {
   "cell_type": "code",
   "execution_count": 2,
   "metadata": {},
   "outputs": [],
   "source": [
    "# URL によるリソースへのアクセスを提供するライブラリをインポートする。\n",
    "import urllib.request "
   ]
  },
  {
   "cell_type": "code",
   "execution_count": 3,
   "metadata": {},
   "outputs": [],
   "source": [
    "# 図やグラフを図示するためのライブラリをインポートする。\n",
    "import matplotlib.pyplot as plt\n",
    "%matplotlib inline"
   ]
  },
  {
   "cell_type": "code",
   "execution_count": 4,
   "metadata": {},
   "outputs": [
    {
     "data": {
      "text/plain": [
       "('iris.txt', <http.client.HTTPMessage at 0x121ae59b0>)"
      ]
     },
     "execution_count": 4,
     "metadata": {},
     "output_type": "execute_result"
    }
   ],
   "source": [
    "url = \"https://raw.githubusercontent.com/maskot1977/ipython_notebook/master/toydata/iris.txt\"\n",
    "urllib.request.urlretrieve(url, 'iris.txt') "
   ]
  },
  {
   "cell_type": "code",
   "execution_count": 5,
   "metadata": {},
   "outputs": [
    {
     "name": "stdout",
     "output_type": "stream",
     "text": [
      "(150, 5)\n"
     ]
    },
    {
     "data": {
      "text/html": [
       "<div>\n",
       "<style scoped>\n",
       "    .dataframe tbody tr th:only-of-type {\n",
       "        vertical-align: middle;\n",
       "    }\n",
       "\n",
       "    .dataframe tbody tr th {\n",
       "        vertical-align: top;\n",
       "    }\n",
       "\n",
       "    .dataframe thead th {\n",
       "        text-align: right;\n",
       "    }\n",
       "</style>\n",
       "<table border=\"1\" class=\"dataframe\">\n",
       "  <thead>\n",
       "    <tr style=\"text-align: right;\">\n",
       "      <th></th>\n",
       "      <th>Sepal.Length</th>\n",
       "      <th>Sepal.Width</th>\n",
       "      <th>Petal.Length</th>\n",
       "      <th>Petal.Width</th>\n",
       "      <th>Species</th>\n",
       "    </tr>\n",
       "  </thead>\n",
       "  <tbody>\n",
       "    <tr>\n",
       "      <th>1</th>\n",
       "      <td>5.1</td>\n",
       "      <td>3.5</td>\n",
       "      <td>1.4</td>\n",
       "      <td>0.2</td>\n",
       "      <td>0</td>\n",
       "    </tr>\n",
       "    <tr>\n",
       "      <th>2</th>\n",
       "      <td>4.9</td>\n",
       "      <td>3.0</td>\n",
       "      <td>1.4</td>\n",
       "      <td>0.2</td>\n",
       "      <td>0</td>\n",
       "    </tr>\n",
       "    <tr>\n",
       "      <th>3</th>\n",
       "      <td>4.7</td>\n",
       "      <td>3.2</td>\n",
       "      <td>1.3</td>\n",
       "      <td>0.2</td>\n",
       "      <td>0</td>\n",
       "    </tr>\n",
       "    <tr>\n",
       "      <th>4</th>\n",
       "      <td>4.6</td>\n",
       "      <td>3.1</td>\n",
       "      <td>1.5</td>\n",
       "      <td>0.2</td>\n",
       "      <td>0</td>\n",
       "    </tr>\n",
       "    <tr>\n",
       "      <th>5</th>\n",
       "      <td>5.0</td>\n",
       "      <td>3.6</td>\n",
       "      <td>1.4</td>\n",
       "      <td>0.2</td>\n",
       "      <td>0</td>\n",
       "    </tr>\n",
       "  </tbody>\n",
       "</table>\n",
       "</div>"
      ],
      "text/plain": [
       "   Sepal.Length  Sepal.Width  Petal.Length  Petal.Width  Species\n",
       "1           5.1          3.5           1.4          0.2        0\n",
       "2           4.9          3.0           1.4          0.2        0\n",
       "3           4.7          3.2           1.3          0.2        0\n",
       "4           4.6          3.1           1.5          0.2        0\n",
       "5           5.0          3.6           1.4          0.2        0"
      ]
     },
     "execution_count": 5,
     "metadata": {},
     "output_type": "execute_result"
    }
   ],
   "source": [
    "df = pd.read_csv(\"iris.txt\", sep=\"\\t\", index_col=0)\n",
    "print(df.shape) # 何行何列か確認する\n",
    "df.head() # 先頭五行の内容を確認する"
   ]
  },
  {
   "cell_type": "markdown",
   "metadata": {},
   "source": [
    "# scikit-learnを使う方法\n",
    "\n",
    "まず、説明変数X と 目的変数Y に分割します。"
   ]
  },
  {
   "cell_type": "code",
   "execution_count": 6,
   "metadata": {},
   "outputs": [],
   "source": [
    "X = np.array(df.iloc[:, :4].values) \n",
    "Y = np.array(df.iloc[:, 4])"
   ]
  },
  {
   "cell_type": "markdown",
   "metadata": {},
   "source": [
    "sklearn の neural_network から MLPClassifier クラスをインポートし、MLPClassifier クラスのインスタンスを生成します。"
   ]
  },
  {
   "cell_type": "code",
   "execution_count": 7,
   "metadata": {},
   "outputs": [],
   "source": [
    "from sklearn.neural_network import MLPClassifier\n",
    "clf = MLPClassifier(max_iter=10000)"
   ]
  },
  {
   "cell_type": "markdown",
   "metadata": {},
   "source": [
    "X と Y の関係を学習します。"
   ]
  },
  {
   "cell_type": "code",
   "execution_count": 8,
   "metadata": {},
   "outputs": [
    {
     "data": {
      "text/plain": [
       "MLPClassifier(activation='relu', alpha=0.0001, batch_size='auto', beta_1=0.9,\n",
       "       beta_2=0.999, early_stopping=False, epsilon=1e-08,\n",
       "       hidden_layer_sizes=(100,), learning_rate='constant',\n",
       "       learning_rate_init=0.001, max_iter=10000, momentum=0.9,\n",
       "       n_iter_no_change=10, nesterovs_momentum=True, power_t=0.5,\n",
       "       random_state=None, shuffle=True, solver='adam', tol=0.0001,\n",
       "       validation_fraction=0.1, verbose=False, warm_start=False)"
      ]
     },
     "execution_count": 8,
     "metadata": {},
     "output_type": "execute_result"
    }
   ],
   "source": [
    "clf.fit(X, Y)"
   ]
  },
  {
   "cell_type": "markdown",
   "metadata": {},
   "source": [
    "予測精度 (accuracy score) は clf.score() で計算できます。"
   ]
  },
  {
   "cell_type": "code",
   "execution_count": 9,
   "metadata": {},
   "outputs": [
    {
     "data": {
      "text/plain": [
       "0.98"
      ]
     },
     "execution_count": 9,
     "metadata": {},
     "output_type": "execute_result"
    }
   ],
   "source": [
    "clf.score(X, Y)"
   ]
  },
  {
   "cell_type": "markdown",
   "metadata": {},
   "source": [
    "損失（教師データと予測データとのズレ）の履歴は clf.loss_curve_ に保存されています。"
   ]
  },
  {
   "cell_type": "code",
   "execution_count": 75,
   "metadata": {},
   "outputs": [
    {
     "data": {
      "image/png": "[encoded data removed]",
      "text/plain": [
       "<Figure size 432x288 with 1 Axes>"
      ]
     },
     "metadata": {
      "needs_background": "light"
     },
     "output_type": "display_data"
    }
   ],
   "source": [
    "%matplotlib inline\n",
    "import matplotlib.pyplot as plt\n",
    "plt.title(\"Loss Curve\")\n",
    "plt.plot(clf.loss_curve_)\n",
    "plt.xlabel(\"Iteration\")\n",
    "plt.ylabel(\"Loss\")\n",
    "plt.grid()\n",
    "plt.show()"
   ]
  },
  {
   "cell_type": "markdown",
   "metadata": {},
   "source": [
    "予測結果は clf.predict() で求められます。学習に用いなかった新規データを与えれば、そのデータに対する新規予測を返します。"
   ]
  },
  {
   "cell_type": "code",
   "execution_count": 11,
   "metadata": {},
   "outputs": [
    {
     "data": {
      "text/plain": [
       "array([0, 0, 0, 0, 0, 0, 0, 0, 0, 0, 0, 0, 0, 0, 0, 0, 0, 0, 0, 0, 0, 0,\n",
       "       0, 0, 0, 0, 0, 0, 0, 0, 0, 0, 0, 0, 0, 0, 0, 0, 0, 0, 0, 0, 0, 0,\n",
       "       0, 0, 0, 0, 0, 0, 1, 1, 1, 1, 1, 1, 1, 1, 1, 1, 1, 1, 1, 1, 1, 1,\n",
       "       1, 1, 1, 1, 2, 1, 1, 1, 1, 1, 1, 1, 1, 1, 1, 1, 1, 2, 1, 1, 1, 1,\n",
       "       1, 1, 1, 1, 1, 1, 1, 1, 1, 1, 1, 1, 2, 2, 2, 2, 2, 2, 2, 2, 2, 2,\n",
       "       2, 2, 2, 2, 2, 2, 2, 2, 2, 2, 2, 2, 2, 2, 2, 2, 2, 2, 2, 2, 2, 2,\n",
       "       2, 1, 2, 2, 2, 2, 2, 2, 2, 2, 2, 2, 2, 2, 2, 2, 2, 2])"
      ]
     },
     "execution_count": 11,
     "metadata": {},
     "output_type": "execute_result"
    }
   ],
   "source": [
    "clf.predict(X)"
   ]
  },
  {
   "cell_type": "markdown",
   "metadata": {},
   "source": [
    "それぞれの予測に対する自信のほどは、clf.predict_proba() を使えば窺い知ることができます。"
   ]
  },
  {
   "cell_type": "code",
   "execution_count": 12,
   "metadata": {},
   "outputs": [
    {
     "data": {
      "text/html": [
       "<div>\n",
       "<style scoped>\n",
       "    .dataframe tbody tr th:only-of-type {\n",
       "        vertical-align: middle;\n",
       "    }\n",
       "\n",
       "    .dataframe tbody tr th {\n",
       "        vertical-align: top;\n",
       "    }\n",
       "\n",
       "    .dataframe thead th {\n",
       "        text-align: right;\n",
       "    }\n",
       "</style>\n",
       "<table border=\"1\" class=\"dataframe\">\n",
       "  <thead>\n",
       "    <tr style=\"text-align: right;\">\n",
       "      <th></th>\n",
       "      <th>0</th>\n",
       "      <th>1</th>\n",
       "      <th>2</th>\n",
       "    </tr>\n",
       "  </thead>\n",
       "  <tbody>\n",
       "    <tr>\n",
       "      <th>0</th>\n",
       "      <td>0.999050</td>\n",
       "      <td>0.000950</td>\n",
       "      <td>1.762854e-10</td>\n",
       "    </tr>\n",
       "    <tr>\n",
       "      <th>1</th>\n",
       "      <td>0.995972</td>\n",
       "      <td>0.004028</td>\n",
       "      <td>2.084842e-09</td>\n",
       "    </tr>\n",
       "    <tr>\n",
       "      <th>2</th>\n",
       "      <td>0.998272</td>\n",
       "      <td>0.001728</td>\n",
       "      <td>9.007917e-10</td>\n",
       "    </tr>\n",
       "    <tr>\n",
       "      <th>3</th>\n",
       "      <td>0.995533</td>\n",
       "      <td>0.004467</td>\n",
       "      <td>4.888747e-09</td>\n",
       "    </tr>\n",
       "    <tr>\n",
       "      <th>4</th>\n",
       "      <td>0.999267</td>\n",
       "      <td>0.000733</td>\n",
       "      <td>1.519095e-10</td>\n",
       "    </tr>\n",
       "  </tbody>\n",
       "</table>\n",
       "</div>"
      ],
      "text/plain": [
       "          0         1             2\n",
       "0  0.999050  0.000950  1.762854e-10\n",
       "1  0.995972  0.004028  2.084842e-09\n",
       "2  0.998272  0.001728  9.007917e-10\n",
       "3  0.995533  0.004467  4.888747e-09\n",
       "4  0.999267  0.000733  1.519095e-10"
      ]
     },
     "execution_count": 12,
     "metadata": {},
     "output_type": "execute_result"
    }
   ],
   "source": [
    "pd.DataFrame(clf.predict_proba(X)).head()"
   ]
  },
  {
   "cell_type": "markdown",
   "metadata": {},
   "source": [
    "このクラスで定義されているパラメーターは clf.get_params で確認できます。"
   ]
  },
  {
   "cell_type": "code",
   "execution_count": 13,
   "metadata": {},
   "outputs": [
    {
     "data": {
      "text/plain": [
       "<bound method BaseEstimator.get_params of MLPClassifier(activation='relu', alpha=0.0001, batch_size='auto', beta_1=0.9,\n",
       "       beta_2=0.999, early_stopping=False, epsilon=1e-08,\n",
       "       hidden_layer_sizes=(100,), learning_rate='constant',\n",
       "       learning_rate_init=0.001, max_iter=10000, momentum=0.9,\n",
       "       n_iter_no_change=10, nesterovs_momentum=True, power_t=0.5,\n",
       "       random_state=None, shuffle=True, solver='adam', tol=0.0001,\n",
       "       validation_fraction=0.1, verbose=False, warm_start=False)>"
      ]
     },
     "execution_count": 13,
     "metadata": {},
     "output_type": "execute_result"
    }
   ],
   "source": [
    "clf.get_params"
   ]
  },
  {
   "cell_type": "markdown",
   "metadata": {},
   "source": [
    "activationパラメータに入れられるのは、'sgd', 'adam', 'lbfgs' のいずれかです。solverパラメータに入れられるのは 'identity', 'logistic', 'tanh', 'relu' のいずれかです。何か適当な値に変換して計算し直してみましょう。デフォルトパラメータより良い値が出るでしょうか？"
   ]
  },
  {
   "cell_type": "code",
   "execution_count": 14,
   "metadata": {},
   "outputs": [
    {
     "name": "stderr",
     "output_type": "stream",
     "text": [
      "/Users/kot/miniconda3/envs/py3new/lib/python3.6/site-packages/sklearn/neural_network/multilayer_perceptron.py:562: ConvergenceWarning: Stochastic Optimizer: Maximum iterations (1000) reached and the optimization hasn't converged yet.\n",
      "  % self.max_iter, ConvergenceWarning)\n"
     ]
    },
    {
     "data": {
      "text/plain": [
       "0.98"
      ]
     },
     "execution_count": 14,
     "metadata": {},
     "output_type": "execute_result"
    }
   ],
   "source": [
    "clf = MLPClassifier(max_iter=1000, hidden_layer_sizes=(10,), activation='logistic', solver='sgd', learning_rate_init=0.01)\n",
    "clf.fit(X, Y)\n",
    "clf.score(X, Y)"
   ]
  },
  {
   "cell_type": "markdown",
   "metadata": {},
   "source": [
    "このときの Warning は、「まだ値が収束してないけど、いいの？」というWarningです。"
   ]
  },
  {
   "cell_type": "markdown",
   "metadata": {},
   "source": [
    "## グリッドサーチを用いたハイパーパラメーターチューニング\n",
    "\n",
    "ハイパーパラメーターとは、学習を行う前に人間があらかじめ設定しなければならないパラメーターです。これをうまく選ぶための方法の一つが、グリッドサーチです。グリッドサーチでは、考えうる全てのハイパーパラメーターの組み合わせを全通り計算して、最良の結果を出すハイパーパラメーターを選択します。"
   ]
  },
  {
   "cell_type": "code",
   "execution_count": 15,
   "metadata": {
    "scrolled": false
   },
   "outputs": [
    {
     "name": "stdout",
     "output_type": "stream",
     "text": [
      "2018年 12月14日 金曜日 16時56分12秒 JST\n",
      "2018年 12月14日 金曜日 16時57分36秒 JST\n"
     ]
    }
   ],
   "source": [
    "# 計算に2〜３分かかります。\n",
    "!date\n",
    "results = []\n",
    "for hidden_layer_sizes in [10, 100, 1000]:\n",
    "    for solver in ['sgd', 'adam', 'lbfgs']:\n",
    "        for activation in ['identity', 'logistic', 'tanh', 'relu']:\n",
    "            for learning_rate_init in [0.1, 0.01, 0.001]:\n",
    "                clf = MLPClassifier(max_iter=10000, hidden_layer_sizes=(hidden_layer_sizes,), \n",
    "                                    activation=activation, solver=solver, learning_rate_init=learning_rate_init)\n",
    "                clf.fit(X, Y)\n",
    "                score = clf.score(X, Y)\n",
    "                results.append([hidden_layer_sizes, activation, solver, learning_rate_init, score])\n",
    "!date"
   ]
  },
  {
   "cell_type": "code",
   "execution_count": 16,
   "metadata": {
    "scrolled": false
   },
   "outputs": [
    {
     "data": {
      "text/html": [
       "<div>\n",
       "<style scoped>\n",
       "    .dataframe tbody tr th:only-of-type {\n",
       "        vertical-align: middle;\n",
       "    }\n",
       "\n",
       "    .dataframe tbody tr th {\n",
       "        vertical-align: top;\n",
       "    }\n",
       "\n",
       "    .dataframe thead th {\n",
       "        text-align: right;\n",
       "    }\n",
       "</style>\n",
       "<table border=\"1\" class=\"dataframe\">\n",
       "  <thead>\n",
       "    <tr style=\"text-align: right;\">\n",
       "      <th></th>\n",
       "      <th>hidden_layer_sizes</th>\n",
       "      <th>activation</th>\n",
       "      <th>solver</th>\n",
       "      <th>learning_rate_init</th>\n",
       "      <th>score</th>\n",
       "    </tr>\n",
       "  </thead>\n",
       "  <tbody>\n",
       "    <tr>\n",
       "      <th>0</th>\n",
       "      <td>10</td>\n",
       "      <td>logistic</td>\n",
       "      <td>lbfgs</td>\n",
       "      <td>0.100</td>\n",
       "      <td>1.000000</td>\n",
       "    </tr>\n",
       "    <tr>\n",
       "      <th>1</th>\n",
       "      <td>100</td>\n",
       "      <td>logistic</td>\n",
       "      <td>lbfgs</td>\n",
       "      <td>0.100</td>\n",
       "      <td>1.000000</td>\n",
       "    </tr>\n",
       "    <tr>\n",
       "      <th>2</th>\n",
       "      <td>100</td>\n",
       "      <td>logistic</td>\n",
       "      <td>lbfgs</td>\n",
       "      <td>0.010</td>\n",
       "      <td>1.000000</td>\n",
       "    </tr>\n",
       "    <tr>\n",
       "      <th>3</th>\n",
       "      <td>100</td>\n",
       "      <td>logistic</td>\n",
       "      <td>lbfgs</td>\n",
       "      <td>0.001</td>\n",
       "      <td>1.000000</td>\n",
       "    </tr>\n",
       "    <tr>\n",
       "      <th>4</th>\n",
       "      <td>100</td>\n",
       "      <td>tanh</td>\n",
       "      <td>lbfgs</td>\n",
       "      <td>0.100</td>\n",
       "      <td>1.000000</td>\n",
       "    </tr>\n",
       "    <tr>\n",
       "      <th>5</th>\n",
       "      <td>100</td>\n",
       "      <td>tanh</td>\n",
       "      <td>lbfgs</td>\n",
       "      <td>0.010</td>\n",
       "      <td>1.000000</td>\n",
       "    </tr>\n",
       "    <tr>\n",
       "      <th>6</th>\n",
       "      <td>100</td>\n",
       "      <td>tanh</td>\n",
       "      <td>lbfgs</td>\n",
       "      <td>0.001</td>\n",
       "      <td>1.000000</td>\n",
       "    </tr>\n",
       "    <tr>\n",
       "      <th>7</th>\n",
       "      <td>1000</td>\n",
       "      <td>logistic</td>\n",
       "      <td>lbfgs</td>\n",
       "      <td>0.001</td>\n",
       "      <td>1.000000</td>\n",
       "    </tr>\n",
       "    <tr>\n",
       "      <th>8</th>\n",
       "      <td>1000</td>\n",
       "      <td>tanh</td>\n",
       "      <td>lbfgs</td>\n",
       "      <td>0.100</td>\n",
       "      <td>1.000000</td>\n",
       "    </tr>\n",
       "    <tr>\n",
       "      <th>9</th>\n",
       "      <td>1000</td>\n",
       "      <td>tanh</td>\n",
       "      <td>lbfgs</td>\n",
       "      <td>0.010</td>\n",
       "      <td>1.000000</td>\n",
       "    </tr>\n",
       "    <tr>\n",
       "      <th>10</th>\n",
       "      <td>10</td>\n",
       "      <td>logistic</td>\n",
       "      <td>lbfgs</td>\n",
       "      <td>0.010</td>\n",
       "      <td>0.993333</td>\n",
       "    </tr>\n",
       "    <tr>\n",
       "      <th>11</th>\n",
       "      <td>10</td>\n",
       "      <td>logistic</td>\n",
       "      <td>lbfgs</td>\n",
       "      <td>0.001</td>\n",
       "      <td>0.993333</td>\n",
       "    </tr>\n",
       "    <tr>\n",
       "      <th>12</th>\n",
       "      <td>10</td>\n",
       "      <td>tanh</td>\n",
       "      <td>lbfgs</td>\n",
       "      <td>0.100</td>\n",
       "      <td>0.993333</td>\n",
       "    </tr>\n",
       "    <tr>\n",
       "      <th>13</th>\n",
       "      <td>10</td>\n",
       "      <td>tanh</td>\n",
       "      <td>lbfgs</td>\n",
       "      <td>0.010</td>\n",
       "      <td>0.993333</td>\n",
       "    </tr>\n",
       "    <tr>\n",
       "      <th>14</th>\n",
       "      <td>10</td>\n",
       "      <td>tanh</td>\n",
       "      <td>lbfgs</td>\n",
       "      <td>0.001</td>\n",
       "      <td>0.993333</td>\n",
       "    </tr>\n",
       "    <tr>\n",
       "      <th>15</th>\n",
       "      <td>100</td>\n",
       "      <td>relu</td>\n",
       "      <td>lbfgs</td>\n",
       "      <td>0.100</td>\n",
       "      <td>0.993333</td>\n",
       "    </tr>\n",
       "    <tr>\n",
       "      <th>16</th>\n",
       "      <td>100</td>\n",
       "      <td>relu</td>\n",
       "      <td>lbfgs</td>\n",
       "      <td>0.010</td>\n",
       "      <td>0.993333</td>\n",
       "    </tr>\n",
       "    <tr>\n",
       "      <th>17</th>\n",
       "      <td>1000</td>\n",
       "      <td>tanh</td>\n",
       "      <td>sgd</td>\n",
       "      <td>0.100</td>\n",
       "      <td>0.993333</td>\n",
       "    </tr>\n",
       "    <tr>\n",
       "      <th>18</th>\n",
       "      <td>10</td>\n",
       "      <td>identity</td>\n",
       "      <td>lbfgs</td>\n",
       "      <td>0.100</td>\n",
       "      <td>0.986667</td>\n",
       "    </tr>\n",
       "    <tr>\n",
       "      <th>19</th>\n",
       "      <td>10</td>\n",
       "      <td>identity</td>\n",
       "      <td>lbfgs</td>\n",
       "      <td>0.010</td>\n",
       "      <td>0.986667</td>\n",
       "    </tr>\n",
       "    <tr>\n",
       "      <th>20</th>\n",
       "      <td>10</td>\n",
       "      <td>identity</td>\n",
       "      <td>lbfgs</td>\n",
       "      <td>0.001</td>\n",
       "      <td>0.986667</td>\n",
       "    </tr>\n",
       "    <tr>\n",
       "      <th>21</th>\n",
       "      <td>10</td>\n",
       "      <td>relu</td>\n",
       "      <td>lbfgs</td>\n",
       "      <td>0.100</td>\n",
       "      <td>0.986667</td>\n",
       "    </tr>\n",
       "    <tr>\n",
       "      <th>22</th>\n",
       "      <td>10</td>\n",
       "      <td>relu</td>\n",
       "      <td>lbfgs</td>\n",
       "      <td>0.010</td>\n",
       "      <td>0.986667</td>\n",
       "    </tr>\n",
       "    <tr>\n",
       "      <th>23</th>\n",
       "      <td>10</td>\n",
       "      <td>relu</td>\n",
       "      <td>lbfgs</td>\n",
       "      <td>0.001</td>\n",
       "      <td>0.986667</td>\n",
       "    </tr>\n",
       "    <tr>\n",
       "      <th>24</th>\n",
       "      <td>100</td>\n",
       "      <td>logistic</td>\n",
       "      <td>sgd</td>\n",
       "      <td>0.100</td>\n",
       "      <td>0.986667</td>\n",
       "    </tr>\n",
       "    <tr>\n",
       "      <th>25</th>\n",
       "      <td>100</td>\n",
       "      <td>logistic</td>\n",
       "      <td>sgd</td>\n",
       "      <td>0.010</td>\n",
       "      <td>0.986667</td>\n",
       "    </tr>\n",
       "    <tr>\n",
       "      <th>26</th>\n",
       "      <td>100</td>\n",
       "      <td>logistic</td>\n",
       "      <td>adam</td>\n",
       "      <td>0.001</td>\n",
       "      <td>0.986667</td>\n",
       "    </tr>\n",
       "    <tr>\n",
       "      <th>27</th>\n",
       "      <td>100</td>\n",
       "      <td>tanh</td>\n",
       "      <td>adam</td>\n",
       "      <td>0.100</td>\n",
       "      <td>0.986667</td>\n",
       "    </tr>\n",
       "    <tr>\n",
       "      <th>28</th>\n",
       "      <td>100</td>\n",
       "      <td>identity</td>\n",
       "      <td>lbfgs</td>\n",
       "      <td>0.100</td>\n",
       "      <td>0.986667</td>\n",
       "    </tr>\n",
       "    <tr>\n",
       "      <th>29</th>\n",
       "      <td>100</td>\n",
       "      <td>identity</td>\n",
       "      <td>lbfgs</td>\n",
       "      <td>0.010</td>\n",
       "      <td>0.986667</td>\n",
       "    </tr>\n",
       "    <tr>\n",
       "      <th>...</th>\n",
       "      <td>...</td>\n",
       "      <td>...</td>\n",
       "      <td>...</td>\n",
       "      <td>...</td>\n",
       "      <td>...</td>\n",
       "    </tr>\n",
       "    <tr>\n",
       "      <th>78</th>\n",
       "      <td>1000</td>\n",
       "      <td>relu</td>\n",
       "      <td>sgd</td>\n",
       "      <td>0.001</td>\n",
       "      <td>0.980000</td>\n",
       "    </tr>\n",
       "    <tr>\n",
       "      <th>79</th>\n",
       "      <td>1000</td>\n",
       "      <td>identity</td>\n",
       "      <td>adam</td>\n",
       "      <td>0.010</td>\n",
       "      <td>0.980000</td>\n",
       "    </tr>\n",
       "    <tr>\n",
       "      <th>80</th>\n",
       "      <td>1000</td>\n",
       "      <td>identity</td>\n",
       "      <td>adam</td>\n",
       "      <td>0.001</td>\n",
       "      <td>0.980000</td>\n",
       "    </tr>\n",
       "    <tr>\n",
       "      <th>81</th>\n",
       "      <td>1000</td>\n",
       "      <td>logistic</td>\n",
       "      <td>adam</td>\n",
       "      <td>0.010</td>\n",
       "      <td>0.980000</td>\n",
       "    </tr>\n",
       "    <tr>\n",
       "      <th>82</th>\n",
       "      <td>1000</td>\n",
       "      <td>tanh</td>\n",
       "      <td>adam</td>\n",
       "      <td>0.010</td>\n",
       "      <td>0.980000</td>\n",
       "    </tr>\n",
       "    <tr>\n",
       "      <th>83</th>\n",
       "      <td>1000</td>\n",
       "      <td>tanh</td>\n",
       "      <td>adam</td>\n",
       "      <td>0.001</td>\n",
       "      <td>0.980000</td>\n",
       "    </tr>\n",
       "    <tr>\n",
       "      <th>84</th>\n",
       "      <td>1000</td>\n",
       "      <td>relu</td>\n",
       "      <td>adam</td>\n",
       "      <td>0.001</td>\n",
       "      <td>0.980000</td>\n",
       "    </tr>\n",
       "    <tr>\n",
       "      <th>85</th>\n",
       "      <td>10</td>\n",
       "      <td>identity</td>\n",
       "      <td>sgd</td>\n",
       "      <td>0.001</td>\n",
       "      <td>0.973333</td>\n",
       "    </tr>\n",
       "    <tr>\n",
       "      <th>86</th>\n",
       "      <td>10</td>\n",
       "      <td>tanh</td>\n",
       "      <td>sgd</td>\n",
       "      <td>0.001</td>\n",
       "      <td>0.973333</td>\n",
       "    </tr>\n",
       "    <tr>\n",
       "      <th>87</th>\n",
       "      <td>10</td>\n",
       "      <td>identity</td>\n",
       "      <td>adam</td>\n",
       "      <td>0.001</td>\n",
       "      <td>0.973333</td>\n",
       "    </tr>\n",
       "    <tr>\n",
       "      <th>88</th>\n",
       "      <td>10</td>\n",
       "      <td>tanh</td>\n",
       "      <td>adam</td>\n",
       "      <td>0.001</td>\n",
       "      <td>0.973333</td>\n",
       "    </tr>\n",
       "    <tr>\n",
       "      <th>89</th>\n",
       "      <td>10</td>\n",
       "      <td>relu</td>\n",
       "      <td>adam</td>\n",
       "      <td>0.001</td>\n",
       "      <td>0.973333</td>\n",
       "    </tr>\n",
       "    <tr>\n",
       "      <th>90</th>\n",
       "      <td>100</td>\n",
       "      <td>identity</td>\n",
       "      <td>sgd</td>\n",
       "      <td>0.001</td>\n",
       "      <td>0.973333</td>\n",
       "    </tr>\n",
       "    <tr>\n",
       "      <th>91</th>\n",
       "      <td>100</td>\n",
       "      <td>logistic</td>\n",
       "      <td>sgd</td>\n",
       "      <td>0.001</td>\n",
       "      <td>0.973333</td>\n",
       "    </tr>\n",
       "    <tr>\n",
       "      <th>92</th>\n",
       "      <td>100</td>\n",
       "      <td>relu</td>\n",
       "      <td>sgd</td>\n",
       "      <td>0.100</td>\n",
       "      <td>0.973333</td>\n",
       "    </tr>\n",
       "    <tr>\n",
       "      <th>93</th>\n",
       "      <td>1000</td>\n",
       "      <td>identity</td>\n",
       "      <td>sgd</td>\n",
       "      <td>0.001</td>\n",
       "      <td>0.973333</td>\n",
       "    </tr>\n",
       "    <tr>\n",
       "      <th>94</th>\n",
       "      <td>1000</td>\n",
       "      <td>relu</td>\n",
       "      <td>sgd</td>\n",
       "      <td>0.100</td>\n",
       "      <td>0.973333</td>\n",
       "    </tr>\n",
       "    <tr>\n",
       "      <th>95</th>\n",
       "      <td>1000</td>\n",
       "      <td>logistic</td>\n",
       "      <td>sgd</td>\n",
       "      <td>0.010</td>\n",
       "      <td>0.966667</td>\n",
       "    </tr>\n",
       "    <tr>\n",
       "      <th>96</th>\n",
       "      <td>1000</td>\n",
       "      <td>logistic</td>\n",
       "      <td>sgd</td>\n",
       "      <td>0.001</td>\n",
       "      <td>0.960000</td>\n",
       "    </tr>\n",
       "    <tr>\n",
       "      <th>97</th>\n",
       "      <td>10</td>\n",
       "      <td>logistic</td>\n",
       "      <td>sgd</td>\n",
       "      <td>0.001</td>\n",
       "      <td>0.953333</td>\n",
       "    </tr>\n",
       "    <tr>\n",
       "      <th>98</th>\n",
       "      <td>10</td>\n",
       "      <td>tanh</td>\n",
       "      <td>sgd</td>\n",
       "      <td>0.100</td>\n",
       "      <td>0.800000</td>\n",
       "    </tr>\n",
       "    <tr>\n",
       "      <th>99</th>\n",
       "      <td>100</td>\n",
       "      <td>tanh</td>\n",
       "      <td>sgd</td>\n",
       "      <td>0.100</td>\n",
       "      <td>0.686667</td>\n",
       "    </tr>\n",
       "    <tr>\n",
       "      <th>100</th>\n",
       "      <td>10</td>\n",
       "      <td>identity</td>\n",
       "      <td>sgd</td>\n",
       "      <td>0.100</td>\n",
       "      <td>0.666667</td>\n",
       "    </tr>\n",
       "    <tr>\n",
       "      <th>101</th>\n",
       "      <td>10</td>\n",
       "      <td>relu</td>\n",
       "      <td>adam</td>\n",
       "      <td>0.100</td>\n",
       "      <td>0.666667</td>\n",
       "    </tr>\n",
       "    <tr>\n",
       "      <th>102</th>\n",
       "      <td>100</td>\n",
       "      <td>identity</td>\n",
       "      <td>sgd</td>\n",
       "      <td>0.100</td>\n",
       "      <td>0.666667</td>\n",
       "    </tr>\n",
       "    <tr>\n",
       "      <th>103</th>\n",
       "      <td>1000</td>\n",
       "      <td>identity</td>\n",
       "      <td>sgd</td>\n",
       "      <td>0.100</td>\n",
       "      <td>0.666667</td>\n",
       "    </tr>\n",
       "    <tr>\n",
       "      <th>104</th>\n",
       "      <td>1000</td>\n",
       "      <td>identity</td>\n",
       "      <td>adam</td>\n",
       "      <td>0.100</td>\n",
       "      <td>0.460000</td>\n",
       "    </tr>\n",
       "    <tr>\n",
       "      <th>105</th>\n",
       "      <td>1000</td>\n",
       "      <td>logistic</td>\n",
       "      <td>sgd</td>\n",
       "      <td>0.100</td>\n",
       "      <td>0.420000</td>\n",
       "    </tr>\n",
       "    <tr>\n",
       "      <th>106</th>\n",
       "      <td>1000</td>\n",
       "      <td>logistic</td>\n",
       "      <td>adam</td>\n",
       "      <td>0.100</td>\n",
       "      <td>0.333333</td>\n",
       "    </tr>\n",
       "    <tr>\n",
       "      <th>107</th>\n",
       "      <td>1000</td>\n",
       "      <td>tanh</td>\n",
       "      <td>adam</td>\n",
       "      <td>0.100</td>\n",
       "      <td>0.333333</td>\n",
       "    </tr>\n",
       "  </tbody>\n",
       "</table>\n",
       "<p>108 rows × 5 columns</p>\n",
       "</div>"
      ],
      "text/plain": [
       "     hidden_layer_sizes activation solver  learning_rate_init     score\n",
       "0                    10   logistic  lbfgs               0.100  1.000000\n",
       "1                   100   logistic  lbfgs               0.100  1.000000\n",
       "2                   100   logistic  lbfgs               0.010  1.000000\n",
       "3                   100   logistic  lbfgs               0.001  1.000000\n",
       "4                   100       tanh  lbfgs               0.100  1.000000\n",
       "5                   100       tanh  lbfgs               0.010  1.000000\n",
       "6                   100       tanh  lbfgs               0.001  1.000000\n",
       "7                  1000   logistic  lbfgs               0.001  1.000000\n",
       "8                  1000       tanh  lbfgs               0.100  1.000000\n",
       "9                  1000       tanh  lbfgs               0.010  1.000000\n",
       "10                   10   logistic  lbfgs               0.010  0.993333\n",
       "11                   10   logistic  lbfgs               0.001  0.993333\n",
       "12                   10       tanh  lbfgs               0.100  0.993333\n",
       "13                   10       tanh  lbfgs               0.010  0.993333\n",
       "14                   10       tanh  lbfgs               0.001  0.993333\n",
       "15                  100       relu  lbfgs               0.100  0.993333\n",
       "16                  100       relu  lbfgs               0.010  0.993333\n",
       "17                 1000       tanh    sgd               0.100  0.993333\n",
       "18                   10   identity  lbfgs               0.100  0.986667\n",
       "19                   10   identity  lbfgs               0.010  0.986667\n",
       "20                   10   identity  lbfgs               0.001  0.986667\n",
       "21                   10       relu  lbfgs               0.100  0.986667\n",
       "22                   10       relu  lbfgs               0.010  0.986667\n",
       "23                   10       relu  lbfgs               0.001  0.986667\n",
       "24                  100   logistic    sgd               0.100  0.986667\n",
       "25                  100   logistic    sgd               0.010  0.986667\n",
       "26                  100   logistic   adam               0.001  0.986667\n",
       "27                  100       tanh   adam               0.100  0.986667\n",
       "28                  100   identity  lbfgs               0.100  0.986667\n",
       "29                  100   identity  lbfgs               0.010  0.986667\n",
       "..                  ...        ...    ...                 ...       ...\n",
       "78                 1000       relu    sgd               0.001  0.980000\n",
       "79                 1000   identity   adam               0.010  0.980000\n",
       "80                 1000   identity   adam               0.001  0.980000\n",
       "81                 1000   logistic   adam               0.010  0.980000\n",
       "82                 1000       tanh   adam               0.010  0.980000\n",
       "83                 1000       tanh   adam               0.001  0.980000\n",
       "84                 1000       relu   adam               0.001  0.980000\n",
       "85                   10   identity    sgd               0.001  0.973333\n",
       "86                   10       tanh    sgd               0.001  0.973333\n",
       "87                   10   identity   adam               0.001  0.973333\n",
       "88                   10       tanh   adam               0.001  0.973333\n",
       "89                   10       relu   adam               0.001  0.973333\n",
       "90                  100   identity    sgd               0.001  0.973333\n",
       "91                  100   logistic    sgd               0.001  0.973333\n",
       "92                  100       relu    sgd               0.100  0.973333\n",
       "93                 1000   identity    sgd               0.001  0.973333\n",
       "94                 1000       relu    sgd               0.100  0.973333\n",
       "95                 1000   logistic    sgd               0.010  0.966667\n",
       "96                 1000   logistic    sgd               0.001  0.960000\n",
       "97                   10   logistic    sgd               0.001  0.953333\n",
       "98                   10       tanh    sgd               0.100  0.800000\n",
       "99                  100       tanh    sgd               0.100  0.686667\n",
       "100                  10   identity    sgd               0.100  0.666667\n",
       "101                  10       relu   adam               0.100  0.666667\n",
       "102                 100   identity    sgd               0.100  0.666667\n",
       "103                1000   identity    sgd               0.100  0.666667\n",
       "104                1000   identity   adam               0.100  0.460000\n",
       "105                1000   logistic    sgd               0.100  0.420000\n",
       "106                1000   logistic   adam               0.100  0.333333\n",
       "107                1000       tanh   adam               0.100  0.333333\n",
       "\n",
       "[108 rows x 5 columns]"
      ]
     },
     "execution_count": 16,
     "metadata": {},
     "output_type": "execute_result"
    }
   ],
   "source": [
    "pd.DataFrame([dat for dat in sorted(results, key=lambda f: f[4], reverse=True)],\n",
    "            columns=[\"hidden_layer_sizes\", \"activation\", \"solver\", \"learning_rate_init\", \"score\"])"
   ]
  },
  {
   "cell_type": "markdown",
   "metadata": {},
   "source": [
    "細かいことが知りたかったら次のように「？」を使って調べてください。たとえば、今回の計算は lbfgs の成績が良かったようですが、lbfgsとは何なのか？どういう特徴を持つのか？調べてみてください。"
   ]
  },
  {
   "cell_type": "code",
   "execution_count": 17,
   "metadata": {},
   "outputs": [],
   "source": [
    "MLPClassifier?"
   ]
  },
  {
   "cell_type": "markdown",
   "metadata": {},
   "source": [
    "## 過学習と交差検定\n",
    "\n",
    "上の計算では、accuracy score が 1.0 (100%) になりました。それは完璧な予測モデルでしょうか？ いいえ、違います。このモデルは、知ってる問題は完璧に解けますが、未知の問題に対して対処できる保証は何もありません。機械学習の分野で「過学習」（過剰適合、overfitting）と呼ばれる現象です。これを解決するための方法論の一つとして「交差検定」があります。\n",
    "\n",
    "機械学習ではその性能評価をするために、既知データを訓練データ（教師データ、教師セットともいいます）とテストデータ（テストセットともいいます）に分割します。訓練データを用いて訓練（学習）して予測モデルを構築し、その予測モデル構築に用いなかったテストデータをどのくらい正しく予測できるかということで性能評価を行ないます。そのような評価方法を「交差検定」(cross-validation)と呼びます。ここでは、\n",
    "\n",
    "* 訓練データ（全データの６０％）\n",
    "     * __X_train__ : 訓練データの説明変数\n",
    "     * __Y_train__ : 訓練データの目的変数\n",
    "* テストデータ（全データの４０％）\n",
    "     * __X_test__ : テストデータの説明変数\n",
    "     * __Y_test__ : テストデータの目的変数\n",
    "\n",
    "とし、__X_train__ と __Y_train__ の関係を学習して __X_test__ から __Y_test__ を予測することを目指します。"
   ]
  },
  {
   "cell_type": "code",
   "execution_count": 18,
   "metadata": {},
   "outputs": [],
   "source": [
    "from sklearn.model_selection import train_test_split\n",
    "X_train, X_test, Y_train, Y_test = train_test_split(X, Y, test_size=0.40)"
   ]
  },
  {
   "cell_type": "code",
   "execution_count": 19,
   "metadata": {},
   "outputs": [
    {
     "name": "stdout",
     "output_type": "stream",
     "text": [
      "Accuracy score (train): 1.0\n",
      "Accuracy score (test): 0.95\n"
     ]
    }
   ],
   "source": [
    "clf = MLPClassifier(max_iter=10000)\n",
    "clf.fit(X_train, Y_train)\n",
    "print(\"Accuracy score (train):\", clf.score(X_train, Y_train))\n",
    "print(\"Accuracy score (test):\", clf.score(X_test, Y_test))"
   ]
  },
  {
   "cell_type": "markdown",
   "metadata": {},
   "source": [
    "普通はこれを何度も繰り返して、グリッドサーチなどのチューニング方法と組み合わせて、テストデータに対する accuracy score が最良のモデルを選択します。"
   ]
  },
  {
   "cell_type": "markdown",
   "metadata": {},
   "source": [
    "# scikit-learnを使わない方法\n",
    "\n",
    "以上、多層パーセプトロンと、多層パーセプトロンだけでなく機械学習手法全般に関する事柄を、scikit-learnを使って説明しました。次は scikit-learnを使わずに多層パーセプトロンを実装することにより、多層パーセプトロンの中身の理解を目指したいと思います。"
   ]
  },
  {
   "cell_type": "code",
   "execution_count": 20,
   "metadata": {},
   "outputs": [],
   "source": [
    "def one_hot_vectors(V): # one hot vector に変換する\n",
    "    T = pd.DataFrame([])\n",
    "    T[0] = [1 if v == 0 else 0 for v in V]\n",
    "    T[1] = [1 if v == 1 else 0 for v in V]\n",
    "    T[2] = [1 if v == 2 else 0 for v in V]\n",
    "    return np.array(T)"
   ]
  },
  {
   "cell_type": "code",
   "execution_count": 21,
   "metadata": {},
   "outputs": [],
   "source": [
    "X = np.array(df.iloc[:, :4].values)\n",
    "Y = one_hot_vectors(df.iloc[:, 4])"
   ]
  },
  {
   "cell_type": "markdown",
   "metadata": {},
   "source": [
    "## 自前 MLP クラスの作成"
   ]
  },
  {
   "cell_type": "code",
   "execution_count": 62,
   "metadata": {},
   "outputs": [],
   "source": [
    "class MyMLP:\n",
    "    def __init__(self, input_layer_size, hidden_layer_size, output_layer_size):\n",
    "        init_weight = 0.01 # ランダムな初期値に対してちょっとバラツキを控えめにする\n",
    "        \n",
    "        # 隠れ層の重み行列W1とバイアスb1\n",
    "        self.W1 = init_weight * np.random.randn(input_layer_size, hidden_layer_size)\n",
    "        self.b1 = np.zeros(hidden_layer_size)\n",
    "        self.a1 = [] # 隠れ層が保持する値（シグモイド関数による変換前）\n",
    "        self.z1 = [] # 隠れ層が保持する値（シグモイド関数による変換後）\n",
    "\n",
    "        # 出力層の重み行列W1とバイアスb1\n",
    "        self.W2 = init_weight * np.random.randn(hidden_layer_size, output_layer_size)\n",
    "        self.b2 = np.zeros(output_layer_size)\n",
    "        self.a2 = [] # 出力層が保持する値（ソフトマックス関数による変換前）\n",
    "        self.z2 = [] # 出力層が保持する値（ソフトマックス関数による変換後）\n",
    "        \n",
    "        self.loss_ = -1 # 誤差\n",
    "        self.loss_curve_ = [] # 誤差の履歴\n",
    "        \n",
    "        print(\"W1.shape=\", self.W1.shape)\n",
    "        print(\"b1.shape=\", self.b1.shape)\n",
    "        print(\"W2.shape=\", self.W2.shape)\n",
    "        print(\"b2.shape=\", self.b2.shape)\n",
    "        \n",
    "    def forward_propagation(self, x): # 前向き計算\n",
    "        self.a1 = np.dot(x, self.W1) + self.b1 # 入力層からの入力と重み行列との線形和＋バイアス\n",
    "        self.z1 = sigmoid(self.a1) # シグモイド関数で変換して隠れ層からの出力とする\n",
    "        self.a2 = np.dot(self.z1, self.W2) + self.b2 # 隠れ層からの入力と重み行列との線形和＋バイアス\n",
    "        self.z2 = softmax(self.a2) # ソフトマックス関数で変換して出力層からの出力とする\n",
    "        return self.z2 # 出力層からの出力を予測結果とする\n",
    "                            \n",
    "    def backward_propagation(self, x, y_pred, y_real): # 後ろ向き計算\n",
    "        grads = Gradient() # 重み行列を修正するための勾配を取りまとめるクラス\n",
    "        batch_num = x.shape[0] # 入力データの総数\n",
    "        dy = (y_pred - y_real) / batch_num # 全データに対して誤差を算出し、データ総数で割る\n",
    "        grads.W2 = np.dot(self.z1.T, dy) # 出力層の重み行列W2を修正するための勾配\n",
    "        grads.b2 = np.sum(dy, axis=0) # 出力層のバイアスb2を修正するための勾配\n",
    "        dz1 = np.dot(dy, self.W2.T) # 隠れ層を修正するための誤差\n",
    "        da1 = sigmoid_gradient(self.a1) * dz1 # 隠れ層を修正するための勾配\n",
    "        grads.W1 = np.dot(x.T, da1) # 隠れ層の重み行列W1を修正するための勾配\n",
    "        grads.b1 = np.sum(da1, axis=0) # 隠れ層のバイアスb1を修正するための勾配\n",
    "        return grads # 計算した勾配をまとめて返す\n",
    "\n",
    "    # x:入力データ, t:教師データ\n",
    "    def loss(self, x, y_real): # 予測結果と本当の値とのクロスエントロピー誤差を損失関数とする\n",
    "        self.loss_ = cross_entropy_error(self.forward_propagation(x), y_real)\n",
    "        return self.loss_\n",
    "    \n",
    "    def score(self, x, y_real): # accuracy score\n",
    "        y_real = np.argmax(y_real, axis=1) \n",
    "        y_pred = np.argmax(self.forward_propagation(x), axis=1)\n",
    "        accuracy = np.sum(y_pred == y_real) / float(x.shape[0])\n",
    "        return accuracy\n",
    "\n",
    "class Gradient: # 重み行列を修正するための勾配を取りまとめるクラス\n",
    "    def __init__(self):\n",
    "        self.W1 = np.array([])\n",
    "        self.b1 = np.array([])\n",
    "        self.W2 = np.array([])\n",
    "        self.b2 = np.array([])"
   ]
  },
  {
   "cell_type": "markdown",
   "metadata": {},
   "source": [
    "## いくつかの重要関数\n",
    "\n",
    "### sigmoid 関数"
   ]
  },
  {
   "cell_type": "code",
   "execution_count": 64,
   "metadata": {},
   "outputs": [],
   "source": [
    "def sigmoid(x): # シグモイド関数\n",
    "    return 1 / (1 + np.exp(-x))"
   ]
  },
  {
   "cell_type": "code",
   "execution_count": 65,
   "metadata": {},
   "outputs": [
    {
     "data": {
      "text/plain": [
       "0.9933071490757153"
      ]
     },
     "execution_count": 65,
     "metadata": {},
     "output_type": "execute_result"
    }
   ],
   "source": [
    "sigmoid(5)"
   ]
  },
  {
   "cell_type": "code",
   "execution_count": 66,
   "metadata": {},
   "outputs": [
    {
     "data": {
      "text/plain": [
       "array([[0.52497919, 0.549834  , 0.7109495 ],\n",
       "       [0.57444252, 0.59868766, 0.62245933],\n",
       "       [0.66818777, 0.64565631, 0.52497919]])"
      ]
     },
     "execution_count": 66,
     "metadata": {},
     "output_type": "execute_result"
    }
   ],
   "source": [
    "x = np.array([[0.1, 0.2, 0.9], [0.3, 0.4, 0.5], [0.7, 0.6, 0.1]])\n",
    "sigmoid(x)"
   ]
  },
  {
   "cell_type": "code",
   "execution_count": 67,
   "metadata": {},
   "outputs": [
    {
     "data": {
      "image/png": "[encoded data removed]",
      "text/plain": [
       "<Figure size 432x288 with 1 Axes>"
      ]
     },
     "metadata": {
      "needs_background": "light"
     },
     "output_type": "display_data"
    }
   ],
   "source": [
    "a = [x for x in range(-10, 10)]\n",
    "b = [sigmoid(x) for x in range(-10, 10)]\n",
    "plt.plot(a, b)\n",
    "plt.grid()\n",
    "plt.show()"
   ]
  },
  {
   "cell_type": "markdown",
   "metadata": {},
   "source": [
    "### sigmoid_gradient 関数"
   ]
  },
  {
   "cell_type": "code",
   "execution_count": 68,
   "metadata": {},
   "outputs": [],
   "source": [
    "def sigmoid_gradient(x): # シグモイド関数の勾配ではないが、これがミソ\n",
    "    return (1.0 - sigmoid(x)) * sigmoid(x)"
   ]
  },
  {
   "cell_type": "code",
   "execution_count": 69,
   "metadata": {},
   "outputs": [
    {
     "data": {
      "image/png": "[encoded data removed]",
      "text/plain": [
       "<Figure size 432x288 with 1 Axes>"
      ]
     },
     "metadata": {
      "needs_background": "light"
     },
     "output_type": "display_data"
    }
   ],
   "source": [
    "a = [x for x in range(-10, 10)]\n",
    "b = [sigmoid_gradient(x) for x in range(-10, 10)]\n",
    "plt.plot(a, b)\n",
    "plt.grid()\n",
    "plt.show()"
   ]
  },
  {
   "cell_type": "markdown",
   "metadata": {},
   "source": [
    "### Softmax 関数"
   ]
  },
  {
   "cell_type": "code",
   "execution_count": 70,
   "metadata": {},
   "outputs": [],
   "source": [
    "def softmax(x): # 和が1になるように変換することで「確率」としての取り扱いを可能にする\n",
    "    if x.ndim == 2:\n",
    "        x = x.T\n",
    "        x = x - np.max(x, axis=0)\n",
    "        y = np.exp(x) / np.sum(np.exp(x), axis=0)\n",
    "        return y.T \n",
    "    x = x - np.max(x)\n",
    "    return np.exp(x) / np.sum(np.exp(x))"
   ]
  },
  {
   "cell_type": "code",
   "execution_count": 71,
   "metadata": {},
   "outputs": [
    {
     "data": {
      "text/plain": [
       "array([[0.09003057, 0.24472847, 0.66524096],\n",
       "       [0.09003057, 0.24472847, 0.66524096]])"
      ]
     },
     "execution_count": 71,
     "metadata": {},
     "output_type": "execute_result"
    }
   ],
   "source": [
    "x = np.array([[1, 2, 3], [3, 4, 5]])\n",
    "softmax(x)"
   ]
  },
  {
   "cell_type": "code",
   "execution_count": 72,
   "metadata": {},
   "outputs": [
    {
     "data": {
      "text/plain": [
       "array([1., 1.])"
      ]
     },
     "execution_count": 72,
     "metadata": {},
     "output_type": "execute_result"
    }
   ],
   "source": [
    "softmax(x).sum(axis=1)"
   ]
  },
  {
   "cell_type": "markdown",
   "metadata": {},
   "source": [
    "### クロスエントロピー誤差"
   ]
  },
  {
   "cell_type": "code",
   "execution_count": 73,
   "metadata": {},
   "outputs": [],
   "source": [
    "def cross_entropy_error(y_pred, y_real): # クロスエントロピー誤差\n",
    "    if y_real.ndim == 1:\n",
    "        y_real = y_real.reshape(1, t.size)\n",
    "        y_pred = y_pred.reshape(1, y.size)\n",
    "    if y_real.size == y_pred.size:\n",
    "        y_real = y_real.argmax(axis=1)\n",
    "    batch_size = y_pred.shape[0]\n",
    "    return -np.sum(np.log(y_pred[np.arange(batch_size), y_real] + 1e-8)) / batch_size"
   ]
  },
  {
   "cell_type": "code",
   "execution_count": 74,
   "metadata": {},
   "outputs": [
    {
     "name": "stdout",
     "output_type": "stream",
     "text": [
      "W1.shape= (4, 3)\n",
      "b1.shape= (3,)\n",
      "W2.shape= (3, 3)\n",
      "b2.shape= (3,)\n"
     ]
    }
   ],
   "source": [
    "net = MyMLP(input_layer_size=4, hidden_layer_size=3, output_layer_size=3)"
   ]
  },
  {
   "cell_type": "markdown",
   "metadata": {},
   "source": [
    "## 実際の学習手順"
   ]
  },
  {
   "cell_type": "code",
   "execution_count": 35,
   "metadata": {},
   "outputs": [],
   "source": [
    "iters_num = 5000  # 繰り返しの回数\n",
    "learning_rate = 0.1 # 学習率"
   ]
  },
  {
   "cell_type": "code",
   "execution_count": 36,
   "metadata": {},
   "outputs": [],
   "source": [
    "accuracy_curve = []\n",
    "for i in range(iters_num):\n",
    "    Y_pred = net.forward_propagation(X) # 前向き計算\n",
    "    grad = net.backward_propagation(X, Y_pred, Y) # 後ろ向き計算\n",
    "    net.W1 -= learning_rate * grad.W1 # 隠れ層の重み行列W1を微修正\n",
    "    net.b1 -= learning_rate * grad.b1 # 隠れ層のバイアスb1を微修正\n",
    "    net.W2 -= learning_rate * grad.W2 # 出力層の重み行列W2を微修正\n",
    "    net.b2 -= learning_rate * grad.b2 # 出力層のバイアスb2を微修正\n",
    "    accuracy_curve.append(net.score(X, Y)) # 正解率の履歴を記録\n",
    "    net.loss_curve_.append(net.loss(X, Y)) # 誤差の履歴を記録"
   ]
  },
  {
   "cell_type": "markdown",
   "metadata": {},
   "source": [
    "### 正解率"
   ]
  },
  {
   "cell_type": "code",
   "execution_count": 37,
   "metadata": {},
   "outputs": [
    {
     "data": {
      "text/plain": [
       "0.98"
      ]
     },
     "execution_count": 37,
     "metadata": {},
     "output_type": "execute_result"
    }
   ],
   "source": [
    "net.score(X,Y)"
   ]
  },
  {
   "cell_type": "code",
   "execution_count": 40,
   "metadata": {},
   "outputs": [
    {
     "data": {
      "image/png": "[encoded data removed]",
      "text/plain": [
       "<Figure size 432x288 with 1 Axes>"
      ]
     },
     "metadata": {
      "needs_background": "light"
     },
     "output_type": "display_data"
    }
   ],
   "source": [
    "%matplotlib inline\n",
    "import matplotlib.pyplot as plt\n",
    "plt.title(\"Accuracy Curve\")\n",
    "plt.plot(accuracy_curve)\n",
    "plt.xlabel(\"Iteration\")\n",
    "plt.ylabel(\"Accuracy\")\n",
    "plt.grid()\n",
    "plt.show()"
   ]
  },
  {
   "cell_type": "markdown",
   "metadata": {},
   "source": [
    " ### 損失（誤差）"
   ]
  },
  {
   "cell_type": "code",
   "execution_count": 38,
   "metadata": {},
   "outputs": [
    {
     "data": {
      "text/plain": [
       "0.06510128095476939"
      ]
     },
     "execution_count": 38,
     "metadata": {},
     "output_type": "execute_result"
    }
   ],
   "source": [
    "net.loss(X,Y)"
   ]
  },
  {
   "cell_type": "code",
   "execution_count": 39,
   "metadata": {},
   "outputs": [
    {
     "data": {
      "image/png": "[encoded data removed]",
      "text/plain": [
       "<Figure size 432x288 with 1 Axes>"
      ]
     },
     "metadata": {
      "needs_background": "light"
     },
     "output_type": "display_data"
    }
   ],
   "source": [
    "%matplotlib inline\n",
    "import matplotlib.pyplot as plt\n",
    "plt.title(\"Loss Curve\")\n",
    "plt.plot(net.loss_curve_)\n",
    "plt.xlabel(\"Iteration\")\n",
    "plt.ylabel(\"Loss\")\n",
    "plt.grid()\n",
    "plt.show()"
   ]
  },
  {
   "cell_type": "markdown",
   "metadata": {},
   "source": [
    "### 学習済みの重み行列とバイアス"
   ]
  },
  {
   "cell_type": "code",
   "execution_count": 43,
   "metadata": {
    "scrolled": true
   },
   "outputs": [
    {
     "data": {
      "text/plain": [
       "array([[ 1.75773083, -0.51518424, -1.27918798],\n",
       "       [ 1.73947899, -1.74152022, -1.53733161],\n",
       "       [-2.6436301 ,  2.73684801,  2.09798004],\n",
       "       [-3.16874639,  1.30283781,  2.40213952]])"
      ]
     },
     "execution_count": 43,
     "metadata": {},
     "output_type": "execute_result"
    }
   ],
   "source": [
    "net.W1"
   ]
  },
  {
   "cell_type": "code",
   "execution_count": 47,
   "metadata": {},
   "outputs": [
    {
     "data": {
      "text/plain": [
       "array([ 1.93251018, -0.33044046, -1.44066299])"
      ]
     },
     "execution_count": 47,
     "metadata": {},
     "output_type": "execute_result"
    }
   ],
   "source": [
    "net.b1"
   ]
  },
  {
   "cell_type": "code",
   "execution_count": 44,
   "metadata": {},
   "outputs": [
    {
     "data": {
      "text/plain": [
       "array([[ 3.52793736,  2.00952545, -5.52639495],\n",
       "       [-5.4866828 ,  3.5463848 ,  1.94412222],\n",
       "       [-2.94702133, -1.64553748,  4.57965808]])"
      ]
     },
     "execution_count": 44,
     "metadata": {},
     "output_type": "execute_result"
    }
   ],
   "source": [
    "net.W2"
   ]
  },
  {
   "cell_type": "code",
   "execution_count": 48,
   "metadata": {},
   "outputs": [
    {
     "data": {
      "text/plain": [
       "array([ 1.79476641, -1.32993924, -0.46482716])"
      ]
     },
     "execution_count": 48,
     "metadata": {},
     "output_type": "execute_result"
    }
   ],
   "source": [
    "net.b2"
   ]
  },
  {
   "cell_type": "markdown",
   "metadata": {},
   "source": [
    "### 予測結果"
   ]
  },
  {
   "cell_type": "code",
   "execution_count": 45,
   "metadata": {},
   "outputs": [
    {
     "data": {
      "text/plain": [
       "array([[9.89838688e-01, 1.01485881e-02, 1.27236547e-05],\n",
       "       [9.88762250e-01, 1.12239218e-02, 1.38286276e-05],\n",
       "       [9.89471490e-01, 1.05154049e-02, 1.31051691e-05],\n",
       "       [9.88232680e-01, 1.17529506e-02, 1.43692525e-05],\n",
       "       [9.89910932e-01, 1.00764188e-02, 1.26492384e-05],\n",
       "       [9.89674961e-01, 1.03121466e-02, 1.28922736e-05],\n",
       "       [9.89355530e-01, 1.06312436e-02, 1.32267515e-05],\n",
       "       [9.89425542e-01, 1.05613080e-02, 1.31497377e-05],\n",
       "       [9.87758239e-01, 1.22269079e-02, 1.48528401e-05],\n",
       "       [9.88816856e-01, 1.11693727e-02, 1.37711819e-05],\n",
       "       [9.89966857e-01, 1.00205525e-02, 1.25900857e-05],\n",
       "       [9.88928482e-01, 1.10578587e-02, 1.36597320e-05],\n",
       "       [9.88897767e-01, 1.10885431e-02, 1.36901738e-05],\n",
       "       [9.89588566e-01, 1.03984471e-02, 1.29871247e-05],\n",
       "       [9.90350690e-01, 9.63711894e-03, 1.21912159e-05],\n",
       "       [9.90294753e-01, 9.69299771e-03, 1.22496608e-05],\n",
       "       [9.90197222e-01, 9.79042638e-03, 1.23516946e-05],\n",
       "       [9.89750885e-01, 1.02363002e-02, 1.28150619e-05],\n",
       "       [9.89758816e-01, 1.02283800e-02, 1.28043710e-05],\n",
       "       [9.89908626e-01, 1.00787223e-02, 1.26516880e-05],\n",
       "       [9.88985249e-01, 1.10011545e-02, 1.35968166e-05],\n",
       "       [9.89709486e-01, 1.02776552e-02, 1.28584465e-05],\n",
       "       [9.90232195e-01, 9.75548810e-03, 1.23164375e-05],\n",
       "       [9.87258266e-01, 1.27263905e-02, 1.53437798e-05],\n",
       "       [9.86729936e-01, 1.32542019e-02, 1.58618563e-05],\n",
       "       [9.87564033e-01, 1.24209348e-02, 1.50325853e-05],\n",
       "       [9.88650837e-01, 1.13352196e-02, 1.39435354e-05],\n",
       "       [9.89681593e-01, 1.03055221e-02, 1.28853018e-05],\n",
       "       [9.89756545e-01, 1.02306468e-02, 1.28081420e-05],\n",
       "       [9.88114645e-01, 1.18708687e-02, 1.44858812e-05],\n",
       "       [9.87780616e-01, 1.22045639e-02, 1.48196293e-05],\n",
       "       [9.89365756e-01, 1.06210337e-02, 1.32104884e-05],\n",
       "       [9.90219145e-01, 9.76852638e-03, 1.23284077e-05],\n",
       "       [9.90307359e-01, 9.68040422e-03, 1.22364782e-05],\n",
       "       [9.88573133e-01, 1.14128470e-02, 1.40201707e-05],\n",
       "       [9.89821630e-01, 1.01656279e-02, 1.27419876e-05],\n",
       "       [9.90076029e-01, 9.91149426e-03, 1.24769325e-05],\n",
       "       [9.89952755e-01, 1.00346396e-02, 1.26057205e-05],\n",
       "       [9.88789651e-01, 1.11965404e-02, 1.38084367e-05],\n",
       "       [9.89479109e-01, 1.05077972e-02, 1.30941237e-05],\n",
       "       [9.89893541e-01, 1.00937906e-02, 1.26680027e-05],\n",
       "       [9.83292420e-01, 1.66883565e-02, 1.92235182e-05],\n",
       "       [9.89299833e-01, 1.06868822e-02, 1.32851116e-05],\n",
       "       [9.88475531e-01, 1.15103427e-02, 1.41265989e-05],\n",
       "       [9.88505202e-01, 1.14807099e-02, 1.40885515e-05],\n",
       "       [9.88399117e-01, 1.15866826e-02, 1.42006414e-05],\n",
       "       [9.89822874e-01, 1.01643859e-02, 1.27397481e-05],\n",
       "       [9.89074744e-01, 1.09117427e-02, 1.35133595e-05],\n",
       "       [9.89940646e-01, 1.00467366e-02, 1.26174513e-05],\n",
       "       [9.89526227e-01, 1.04607266e-02, 1.30464482e-05],\n",
       "       [1.03611303e-02, 9.88901777e-01, 7.37093104e-04],\n",
       "       [8.67966951e-03, 9.89516055e-01, 1.80427511e-03],\n",
       "       [7.30789009e-03, 9.89221422e-01, 3.47068803e-03],\n",
       "       [4.94508033e-03, 9.72072552e-01, 2.29823676e-02],\n",
       "       [6.06409912e-03, 9.85422521e-01, 8.51338022e-03],\n",
       "       [4.67410268e-03, 9.67600130e-01, 2.77257670e-02],\n",
       "       [6.12981781e-03, 9.85356951e-01, 8.51323154e-03],\n",
       "       [1.33905510e-02, 9.85795523e-01, 8.13926514e-04],\n",
       "       [8.85506778e-03, 9.89664158e-01, 1.48077453e-03],\n",
       "       [5.68593236e-03, 9.79604469e-01, 1.47095990e-02],\n",
       "       [7.98751135e-03, 9.88664138e-01, 3.34835055e-03],\n",
       "       [7.61485426e-03, 9.88745212e-01, 3.63993345e-03],\n",
       "       [9.56937435e-03, 9.89288805e-01, 1.14182028e-03],\n",
       "       [4.70635602e-03, 9.69132027e-01, 2.61616170e-02],\n",
       "       [1.42999360e-02, 9.85092598e-01, 6.07465669e-04],\n",
       "       [1.08829903e-02, 9.88436896e-01, 6.80113747e-04],\n",
       "       [3.38929661e-03, 9.05634618e-01, 9.09760849e-02],\n",
       "       [1.06470000e-02, 9.88531267e-01, 8.21733323e-04],\n",
       "       [2.01163336e-03, 7.21057711e-01, 2.76930656e-01],\n",
       "       [9.51798695e-03, 9.89083325e-01, 1.39868775e-03],\n",
       "       [9.10098394e-04, 4.20892068e-01, 5.78197833e-01],\n",
       "       [1.09438136e-02, 9.88250192e-01, 8.05994484e-04],\n",
       "       [1.07368499e-03, 4.77997173e-01, 5.20929142e-01],\n",
       "       [6.02429297e-03, 9.85273943e-01, 8.70176383e-03],\n",
       "       [1.02378368e-02, 9.88879530e-01, 8.82632785e-04],\n",
       "       [1.00400487e-02, 9.89030982e-01, 9.28969712e-04],\n",
       "       [6.87247465e-03, 9.88544039e-01, 4.58348674e-03],\n",
       "       [3.10433838e-03, 8.85292812e-01, 1.11602850e-01],\n",
       "       [4.89143745e-03, 9.72080648e-01, 2.30279143e-02],\n",
       "       [1.65504095e-02, 9.83036475e-01, 4.13115777e-04],\n",
       "       [9.33527684e-03, 9.89091199e-01, 1.57352431e-03],\n",
       "       [1.11903024e-02, 9.87980675e-01, 8.29022496e-04],\n",
       "       [1.08055180e-02, 9.88295223e-01, 8.99258839e-04],\n",
       "       [9.14364208e-05, 6.83472017e-02, 9.31561362e-01],\n",
       "       [2.33159279e-03, 7.74644533e-01, 2.23023874e-01],\n",
       "       [6.91168330e-03, 9.87641432e-01, 5.44688474e-03],\n",
       "       [7.92509184e-03, 9.89590769e-01, 2.48413952e-03],\n",
       "       [5.73381267e-03, 9.83424335e-01, 1.08418521e-02],\n",
       "       [8.97287765e-03, 9.89101137e-01, 1.92598573e-03],\n",
       "       [6.15176895e-03, 9.84602565e-01, 9.24566570e-03],\n",
       "       [4.28319021e-03, 9.56325834e-01, 3.93909756e-02],\n",
       "       [6.10732447e-03, 9.85358703e-01, 8.53397252e-03],\n",
       "       [9.27847618e-03, 9.89224368e-01, 1.49715617e-03],\n",
       "       [1.28831339e-02, 9.86295149e-01, 8.21716800e-04],\n",
       "       [6.12670229e-03, 9.84769468e-01, 9.10382941e-03],\n",
       "       [9.46088609e-03, 9.89116458e-01, 1.42265612e-03],\n",
       "       [7.89866824e-03, 9.89068952e-01, 3.03238013e-03],\n",
       "       [9.42644300e-03, 9.89298685e-01, 1.27487159e-03],\n",
       "       [2.42935361e-02, 9.75236351e-01, 4.70112627e-04],\n",
       "       [8.18918605e-03, 9.89173926e-01, 2.63688758e-03],\n",
       "       [3.68437903e-06, 4.82190123e-03, 9.95174414e-01],\n",
       "       [1.10708853e-05, 1.19788810e-02, 9.88010048e-01],\n",
       "       [1.11717972e-05, 1.20858060e-02, 9.87903022e-01],\n",
       "       [1.38565918e-05, 1.44377465e-02, 9.85548397e-01],\n",
       "       [5.22287456e-06, 6.43744013e-03, 9.93557337e-01],\n",
       "       [5.32815103e-06, 6.54757701e-03, 9.93447095e-01],\n",
       "       [1.62121904e-05, 1.63691562e-02, 9.83614632e-01],\n",
       "       [1.15223824e-05, 1.24039317e-02, 9.87584546e-01],\n",
       "       [7.76460362e-06, 8.94346177e-03, 9.91048774e-01],\n",
       "       [7.22003392e-06, 8.41707044e-03, 9.91575710e-01],\n",
       "       [3.35626915e-04, 1.95676053e-01, 8.03988320e-01],\n",
       "       [2.04023708e-05, 1.98781972e-02, 9.80101400e-01],\n",
       "       [2.28981561e-05, 2.18697950e-02, 9.78107307e-01],\n",
       "       [6.77202850e-06, 7.97593222e-03, 9.92017296e-01],\n",
       "       [4.61623907e-06, 5.80743423e-03, 9.94187950e-01],\n",
       "       [1.32464060e-05, 1.38928827e-02, 9.86093871e-01],\n",
       "       [4.90539553e-05, 4.10085231e-02, 9.58942423e-01],\n",
       "       [1.18473700e-05, 1.26892539e-02, 9.87298899e-01],\n",
       "       [3.37201132e-06, 4.48197645e-03, 9.95514652e-01],\n",
       "       [4.42613253e-05, 3.76818461e-02, 9.62273893e-01],\n",
       "       [1.04776218e-05, 1.14550549e-02, 9.88534467e-01],\n",
       "       [1.18840063e-05, 1.26880022e-02, 9.87300114e-01],\n",
       "       [4.97304911e-06, 6.18426016e-03, 9.93810767e-01],\n",
       "       [2.59326084e-04, 1.59338162e-01, 8.40402512e-01],\n",
       "       [1.83401455e-05, 1.82010198e-02, 9.81780640e-01],\n",
       "       [8.06344231e-05, 6.17800253e-02, 9.38139340e-01],\n",
       "       [5.33632027e-04, 2.81765701e-01, 7.17700667e-01],\n",
       "       [4.45036115e-04, 2.44354392e-01, 7.55200572e-01],\n",
       "       [6.10251034e-06, 7.32277250e-03, 9.92671125e-01],\n",
       "       [5.91994872e-04, 3.07028578e-01, 6.92379427e-01],\n",
       "       [1.46669484e-05, 1.51466201e-02, 9.84838713e-01],\n",
       "       [3.64858334e-04, 2.10056928e-01, 7.89578214e-01],\n",
       "       [5.20309030e-06, 6.41690053e-03, 9.93577896e-01],\n",
       "       [1.11161421e-03, 4.89959211e-01, 5.08929175e-01],\n",
       "       [2.26774256e-05, 2.17079992e-02, 9.78269323e-01],\n",
       "       [9.74308311e-06, 1.07937665e-02, 9.89196490e-01],\n",
       "       [6.14783340e-06, 7.36348227e-03, 9.92630370e-01],\n",
       "       [5.03645473e-05, 4.18967635e-02, 9.58052872e-01],\n",
       "       [5.67759524e-04, 2.95082606e-01, 7.04349635e-01],\n",
       "       [7.40362565e-05, 5.75143817e-02, 9.42411582e-01],\n",
       "       [6.60640693e-06, 7.81850534e-03, 9.92174888e-01],\n",
       "       [1.10376344e-04, 7.96666123e-02, 9.20223011e-01],\n",
       "       [1.10708853e-05, 1.19788810e-02, 9.88010048e-01],\n",
       "       [6.09442183e-06, 7.31511313e-03, 9.92678792e-01],\n",
       "       [5.85034481e-06, 7.06959310e-03, 9.92924557e-01],\n",
       "       [2.30182811e-05, 2.19444622e-02, 9.78032520e-01],\n",
       "       [3.11075667e-05, 2.81522836e-02, 9.71816609e-01],\n",
       "       [7.06686261e-05, 5.53125080e-02, 9.44616823e-01],\n",
       "       [1.02982936e-05, 1.12786765e-02, 9.88711025e-01],\n",
       "       [5.33929194e-05, 4.38812697e-02, 9.56065337e-01]])"
      ]
     },
     "execution_count": 45,
     "metadata": {},
     "output_type": "execute_result"
    }
   ],
   "source": [
    "net.forward_propagation(X)"
   ]
  },
  {
   "cell_type": "code",
   "execution_count": 46,
   "metadata": {},
   "outputs": [
    {
     "data": {
      "text/plain": [
       "array([0, 0, 0, 0, 0, 0, 0, 0, 0, 0, 0, 0, 0, 0, 0, 0, 0, 0, 0, 0, 0, 0,\n",
       "       0, 0, 0, 0, 0, 0, 0, 0, 0, 0, 0, 0, 0, 0, 0, 0, 0, 0, 0, 0, 0, 0,\n",
       "       0, 0, 0, 0, 0, 0, 1, 1, 1, 1, 1, 1, 1, 1, 1, 1, 1, 1, 1, 1, 1, 1,\n",
       "       1, 1, 1, 1, 2, 1, 2, 1, 1, 1, 1, 1, 1, 1, 1, 1, 1, 2, 1, 1, 1, 1,\n",
       "       1, 1, 1, 1, 1, 1, 1, 1, 1, 1, 1, 1, 2, 2, 2, 2, 2, 2, 2, 2, 2, 2,\n",
       "       2, 2, 2, 2, 2, 2, 2, 2, 2, 2, 2, 2, 2, 2, 2, 2, 2, 2, 2, 2, 2, 2,\n",
       "       2, 2, 2, 2, 2, 2, 2, 2, 2, 2, 2, 2, 2, 2, 2, 2, 2, 2])"
      ]
     },
     "execution_count": 46,
     "metadata": {},
     "output_type": "execute_result"
    }
   ],
   "source": [
    "np.argmax(net.forward_propagation(X), axis=1)"
   ]
  }
 ],
 "metadata": {
  "kernelspec": {
   "display_name": "Python 3",
   "language": "python",
   "name": "python3"
  },
  "language_info": {
   "codemirror_mode": {
    "name": "ipython",
    "version": 3
   },
   "file_extension": ".py",
   "mimetype": "text/x-python",
   "name": "python",
   "nbconvert_exporter": "python",
   "pygments_lexer": "ipython3",
   "version": "3.6.5"
  }
 },
 "nbformat": 4,
 "nbformat_minor": 2
}
