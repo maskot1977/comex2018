{
 "cells": [
  {
   "cell_type": "markdown",
   "metadata": {},
   "source": [
    "積分もやはり、Sympy というライブラリが非常に便利です。Scipy もよく使われると思うけど、ちょっと使い方が難しい。\n",
    "\n",
    "# Sympy を使った方法"
   ]
  },
  {
   "cell_type": "code",
   "execution_count": 1,
   "metadata": {},
   "outputs": [],
   "source": [
    "import sympy as sym\n",
    "from sympy.plotting import plot\n",
    "sym.init_printing(use_unicode=True)\n",
    "%matplotlib inline"
   ]
  },
  {
   "cell_type": "markdown",
   "metadata": {},
   "source": [
    "指定した文字をシンボル（変数を表す文字）として扱います。"
   ]
  },
  {
   "cell_type": "code",
   "execution_count": 2,
   "metadata": {},
   "outputs": [],
   "source": [
    "a, b, c, x, y = sym.symbols(\"a b c x y\")"
   ]
  },
  {
   "cell_type": "markdown",
   "metadata": {},
   "source": [
    "主要な数学関数を sympy からインポートしておきます。"
   ]
  },
  {
   "cell_type": "code",
   "execution_count": 3,
   "metadata": {},
   "outputs": [],
   "source": [
    "from sympy import sin, cos, tan, log, exp"
   ]
  },
  {
   "cell_type": "markdown",
   "metadata": {},
   "source": [
    "## 積分"
   ]
  },
  {
   "cell_type": "code",
   "execution_count": 4,
   "metadata": {},
   "outputs": [
    {
     "name": "stdout",
     "output_type": "stream",
     "text": [
      "Integral(x**a, x)\n"
     ]
    },
    {
     "name": "stderr",
     "output_type": "stream",
     "text": [
      "/Users/kot/miniconda3/envs/py3new/lib/python3.6/site-packages/matplotlib/font_manager.py:1241: UserWarning: findfont: Font family ['IPAexGothic'] not found. Falling back to DejaVu Sans.\n",
      "  (prop.get_family(), self.defaultFamily[fontext]))\n"
     ]
    },
    {
     "data": {
      "image/png": "[encoded data removed]",
      "text/latex": [
       "$$\\int x^{a}\\, dx$$"
      ],
      "text/plain": [
       "⌠      \n",
       "⎮  a   \n",
       "⎮ x  dx\n",
       "⌡      "
      ]
     },
     "execution_count": 4,
     "metadata": {},
     "output_type": "execute_result"
    }
   ],
   "source": [
    "# 積分の式\n",
    "expr  = x ** a\n",
    "integ = sym.Integral(expr, x)\n",
    "print(integ)\n",
    "integ"
   ]
  },
  {
   "cell_type": "code",
   "execution_count": 5,
   "metadata": {},
   "outputs": [
    {
     "data": {
      "text/latex": [
       "$$\\begin{cases} \\frac{x^{a + 1}}{a + 1} & \\text{for}\\: a \\neq -1 \\\\\\log{\\left (x \\right )} & \\text{otherwise} \\end{cases}$$"
      ],
      "text/plain": [
       "⎧ a + 1            \n",
       "⎪x                 \n",
       "⎪──────  for a ≠ -1\n",
       "⎨a + 1             \n",
       "⎪                  \n",
       "⎪log(x)  otherwise \n",
       "⎩                  "
      ]
     },
     "execution_count": 5,
     "metadata": {},
     "output_type": "execute_result"
    }
   ],
   "source": [
    "# 積分の実行\n",
    "integ.doit()"
   ]
  },
  {
   "cell_type": "code",
   "execution_count": 6,
   "metadata": {},
   "outputs": [
    {
     "data": {
      "text/latex": [
       "$$\\begin{cases} \\frac{x^{a + 1}}{a + 1} & \\text{for}\\: a \\neq -1 \\\\\\log{\\left (x \\right )} & \\text{otherwise} \\end{cases}$$"
      ],
      "text/plain": [
       "⎧ a + 1            \n",
       "⎪x                 \n",
       "⎪──────  for a ≠ -1\n",
       "⎨a + 1             \n",
       "⎪                  \n",
       "⎪log(x)  otherwise \n",
       "⎩                  "
      ]
     },
     "execution_count": 6,
     "metadata": {},
     "output_type": "execute_result"
    }
   ],
   "source": [
    "# このように書いても同じ\n",
    "sym.integrate(expr, x)"
   ]
  },
  {
   "cell_type": "code",
   "execution_count": 7,
   "metadata": {},
   "outputs": [
    {
     "name": "stdout",
     "output_type": "stream",
     "text": [
      "Eq(Integral(x**a, x), Piecewise((x**(a + 1)/(a + 1), Ne(a, -1)), (log(x), True)))\n"
     ]
    },
    {
     "data": {
      "text/latex": [
       "$$\\int x^{a}\\, dx = \\begin{cases} \\frac{x^{a + 1}}{a + 1} & \\text{for}\\: a \\neq -1 \\\\\\log{\\left (x \\right )} & \\text{otherwise} \\end{cases}$$"
      ],
      "text/plain": [
       "          ⎧ a + 1            \n",
       "⌠         ⎪x                 \n",
       "⎮  a      ⎪──────  for a ≠ -1\n",
       "⎮ x  dx = ⎨a + 1             \n",
       "⌡         ⎪                  \n",
       "          ⎪log(x)  otherwise \n",
       "          ⎩                  "
      ]
     },
     "execution_count": 7,
     "metadata": {},
     "output_type": "execute_result"
    }
   ],
   "source": [
    "# sym.Eq を使って等式として表記\n",
    "eq = sym.Eq(sym.Integral(expr, x), sym.integrate(expr, x))\n",
    "print(eq)\n",
    "eq"
   ]
  },
  {
   "cell_type": "markdown",
   "metadata": {},
   "source": [
    "## いろんな積分の公式"
   ]
  },
  {
   "cell_type": "code",
   "execution_count": 8,
   "metadata": {},
   "outputs": [
    {
     "name": "stdout",
     "output_type": "stream",
     "text": [
      "Eq(Integral(1/x, x), log(x))\n"
     ]
    },
    {
     "data": {
      "image/png": "[encoded data removed]",
      "text/latex": [
       "$$\\int \\frac{1}{x}\\, dx = \\log{\\left (x \\right )}$$"
      ],
      "text/plain": [
       "⌠              \n",
       "⎮ 1            \n",
       "⎮ ─ dx = log(x)\n",
       "⎮ x            \n",
       "⌡              "
      ]
     },
     "execution_count": 8,
     "metadata": {},
     "output_type": "execute_result"
    }
   ],
   "source": [
    "expr = 1/x\n",
    "eq = sym.Eq(sym.Integral(expr, x), sym.integrate(expr, x))\n",
    "print(eq)\n",
    "eq"
   ]
  },
  {
   "cell_type": "code",
   "execution_count": 9,
   "metadata": {},
   "outputs": [
    {
     "name": "stdout",
     "output_type": "stream",
     "text": [
      "Eq(Integral(a**x, x), Piecewise((a**x/log(a), Ne(log(a), 0)), (x, True)))\n"
     ]
    },
    {
     "data": {
      "text/latex": [
       "$$\\int a^{x}\\, dx = \\begin{cases} \\frac{a^{x}}{\\log{\\left (a \\right )}} & \\text{for}\\: \\log{\\left (a \\right )} \\neq 0 \\\\x & \\text{otherwise} \\end{cases}$$"
      ],
      "text/plain": [
       "          ⎧   x                  \n",
       "⌠         ⎪  a                   \n",
       "⎮  x      ⎪──────  for log(a) ≠ 0\n",
       "⎮ a  dx = ⎨log(a)                \n",
       "⌡         ⎪                      \n",
       "          ⎪  x       otherwise   \n",
       "          ⎩                      "
      ]
     },
     "execution_count": 9,
     "metadata": {},
     "output_type": "execute_result"
    }
   ],
   "source": [
    "expr = a ** x\n",
    "eq = sym.Eq(sym.Integral(expr, x), sym.integrate(expr, x))\n",
    "print(eq)\n",
    "eq"
   ]
  },
  {
   "cell_type": "code",
   "execution_count": 10,
   "metadata": {},
   "outputs": [
    {
     "name": "stdout",
     "output_type": "stream",
     "text": [
      "Eq(Integral(exp(x), x), exp(x))\n"
     ]
    },
    {
     "data": {
      "image/png": "[encoded data removed]",
      "text/latex": [
       "$$\\int e^{x}\\, dx = e^{x}$$"
      ],
      "text/plain": [
       "⌠           \n",
       "⎮  x       x\n",
       "⎮ ℯ  dx = ℯ \n",
       "⌡           "
      ]
     },
     "execution_count": 10,
     "metadata": {},
     "output_type": "execute_result"
    }
   ],
   "source": [
    "expr  = exp(x)\n",
    "eq = sym.Eq(sym.Integral(expr, x), sym.integrate(expr, x))\n",
    "print(eq)\n",
    "eq"
   ]
  },
  {
   "cell_type": "code",
   "execution_count": 11,
   "metadata": {},
   "outputs": [
    {
     "name": "stdout",
     "output_type": "stream",
     "text": [
      "Eq(Integral(sin(x), x), -cos(x))\n"
     ]
    },
    {
     "data": {
      "image/png": "[encoded data removed]",
      "text/latex": [
       "$$\\int \\sin{\\left (x \\right )}\\, dx = - \\cos{\\left (x \\right )}$$"
      ],
      "text/plain": [
       "⌠                    \n",
       "⎮ sin(x) dx = -cos(x)\n",
       "⌡                    "
      ]
     },
     "execution_count": 11,
     "metadata": {},
     "output_type": "execute_result"
    }
   ],
   "source": [
    "expr = sin(x)\n",
    "eq = sym.Eq(sym.Integral(expr, x), sym.integrate(expr, x))\n",
    "print(eq)\n",
    "eq"
   ]
  },
  {
   "cell_type": "code",
   "execution_count": 12,
   "metadata": {},
   "outputs": [
    {
     "name": "stdout",
     "output_type": "stream",
     "text": [
      "Eq(Integral(cos(x), x), sin(x))\n"
     ]
    },
    {
     "data": {
      "image/png": "[encoded data removed]",
      "text/latex": [
       "$$\\int \\cos{\\left (x \\right )}\\, dx = \\sin{\\left (x \\right )}$$"
      ],
      "text/plain": [
       "⌠                   \n",
       "⎮ cos(x) dx = sin(x)\n",
       "⌡                   "
      ]
     },
     "execution_count": 12,
     "metadata": {},
     "output_type": "execute_result"
    }
   ],
   "source": [
    "expr = cos(x)\n",
    "eq = sym.Eq(sym.Integral(expr, x), sym.integrate(expr, x))\n",
    "print(eq)\n",
    "eq"
   ]
  },
  {
   "cell_type": "code",
   "execution_count": 13,
   "metadata": {},
   "outputs": [
    {
     "name": "stdout",
     "output_type": "stream",
     "text": [
      "Eq(Integral(tan(x), x), -log(cos(x)))\n"
     ]
    },
    {
     "data": {
      "image/png": "[encoded data removed]",
      "text/latex": [
       "$$\\int \\tan{\\left (x \\right )}\\, dx = - \\log{\\left (\\cos{\\left (x \\right )} \\right )}$$"
      ],
      "text/plain": [
       "⌠                         \n",
       "⎮ tan(x) dx = -log(cos(x))\n",
       "⌡                         "
      ]
     },
     "execution_count": 13,
     "metadata": {},
     "output_type": "execute_result"
    }
   ],
   "source": [
    "expr = tan(x)\n",
    "eq = sym.Eq(sym.Integral(expr, x), sym.integrate(expr, x))\n",
    "print(eq)\n",
    "eq"
   ]
  },
  {
   "cell_type": "code",
   "execution_count": 14,
   "metadata": {},
   "outputs": [
    {
     "name": "stdout",
     "output_type": "stream",
     "text": [
      "Eq(Integral(log(x), x), x*log(x) - x)\n"
     ]
    },
    {
     "data": {
      "image/png": "[encoded data removed]",
      "text/latex": [
       "$$\\int \\log{\\left (x \\right )}\\, dx = x \\log{\\left (x \\right )} - x$$"
      ],
      "text/plain": [
       "⌠                         \n",
       "⎮ log(x) dx = x⋅log(x) - x\n",
       "⌡                         "
      ]
     },
     "execution_count": 14,
     "metadata": {},
     "output_type": "execute_result"
    }
   ],
   "source": [
    "expr = log(x)\n",
    "eq = sym.Eq(sym.Integral(expr, x), sym.integrate(expr, x))\n",
    "print(eq)\n",
    "eq"
   ]
  },
  {
   "cell_type": "code",
   "execution_count": 15,
   "metadata": {},
   "outputs": [
    {
     "name": "stdout",
     "output_type": "stream",
     "text": [
      "Eq(Integral(cos(x)**(-2), x), sin(x)/cos(x))\n"
     ]
    },
    {
     "data": {
      "image/png": "[encoded data removed]",
      "text/latex": [
       "$$\\int \\frac{1}{\\cos^{2}{\\left (x \\right )}}\\, dx = \\frac{\\sin{\\left (x \\right )}}{\\cos{\\left (x \\right )}}$$"
      ],
      "text/plain": [
       "⌠                    \n",
       "⎮    1         sin(x)\n",
       "⎮ ─────── dx = ──────\n",
       "⎮    2         cos(x)\n",
       "⎮ cos (x)            \n",
       "⌡                    "
      ]
     },
     "execution_count": 15,
     "metadata": {},
     "output_type": "execute_result"
    }
   ],
   "source": [
    "expr = 1/cos(x)**2\n",
    "eq = sym.Eq(sym.Integral(expr, x), sym.integrate(expr, x))\n",
    "print(eq)\n",
    "eq"
   ]
  },
  {
   "cell_type": "code",
   "execution_count": 16,
   "metadata": {},
   "outputs": [
    {
     "name": "stdout",
     "output_type": "stream",
     "text": [
      "Eq(Integral(sin(x)**(-2), x), -cos(x)/sin(x))\n"
     ]
    },
    {
     "data": {
      "image/png": "[encoded data removed]",
      "text/latex": [
       "$$\\int \\frac{1}{\\sin^{2}{\\left (x \\right )}}\\, dx = - \\frac{\\cos{\\left (x \\right )}}{\\sin{\\left (x \\right )}}$$"
      ],
      "text/plain": [
       "⌠                      \n",
       "⎮    1         -cos(x) \n",
       "⎮ ─────── dx = ────────\n",
       "⎮    2          sin(x) \n",
       "⎮ sin (x)              \n",
       "⌡                      "
      ]
     },
     "execution_count": 16,
     "metadata": {},
     "output_type": "execute_result"
    }
   ],
   "source": [
    "expr = 1/sin(x)**2\n",
    "eq = sym.Eq(sym.Integral(expr, x), sym.integrate(expr, x))\n",
    "print(eq)\n",
    "eq"
   ]
  },
  {
   "cell_type": "code",
   "execution_count": 17,
   "metadata": {},
   "outputs": [
    {
     "name": "stdout",
     "output_type": "stream",
     "text": [
      "Eq(Integral((-a + x)**b, x), Piecewise(((-a + x)**(b + 1)/(b + 1), Ne(b, -1)), (log(-a + x), True)))\n"
     ]
    },
    {
     "data": {
      "text/latex": [
       "$$\\int \\left(- a + x\\right)^{b}\\, dx = \\begin{cases} \\frac{\\left(- a + x\\right)^{b + 1}}{b + 1} & \\text{for}\\: b \\neq -1 \\\\\\log{\\left (- a + x \\right )} & \\text{otherwise} \\end{cases}$$"
      ],
      "text/plain": [
       "                 ⎧        b + 1            \n",
       "⌠                ⎪(-a + x)                 \n",
       "⎮         b      ⎪─────────────  for b ≠ -1\n",
       "⎮ (-a + x)  dx = ⎨    b + 1                \n",
       "⌡                ⎪                         \n",
       "                 ⎪ log(-a + x)   otherwise \n",
       "                 ⎩                         "
      ]
     },
     "execution_count": 17,
     "metadata": {},
     "output_type": "execute_result"
    }
   ],
   "source": [
    "expr = (x-a)**b\n",
    "eq = sym.Eq(sym.Integral(expr, x), sym.integrate(expr, x))\n",
    "print(eq)\n",
    "eq"
   ]
  },
  {
   "cell_type": "code",
   "execution_count": 18,
   "metadata": {},
   "outputs": [
    {
     "name": "stdout",
     "output_type": "stream",
     "text": [
      "Eq(Integral(1/sin(x), x), log(cos(x) - 1)/2 - log(cos(x) + 1)/2)\n"
     ]
    },
    {
     "data": {
      "image/png": "[encoded data removed]",
      "text/latex": [
       "$$\\int \\frac{1}{\\sin{\\left (x \\right )}}\\, dx = \\frac{\\log{\\left (\\cos{\\left (x \\right )} - 1 \\right )}}{2} - \\frac{\\log{\\left (\\cos{\\left (x \\right )} + 1 \\right )}}{2}$$"
      ],
      "text/plain": [
       "⌠                                              \n",
       "⎮   1         log(cos(x) - 1)   log(cos(x) + 1)\n",
       "⎮ ────── dx = ─────────────── - ───────────────\n",
       "⎮ sin(x)             2                 2       \n",
       "⌡                                              "
      ]
     },
     "execution_count": 18,
     "metadata": {},
     "output_type": "execute_result"
    }
   ],
   "source": [
    "expr = 1/sin(x)\n",
    "eq = sym.Eq(sym.Integral(expr, x), sym.integrate(expr, x))\n",
    "print(eq)\n",
    "eq"
   ]
  },
  {
   "cell_type": "markdown",
   "metadata": {},
   "source": [
    "# 定積分"
   ]
  },
  {
   "cell_type": "code",
   "execution_count": 19,
   "metadata": {},
   "outputs": [
    {
     "name": "stdout",
     "output_type": "stream",
     "text": [
      "Eq(-Integral((-a + x)*(-b + x), (x, a, b)), -(a - b)**3/6)\n"
     ]
    },
    {
     "data": {
      "image/png": "[encoded data removed]",
      "text/latex": [
       "$$- \\int_{a}^{b} \\left(- a + x\\right) \\left(- b + x\\right)\\, dx = - \\frac{\\left(a - b\\right)^{3}}{6}$$"
      ],
      "text/plain": [
       " b                                3 \n",
       " ⌠                        -(a - b)  \n",
       "-⎮ (-a + x)⋅(-b + x) dx = ──────────\n",
       " ⌡                            6     \n",
       " a                                  "
      ]
     },
     "execution_count": 19,
     "metadata": {},
     "output_type": "execute_result"
    }
   ],
   "source": [
    "expr = (x-a)*(b-x)\n",
    "eq = sym.Eq(sym.Integral(expr, (x, a, b)), sym.integrate(expr, (x, a, b))).factor()\n",
    "print(eq)\n",
    "eq"
   ]
  },
  {
   "cell_type": "code",
   "execution_count": 20,
   "metadata": {},
   "outputs": [
    {
     "name": "stdout",
     "output_type": "stream",
     "text": [
      "Eq(Integral(x/(x**2 + 1), (x, 1, 2)), -log(2)/2 + log(5)/2)\n"
     ]
    },
    {
     "data": {
      "image/png": "[encoded data removed]",
      "text/latex": [
       "$$\\int_{1}^{2} \\frac{x}{x^{2} + 1}\\, dx = - \\frac{\\log{\\left (2 \\right )}}{2} + \\frac{\\log{\\left (5 \\right )}}{2}$$"
      ],
      "text/plain": [
       "2                              \n",
       "⌠                              \n",
       "⎮   x           log(2)   log(5)\n",
       "⎮ ────── dx = - ────── + ──────\n",
       "⎮  2              2        2   \n",
       "⎮ x  + 1                       \n",
       "⌡                              \n",
       "1                              "
      ]
     },
     "execution_count": 20,
     "metadata": {},
     "output_type": "execute_result"
    }
   ],
   "source": [
    "expr = x/(x**2 + 1)\n",
    "eq = sym.Eq(sym.Integral(expr, (x, 1, 2)), sym.integrate(expr, (x, 1, 2)))\n",
    "print(eq)\n",
    "eq"
   ]
  },
  {
   "cell_type": "markdown",
   "metadata": {},
   "source": [
    "Sympy ではこれ以上展開してくれる（小数表示にしてくれる）方法が見つからなかったので、とりあえず numpyなどから関数を借りてきて次のように計算してみました。"
   ]
  },
  {
   "cell_type": "code",
   "execution_count": 21,
   "metadata": {},
   "outputs": [
    {
     "data": {
      "image/png": "[encoded data removed]",
      "text/latex": [
       "$$0.4581453659370775$$"
      ],
      "text/plain": [
       "0.4581453659370775"
      ]
     },
     "execution_count": 21,
     "metadata": {},
     "output_type": "execute_result"
    }
   ],
   "source": [
    "from numpy import log\n",
    "-log(2)/2 + log(5)/2"
   ]
  },
  {
   "cell_type": "markdown",
   "metadata": {},
   "source": [
    "## 円周率\n",
    "\n",
    "円周率は次のような積分で表されます。"
   ]
  },
  {
   "cell_type": "code",
   "execution_count": 22,
   "metadata": {},
   "outputs": [
    {
     "name": "stdout",
     "output_type": "stream",
     "text": [
      "Eq(Integral(4/(x**2 + 1), (x, 0, 1)), pi)\n"
     ]
    },
    {
     "data": {
      "image/png": "[encoded data removed]",
      "text/latex": [
       "$$\\int_{0}^{1} \\frac{4}{x^{2} + 1}\\, dx = \\pi$$"
      ],
      "text/plain": [
       "1              \n",
       "⌠              \n",
       "⎮   4          \n",
       "⎮ ────── dx = π\n",
       "⎮  2           \n",
       "⎮ x  + 1       \n",
       "⌡              \n",
       "0              "
      ]
     },
     "execution_count": 22,
     "metadata": {},
     "output_type": "execute_result"
    }
   ],
   "source": [
    "expr = 4/(x**2 + 1)\n",
    "eq = sym.Eq(sym.Integral(expr, (x, 0, 1)), sym.integrate(expr, (x, 0, 1)))\n",
    "print(eq)\n",
    "eq"
   ]
  },
  {
   "cell_type": "markdown",
   "metadata": {},
   "source": [
    "# Scipy.integrate を使った方法"
   ]
  },
  {
   "cell_type": "code",
   "execution_count": 23,
   "metadata": {},
   "outputs": [],
   "source": [
    "from scipy import integrate"
   ]
  },
  {
   "cell_type": "markdown",
   "metadata": {},
   "source": [
    "積分したい式を関数で用意します。"
   ]
  },
  {
   "cell_type": "code",
   "execution_count": 24,
   "metadata": {},
   "outputs": [],
   "source": [
    "func = lambda x: 4 / (x ** 2 + 1)"
   ]
  },
  {
   "cell_type": "markdown",
   "metadata": {},
   "source": [
    "integrate.quad で、積分と、推定誤差が得られます。"
   ]
  },
  {
   "cell_type": "code",
   "execution_count": 25,
   "metadata": {},
   "outputs": [
    {
     "data": {
      "image/png": "[encoded data removed]",
      "text/latex": [
       "$$\\left ( 3.1415926535897936, \\quad 3.4878684980086326e-14\\right )$$"
      ],
      "text/plain": [
       "(3.1415926535897936, 3.4878684980086326e-14)"
      ]
     },
     "execution_count": 25,
     "metadata": {},
     "output_type": "execute_result"
    }
   ],
   "source": [
    "integrate.quad(func, 0, 1)"
   ]
  },
  {
   "cell_type": "markdown",
   "metadata": {},
   "source": [
    "## 台形則とシンプソン則\n",
    "\n",
    "台形則やシンプソン則により積分するには、あらかじめ刻み幅を指定しておく必要があります。"
   ]
  },
  {
   "cell_type": "code",
   "execution_count": 26,
   "metadata": {},
   "outputs": [],
   "source": [
    "import numpy as np\n",
    "x=np.linspace(0,1,5)"
   ]
  },
  {
   "cell_type": "code",
   "execution_count": 27,
   "metadata": {},
   "outputs": [
    {
     "data": {
      "image/png": "[encoded data removed]",
      "text/latex": [
       "$$3.131176470588236$$"
      ],
      "text/plain": [
       "3.131176470588236"
      ]
     },
     "execution_count": 27,
     "metadata": {},
     "output_type": "execute_result"
    }
   ],
   "source": [
    "integrate.trapz(func(x), x) # 台形則"
   ]
  },
  {
   "cell_type": "code",
   "execution_count": 28,
   "metadata": {},
   "outputs": [
    {
     "data": {
      "image/png": "[encoded data removed]",
      "text/latex": [
       "$$3.1415686274509804$$"
      ],
      "text/plain": [
       "3.1415686274509804"
      ]
     },
     "execution_count": 28,
     "metadata": {},
     "output_type": "execute_result"
    }
   ],
   "source": [
    "integrate.simps(func(x), x) # シンプソン則"
   ]
  }
 ],
 "metadata": {
  "kernelspec": {
   "display_name": "Python 3",
   "language": "python",
   "name": "python3"
  },
  "language_info": {
   "codemirror_mode": {
    "name": "ipython",
    "version": 3
   },
   "file_extension": ".py",
   "mimetype": "text/x-python",
   "name": "python",
   "nbconvert_exporter": "python",
   "pygments_lexer": "ipython3",
   "version": "3.6.7"
  }
 },
 "nbformat": 4,
 "nbformat_minor": 2
}
