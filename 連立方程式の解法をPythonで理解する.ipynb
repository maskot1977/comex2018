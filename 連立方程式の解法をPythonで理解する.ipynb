{
 "cells": [
  {
   "cell_type": "markdown",
   "metadata": {},
   "source": [
    "# 連立方程式の解法\n",
    "\n",
    "## Sympy を使う方法"
   ]
  },
  {
   "cell_type": "code",
   "execution_count": 1,
   "metadata": {},
   "outputs": [],
   "source": [
    "import sympy as sp"
   ]
  },
  {
   "cell_type": "code",
   "execution_count": 2,
   "metadata": {},
   "outputs": [],
   "source": [
    "sp.init_printing()"
   ]
  },
  {
   "cell_type": "code",
   "execution_count": 5,
   "metadata": {},
   "outputs": [],
   "source": [
    "x1, x2, x3, x4 = sp.symbols('x1 x2 x3 x4')"
   ]
  },
  {
   "cell_type": "code",
   "execution_count": 6,
   "metadata": {},
   "outputs": [
    {
     "data": {
      "image/png": "[encoded data removed]",
      "text/latex": [
       "$$\\left \\{ x_{1} : \\frac{7}{2}, \\quad x_{2} : 1, \\quad x_{3} : -1, \\quad x_{4} : \\frac{5}{2}\\right \\}$$"
      ],
      "text/plain": [
       "{x₁: 7/2, x₂: 1, x₃: -1, x₄: 5/2}"
      ]
     },
     "execution_count": 6,
     "metadata": {},
     "output_type": "execute_result"
    }
   ],
   "source": [
    "sp.solve([3 * x1 + 2 * x2 + 7 * x3 + x4 - 8,\n",
    "         x1 + 5 * x2 + x3 - x4 - 5,\n",
    "         4 * x1 + x2 + 3 * x3  - 2 * x4 - 7,\n",
    "         x1 + 6 * x2 + 4 * x3 + 3 * x4 - 13], [x1, x2, x3, x4])"
   ]
  },
  {
   "cell_type": "code",
   "execution_count": 7,
   "metadata": {},
   "outputs": [],
   "source": [
    "x1, x2, x3, x4, x5 = sp.symbols('x1 x2 x3 x4 x5')"
   ]
  },
  {
   "cell_type": "code",
   "execution_count": 8,
   "metadata": {},
   "outputs": [
    {
     "data": {
      "image/png": "[encoded data removed]",
      "text/latex": [
       "$$\\left \\{ x_{1} : \\frac{6602}{22723}, \\quad x_{2} : \\frac{63801}{45446}, \\quad x_{3} : - \\frac{6457}{45446}, \\quad x_{4} : \\frac{12311}{45446}, \\quad x_{5} : \\frac{110677}{45446}\\right \\}$$"
      ],
      "text/plain": [
       "⎧     6602      63801      -6457       12311      110677⎫\n",
       "⎨x₁: ─────, x₂: ─────, x₃: ──────, x₄: ─────, x₅: ──────⎬\n",
       "⎩    22723      45446      45446       45446      45446 ⎭"
      ]
     },
     "execution_count": 8,
     "metadata": {},
     "output_type": "execute_result"
    }
   ],
   "source": [
    "sp.solve([x1 + x2 + x3 + x4 + 5 * x5 - 14,\n",
    "         3 * x1 + 2 * x2 + 10 * x3 + 4 * x5 - 12,\n",
    "         15 * x1 + 2 * x2 + 3 * x3 + 4 * x4 + 5 * x5 - 20,\n",
    "         x1 + 10 * x2 + x3 + 3 * x4 - 15,\n",
    "         3 * x2 + 5 * x3 + 15 * x4 + x5 - 10], [x1, x2, x3, x4, x5])"
   ]
  },
  {
   "cell_type": "code",
   "execution_count": 9,
   "metadata": {},
   "outputs": [
    {
     "data": {
      "image/png": "[encoded data removed]",
      "text/latex": [
       "$$\\left [ \\left ( 9, \\quad 13, \\quad -2\\right ), \\quad \\left ( \\frac{31}{2} + \\frac{9 \\sqrt{17}}{2}, \\quad - \\frac{9 \\sqrt{17}}{4} + \\frac{39}{4}, \\quad - \\frac{9 \\sqrt{17}}{4} - \\frac{21}{4}\\right ), \\quad \\left ( - \\frac{9 \\sqrt{17}}{2} + \\frac{31}{2}, \\quad \\frac{9 \\sqrt{17}}{4} + \\frac{39}{4}, \\quad - \\frac{21}{4} + \\frac{9 \\sqrt{17}}{4}\\right )\\right ]$$"
      ],
      "text/plain": [
       "⎡             ⎛31   9⋅√17    9⋅√17   39    9⋅√17   21⎞  ⎛  9⋅√17   31  9⋅√17  \n",
       "⎢(9, 13, -2), ⎜── + ─────, - ───── + ──, - ───── - ──⎟, ⎜- ───── + ──, ───── +\n",
       "⎣             ⎝2      2        4     4       4     4 ⎠  ⎝    2     2     4    \n",
       "\n",
       " 39    21   9⋅√17⎞⎤\n",
       " ──, - ── + ─────⎟⎥\n",
       " 4     4      4  ⎠⎦"
      ]
     },
     "execution_count": 9,
     "metadata": {},
     "output_type": "execute_result"
    }
   ],
   "source": [
    "sp.solve([x1 + x2 + x3 - 20, \n",
    "       x1 * x2 * x3 + 234, \n",
    "       2 * x1 + 5 * x2 -  x3 - 85], [x1, x2, x3])"
   ]
  },
  {
   "cell_type": "code",
   "execution_count": 10,
   "metadata": {},
   "outputs": [
    {
     "data": {
      "image/png": "[encoded data removed]",
      "text/latex": [
       "$$\\left \\{ x_{1} : - \\frac{b x_{2} + c x_{3} + d x_{4} + e x_{5} + f}{a}\\right \\}$$"
      ],
      "text/plain": [
       "⎧    -(b⋅x₂ + c⋅x₃ + d⋅x₄ + e⋅x₅ + f) ⎫\n",
       "⎨x₁: ─────────────────────────────────⎬\n",
       "⎩                    a                ⎭"
      ]
     },
     "execution_count": 10,
     "metadata": {},
     "output_type": "execute_result"
    }
   ],
   "source": [
    "a, b, c, d, e, f = sp.symbols('a b c d e f')\n",
    "sp.solve([a * x1 + b * x2 + c * x3 + d * x4 + e * x5 + f], [x1])"
   ]
  },
  {
   "cell_type": "markdown",
   "metadata": {},
   "source": [
    "## Numpy.ligalg や Scipy.linalg を使う方法"
   ]
  },
  {
   "cell_type": "code",
   "execution_count": 50,
   "metadata": {},
   "outputs": [],
   "source": [
    "import numpy as np\n",
    "\n",
    "A = np.array([\n",
    "    [3, 2, 7, 1],\n",
    "    [1, 5, 1, -1],\n",
    "    [4, 1, 3, -2],\n",
    "    [1, 6, 4, 3]\n",
    "])\n",
    "b = np.array([8, 5, 7, 13])"
   ]
  },
  {
   "cell_type": "markdown",
   "metadata": {},
   "source": [
    "### Numpy.linalg を使う方法 (1)"
   ]
  },
  {
   "cell_type": "code",
   "execution_count": 47,
   "metadata": {},
   "outputs": [
    {
     "name": "stdout",
     "output_type": "stream",
     "text": [
      "[ 3.5  1.  -1.   2.5]\n"
     ]
    }
   ],
   "source": [
    "x = np.linalg.solve(A, b)\n",
    "print(x)"
   ]
  },
  {
   "cell_type": "markdown",
   "metadata": {},
   "source": [
    "### Numpy.linalg を使う方法 (2)"
   ]
  },
  {
   "cell_type": "code",
   "execution_count": 48,
   "metadata": {},
   "outputs": [
    {
     "name": "stdout",
     "output_type": "stream",
     "text": [
      "[ 3.5  1.  -1.   2.5]\n"
     ]
    }
   ],
   "source": [
    "Ainv = np.linalg.inv(A)         # A の逆行列を計算\n",
    "x = np.dot(Ainv, b)             # A の逆行列と b の内積\n",
    "print(x)"
   ]
  },
  {
   "cell_type": "markdown",
   "metadata": {},
   "source": [
    "### Scipy を使う方法"
   ]
  },
  {
   "cell_type": "code",
   "execution_count": 49,
   "metadata": {},
   "outputs": [
    {
     "name": "stdout",
     "output_type": "stream",
     "text": [
      "[ 3.5  1.  -1.   2.5]\n"
     ]
    }
   ],
   "source": [
    "from scipy import linalg\n",
    "LU = linalg.lu_factor(A)\n",
    "x = linalg.lu_solve(LU, b)\n",
    "print(x)"
   ]
  },
  {
   "cell_type": "markdown",
   "metadata": {},
   "source": [
    "# 線形重回帰分析と連立方程式\n",
    "\n",
    "線形重回帰における回帰係数は、実測値と予測値ができるだけ小さくなるように求めます。具体的には、残差平方和が最小となるようにします。たとえば\n",
    "\n",
    "y = a<sub>0</sub> + a<sub>1</sub> * x<sub>1</sub> + a<sub>2</sub> *  x<sub>2</sub>\n",
    "\n",
    "の回帰係数 a<sub>1</sub>, a<sub>2</sub> は、次の連立方程式で求めます。\n",
    "\n",
    "* S<sub>11</sub> * a<sub>1</sub> + S<sub>12</sub> * a<sub>2</sub> = S<sub>y1</sub>\n",
    "* S<sub>21</sub> * a<sub>1</sub> + S<sub>22</sub> * a<sub>2</sub> = S<sub>y2</sub>\n",
    "\n",
    "ここで、S<sub>ij</sub> は、i の偏差（平均との差）と j の偏差との積和です。 \n",
    "\n",
    "回帰係数が求まれば、a<sub>0</sub> は\n",
    "\n",
    "* a<sub>0</sub> = average( y ) - a<sub>1</sub> * average( x<sub>1</sub> ) - a<sub>2</sub> * average( x<sub>2</sub> )\n",
    "\n",
    "で求められます。"
   ]
  },
  {
   "cell_type": "code",
   "execution_count": null,
   "metadata": {},
   "outputs": [],
   "source": []
  }
 ],
 "metadata": {
  "kernelspec": {
   "display_name": "Python 3",
   "language": "python",
   "name": "python3"
  },
  "language_info": {
   "codemirror_mode": {
    "name": "ipython",
    "version": 3
   },
   "file_extension": ".py",
   "mimetype": "text/x-python",
   "name": "python",
   "nbconvert_exporter": "python",
   "pygments_lexer": "ipython3",
   "version": "3.6.5"
  }
 },
 "nbformat": 4,
 "nbformat_minor": 2
}
