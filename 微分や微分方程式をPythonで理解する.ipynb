{
 "cells": [
  {
   "cell_type": "markdown",
   "metadata": {},
   "source": [
    "微分や微分方程式は、Sympy というライブラリを使うのが非常に便利です。Scipy もよく使われると思うけど、ちょっと使い方が難しい。\n",
    "\n",
    "# Sympy を使った方法"
   ]
  },
  {
   "cell_type": "code",
   "execution_count": 1,
   "metadata": {},
   "outputs": [],
   "source": [
    "import sympy as sym\n",
    "from sympy.plotting import plot\n",
    "sym.init_printing(use_unicode=True)\n",
    "%matplotlib inline"
   ]
  },
  {
   "cell_type": "markdown",
   "metadata": {},
   "source": [
    "指定した文字をシンボル（変数を表す文字）として扱います。"
   ]
  },
  {
   "cell_type": "code",
   "execution_count": 2,
   "metadata": {},
   "outputs": [],
   "source": [
    "a, b, c, x, y = sym.symbols(\"a b c x y\")"
   ]
  },
  {
   "cell_type": "markdown",
   "metadata": {},
   "source": [
    "１個１個指定するときは次のような構文も可能です。"
   ]
  },
  {
   "cell_type": "code",
   "execution_count": 3,
   "metadata": {},
   "outputs": [],
   "source": [
    "a = sym.Symbol('a')"
   ]
  },
  {
   "cell_type": "markdown",
   "metadata": {},
   "source": [
    "指定した文字を関数として扱います。"
   ]
  },
  {
   "cell_type": "code",
   "execution_count": 4,
   "metadata": {},
   "outputs": [],
   "source": [
    "f = sym.Function('f')\n",
    "g = sym.Function('g')"
   ]
  },
  {
   "cell_type": "markdown",
   "metadata": {},
   "source": [
    "## Sympy を使って数学の復習"
   ]
  },
  {
   "cell_type": "code",
   "execution_count": 5,
   "metadata": {},
   "outputs": [
    {
     "name": "stderr",
     "output_type": "stream",
     "text": [
      "/Users/kot/miniconda3/envs/py3new/lib/python3.6/site-packages/matplotlib/font_manager.py:1241: UserWarning: findfont: Font family ['IPAexGothic'] not found. Falling back to DejaVu Sans.\n",
      "  (prop.get_family(), self.defaultFamily[fontext]))\n"
     ]
    },
    {
     "data": {
      "image/png": "[encoded data removed]",
      "text/latex": [
       "$$x^{2} - 12 x + 8$$"
      ],
      "text/plain": [
       " 2           \n",
       "x  - 12⋅x + 8"
      ]
     },
     "execution_count": 5,
     "metadata": {},
     "output_type": "execute_result"
    }
   ],
   "source": [
    "# 数式は英語で numerial expression または numerical formula\n",
    "expr = x**2-12*x+8\n",
    "expr"
   ]
  },
  {
   "cell_type": "markdown",
   "metadata": {},
   "source": [
    "どんな形の関数か確認したければこう。"
   ]
  },
  {
   "cell_type": "code",
   "execution_count": 6,
   "metadata": {},
   "outputs": [
    {
     "data": {
      "image/png": "[encoded data removed]",
      "text/plain": [
       "<Figure size 432x288 with 1 Axes>"
      ]
     },
     "metadata": {
      "needs_background": "light"
     },
     "output_type": "display_data"
    },
    {
     "data": {
      "text/plain": [
       "<sympy.plotting.plot.Plot at 0x1154a82b0>"
      ]
     },
     "execution_count": 6,
     "metadata": {},
     "output_type": "execute_result"
    }
   ],
   "source": [
    "# 得られた関数を図示\n",
    "plot(expr, (x, -20, 20))"
   ]
  },
  {
   "cell_type": "code",
   "execution_count": 7,
   "metadata": {},
   "outputs": [
    {
     "data": {
      "image/png": "[encoded data removed]",
      "text/latex": [
       "$$x^{2} - 12 x + 8 = 0$$"
      ],
      "text/plain": [
       " 2               \n",
       "x  - 12⋅x + 8 = 0"
      ]
     },
     "execution_count": 7,
     "metadata": {},
     "output_type": "execute_result"
    }
   ],
   "source": [
    "# 等式は英語で equation または equality\n",
    "eq = sym.Eq(expr)\n",
    "eq"
   ]
  },
  {
   "cell_type": "code",
   "execution_count": 8,
   "metadata": {},
   "outputs": [
    {
     "data": {
      "image/png": "[encoded data removed]",
      "text/latex": [
       "$$x^{2} - 12 x = -8$$"
      ],
      "text/plain": [
       " 2            \n",
       "x  - 12⋅x = -8"
      ]
     },
     "execution_count": 8,
     "metadata": {},
     "output_type": "execute_result"
    }
   ],
   "source": [
    "# このように右辺を明記しても良い\n",
    "eq = sym.Eq(x**2-12*x, -8)\n",
    "eq"
   ]
  },
  {
   "cell_type": "code",
   "execution_count": 9,
   "metadata": {},
   "outputs": [
    {
     "data": {
      "image/png": "[encoded data removed]",
      "text/latex": [
       "$$\\left [ - 2 \\sqrt{7} + 6, \\quad 2 \\sqrt{7} + 6\\right ]$$"
      ],
      "text/plain": [
       "[-2⋅√7 + 6, 2⋅√7 + 6]"
      ]
     },
     "execution_count": 9,
     "metadata": {},
     "output_type": "execute_result"
    }
   ],
   "source": [
    "# 方程式を解く\n",
    "sym.solve(eq)"
   ]
  },
  {
   "cell_type": "code",
   "execution_count": 10,
   "metadata": {},
   "outputs": [
    {
     "data": {
      "image/png": "[encoded data removed]",
      "text/latex": [
       "$$a x^{2} + b x + c = 0$$"
      ],
      "text/plain": [
       "   2              \n",
       "a⋅x  + b⋅x + c = 0"
      ]
     },
     "execution_count": 10,
     "metadata": {},
     "output_type": "execute_result"
    }
   ],
   "source": [
    "# 代数を使った式も取り扱える\n",
    "eq = sym.Eq(a * x ** 2 + b * x + c)\n",
    "eq"
   ]
  },
  {
   "cell_type": "code",
   "execution_count": 11,
   "metadata": {},
   "outputs": [
    {
     "data": {
      "image/png": "[encoded data removed]",
      "text/latex": [
       "$$\\left [ \\frac{- b + \\sqrt{- 4 a c + b^{2}}}{2 a}, \\quad - \\frac{b + \\sqrt{- 4 a c + b^{2}}}{2 a}\\right ]$$"
      ],
      "text/plain": [
       "⎡        _____________   ⎛       _____________⎞ ⎤\n",
       "⎢       ╱           2    ⎜      ╱           2 ⎟ ⎥\n",
       "⎢-b + ╲╱  -4⋅a⋅c + b    -⎝b + ╲╱  -4⋅a⋅c + b  ⎠ ⎥\n",
       "⎢─────────────────────, ────────────────────────⎥\n",
       "⎣         2⋅a                     2⋅a           ⎦"
      ]
     },
     "execution_count": 11,
     "metadata": {},
     "output_type": "execute_result"
    }
   ],
   "source": [
    "# xについて解く\n",
    "sym.solve(eq, x)"
   ]
  },
  {
   "cell_type": "code",
   "execution_count": 12,
   "metadata": {},
   "outputs": [
    {
     "data": {
      "image/png": "[encoded data removed]",
      "text/latex": [
       "$$\\left(x + 1\\right)^{2}$$"
      ],
      "text/plain": [
       "       2\n",
       "(x + 1) "
      ]
     },
     "execution_count": 12,
     "metadata": {},
     "output_type": "execute_result"
    }
   ],
   "source": [
    "# 因数分解\n",
    "expr = x**2 + 2*x + 1\n",
    "sym.factor(expr)"
   ]
  },
  {
   "cell_type": "code",
   "execution_count": 13,
   "metadata": {},
   "outputs": [
    {
     "data": {
      "image/png": "[encoded data removed]",
      "text/latex": [
       "$$\\left \\{ x : 3, \\quad y : 4\\right \\}$$"
      ],
      "text/plain": [
       "{x: 3, y: 4}"
      ]
     },
     "execution_count": 13,
     "metadata": {},
     "output_type": "execute_result"
    }
   ],
   "source": [
    "# 連立方程式\n",
    "eq1 = 3 * x + 5 * y - 29\n",
    "eq2 = x + y - 7\n",
    "\n",
    "sym.solve([eq1, eq2])"
   ]
  },
  {
   "cell_type": "markdown",
   "metadata": {},
   "source": [
    "## 微分"
   ]
  },
  {
   "cell_type": "code",
   "execution_count": 14,
   "metadata": {},
   "outputs": [
    {
     "data": {
      "image/png": "[encoded data removed]",
      "text/latex": [
       "$$2 x^{2} + 5 x - 3$$"
      ],
      "text/plain": [
       "   2          \n",
       "2⋅x  + 5⋅x - 3"
      ]
     },
     "execution_count": 14,
     "metadata": {},
     "output_type": "execute_result"
    }
   ],
   "source": [
    "expr = 2 * x ** 2 + 5 * x - 3\n",
    "expr"
   ]
  },
  {
   "cell_type": "code",
   "execution_count": 15,
   "metadata": {},
   "outputs": [
    {
     "data": {
      "image/png": "[encoded data removed]",
      "text/latex": [
       "$$\\frac{d}{d x} \\left(2 x^{2} + 5 x - 3\\right)$$"
      ],
      "text/plain": [
       "d ⎛   2          ⎞\n",
       "──⎝2⋅x  + 5⋅x - 3⎠\n",
       "dx                "
      ]
     },
     "execution_count": 15,
     "metadata": {},
     "output_type": "execute_result"
    }
   ],
   "source": [
    "# 微分\n",
    "sym.Derivative(expr)"
   ]
  },
  {
   "cell_type": "code",
   "execution_count": 16,
   "metadata": {},
   "outputs": [
    {
     "data": {
      "image/png": "[encoded data removed]",
      "text/latex": [
       "$$4 x + 5$$"
      ],
      "text/plain": [
       "4⋅x + 5"
      ]
     },
     "execution_count": 16,
     "metadata": {},
     "output_type": "execute_result"
    }
   ],
   "source": [
    "# 微分を計算する\n",
    "sym.Derivative(expr).doit()"
   ]
  },
  {
   "cell_type": "code",
   "execution_count": 17,
   "metadata": {},
   "outputs": [
    {
     "data": {
      "image/png": "[encoded data removed]",
      "text/latex": [
       "$$4 x + 5$$"
      ],
      "text/plain": [
       "4⋅x + 5"
      ]
     },
     "execution_count": 17,
     "metadata": {},
     "output_type": "execute_result"
    }
   ],
   "source": [
    "# このように書いても同じ\n",
    "sym.diff(expr)"
   ]
  },
  {
   "cell_type": "code",
   "execution_count": 18,
   "metadata": {},
   "outputs": [
    {
     "data": {
      "image/png": "[encoded data removed]",
      "text/latex": [
       "$$\\frac{d}{d x} \\left(2 x^{2} + 5 x - 3\\right) = 4 x + 5$$"
      ],
      "text/plain": [
       "d ⎛   2          ⎞          \n",
       "──⎝2⋅x  + 5⋅x - 3⎠ = 4⋅x + 5\n",
       "dx                          "
      ]
     },
     "execution_count": 18,
     "metadata": {},
     "output_type": "execute_result"
    }
   ],
   "source": [
    "# sym.Eq を使って等式として表記\n",
    "sym.Eq(sym.Derivative(expr), sym.diff(expr))"
   ]
  },
  {
   "cell_type": "code",
   "execution_count": 19,
   "metadata": {},
   "outputs": [
    {
     "data": {
      "image/png": "[encoded data removed]",
      "text/latex": [
       "$$\\frac{d}{d x} \\left(2 x^{2} + 5 x - 3\\right) = 4 x + 5$$"
      ],
      "text/plain": [
       "d ⎛   2          ⎞          \n",
       "──⎝2⋅x  + 5⋅x - 3⎠ = 4⋅x + 5\n",
       "dx                          "
      ]
     },
     "execution_count": 19,
     "metadata": {},
     "output_type": "execute_result"
    }
   ],
   "source": [
    "# 上と同じ意味だが、変数が１つだけなら上のように省略できる。\n",
    "# 変数が２つ以上の場合は何で微分するか明記しなければいけない\n",
    "sym.Eq(sym.Derivative(expr, x), sym.diff(expr, x))"
   ]
  },
  {
   "cell_type": "code",
   "execution_count": 20,
   "metadata": {},
   "outputs": [
    {
     "data": {
      "image/png": "[encoded data removed]",
      "text/latex": [
       "$$\\frac{d^{2}}{d x^{2}} \\left(2 x^{2} + 5 x - 3\\right) = 4$$"
      ],
      "text/plain": [
       "  2                    \n",
       " d ⎛   2          ⎞    \n",
       "───⎝2⋅x  + 5⋅x - 3⎠ = 4\n",
       "  2                    \n",
       "dx                     "
      ]
     },
     "execution_count": 20,
     "metadata": {},
     "output_type": "execute_result"
    }
   ],
   "source": [
    "# ２階微分\n",
    "sym.Eq(sym.Derivative(expr, x, 2), sym.diff(expr, x, 2))"
   ]
  },
  {
   "cell_type": "code",
   "execution_count": 21,
   "metadata": {},
   "outputs": [
    {
     "data": {
      "image/png": "[encoded data removed]",
      "text/latex": [
       "$$9$$"
      ],
      "text/plain": [
       "9"
      ]
     },
     "execution_count": 21,
     "metadata": {},
     "output_type": "execute_result"
    }
   ],
   "source": [
    "# xについて微分して x=1を代入\n",
    "sym.diff(expr).subs(x, 1)"
   ]
  },
  {
   "cell_type": "code",
   "execution_count": 22,
   "metadata": {},
   "outputs": [
    {
     "data": {
      "image/png": "[encoded data removed]",
      "text/latex": [
       "$$2 a x + b y$$"
      ],
      "text/plain": [
       "2⋅a⋅x + b⋅y"
      ]
     },
     "execution_count": 22,
     "metadata": {},
     "output_type": "execute_result"
    }
   ],
   "source": [
    "# x について微分\n",
    "expr = a * x ** 2 + b * x * y + c * y ** 2\n",
    "sym.diff(expr, x)"
   ]
  },
  {
   "cell_type": "code",
   "execution_count": 23,
   "metadata": {},
   "outputs": [
    {
     "data": {
      "image/png": "[encoded data removed]",
      "text/latex": [
       "$$2 a + b y$$"
      ],
      "text/plain": [
       "2⋅a + b⋅y"
      ]
     },
     "execution_count": 23,
     "metadata": {},
     "output_type": "execute_result"
    }
   ],
   "source": [
    "# xについて微分して x=1を代入\n",
    "sym.diff(expr, x).subs(x, 1)"
   ]
  },
  {
   "cell_type": "markdown",
   "metadata": {},
   "source": [
    "### いろんな微分の公式"
   ]
  },
  {
   "cell_type": "code",
   "execution_count": 24,
   "metadata": {},
   "outputs": [
    {
     "data": {
      "image/png": "[encoded data removed]",
      "text/latex": [
       "$$\\frac{\\partial}{\\partial x} x^{a} = \\frac{a x^{a}}{x}$$"
      ],
      "text/plain": [
       "            a\n",
       "∂ ⎛ a⎞   a⋅x \n",
       "──⎝x ⎠ = ────\n",
       "∂x        x  "
      ]
     },
     "execution_count": 24,
     "metadata": {},
     "output_type": "execute_result"
    }
   ],
   "source": [
    "expr = x ** a\n",
    "sym.Eq(sym.Derivative(expr, x), sym.diff(expr, x))"
   ]
  },
  {
   "cell_type": "code",
   "execution_count": 25,
   "metadata": {},
   "outputs": [
    {
     "data": {
      "image/png": "[encoded data removed]",
      "text/latex": [
       "$$\\frac{d}{d x} \\sin{\\left (x \\right )} = \\cos{\\left (x \\right )}$$"
      ],
      "text/plain": [
       "d                  \n",
       "──(sin(x)) = cos(x)\n",
       "dx                 "
      ]
     },
     "execution_count": 25,
     "metadata": {},
     "output_type": "execute_result"
    }
   ],
   "source": [
    "expr = sym.sin(x)\n",
    "sym.Eq(sym.Derivative(expr, x), sym.diff(expr, x))"
   ]
  },
  {
   "cell_type": "code",
   "execution_count": 26,
   "metadata": {},
   "outputs": [
    {
     "data": {
      "image/png": "[encoded data removed]",
      "text/latex": [
       "$$\\frac{d}{d x} \\cos{\\left (x \\right )} = - \\sin{\\left (x \\right )}$$"
      ],
      "text/plain": [
       "d                   \n",
       "──(cos(x)) = -sin(x)\n",
       "dx                  "
      ]
     },
     "execution_count": 26,
     "metadata": {},
     "output_type": "execute_result"
    }
   ],
   "source": [
    "expr = sym.cos(x)\n",
    "sym.Eq(sym.Derivative(expr, x), sym.diff(expr, x))"
   ]
  },
  {
   "cell_type": "code",
   "execution_count": 27,
   "metadata": {},
   "outputs": [
    {
     "data": {
      "image/png": "[encoded data removed]",
      "text/latex": [
       "$$\\frac{d}{d x} e^{x} = e^{x}$$"
      ],
      "text/plain": [
       "d ⎛ x⎞    x\n",
       "──⎝ℯ ⎠ = ℯ \n",
       "dx         "
      ]
     },
     "execution_count": 27,
     "metadata": {},
     "output_type": "execute_result"
    }
   ],
   "source": [
    "expr = sym.exp(x)\n",
    "sym.Eq(sym.Derivative(expr, x), sym.diff(expr, x))"
   ]
  },
  {
   "cell_type": "code",
   "execution_count": 28,
   "metadata": {},
   "outputs": [
    {
     "data": {
      "image/png": "[encoded data removed]",
      "text/latex": [
       "$$\\frac{\\partial}{\\partial x} a^{x} = a^{x} \\log{\\left (a \\right )}$$"
      ],
      "text/plain": [
       "∂ ⎛ x⎞    x       \n",
       "──⎝a ⎠ = a ⋅log(a)\n",
       "∂x                "
      ]
     },
     "execution_count": 28,
     "metadata": {},
     "output_type": "execute_result"
    }
   ],
   "source": [
    "expr = a**x\n",
    "sym.Eq(sym.Derivative(expr, x), sym.diff(expr, x))"
   ]
  },
  {
   "cell_type": "code",
   "execution_count": 29,
   "metadata": {},
   "outputs": [
    {
     "data": {
      "image/png": "[encoded data removed]",
      "text/latex": [
       "$$\\frac{d}{d x} \\log{\\left (x \\right )} = \\frac{1}{x}$$"
      ],
      "text/plain": [
       "d            1\n",
       "──(log(x)) = ─\n",
       "dx           x"
      ]
     },
     "execution_count": 29,
     "metadata": {},
     "output_type": "execute_result"
    }
   ],
   "source": [
    "expr = sym.log(x)\n",
    "sym.Eq(sym.Derivative(expr, x), sym.diff(expr, x))"
   ]
  },
  {
   "cell_type": "code",
   "execution_count": 30,
   "metadata": {},
   "outputs": [
    {
     "data": {
      "image/png": "[encoded data removed]",
      "text/latex": [
       "$$\\frac{d}{d x} \\sqrt{x} = \\frac{1}{2 \\sqrt{x}}$$"
      ],
      "text/plain": [
       "d         1  \n",
       "──(√x) = ────\n",
       "dx       2⋅√x"
      ]
     },
     "execution_count": 30,
     "metadata": {},
     "output_type": "execute_result"
    }
   ],
   "source": [
    "expr = sym.sqrt(x)\n",
    "sym.Eq(sym.Derivative(expr, x), sym.diff(expr, x))"
   ]
  },
  {
   "cell_type": "code",
   "execution_count": 31,
   "metadata": {},
   "outputs": [
    {
     "data": {
      "image/png": "[encoded data removed]",
      "text/latex": [
       "$$\\frac{d}{d x} \\tan{\\left (x \\right )} = \\tan^{2}{\\left (x \\right )} + 1$$"
      ],
      "text/plain": [
       "d               2       \n",
       "──(tan(x)) = tan (x) + 1\n",
       "dx                      "
      ]
     },
     "execution_count": 31,
     "metadata": {},
     "output_type": "execute_result"
    }
   ],
   "source": [
    "expr = sym.tan(x)\n",
    "sym.Eq(sym.Derivative(expr, x), sym.diff(expr, x))"
   ]
  },
  {
   "cell_type": "code",
   "execution_count": 32,
   "metadata": {},
   "outputs": [
    {
     "data": {
      "image/png": "[encoded data removed]",
      "text/latex": [
       "$$\\frac{\\partial}{\\partial x} \\sin^{a}{\\left (x \\right )} = \\frac{a \\sin^{a}{\\left (x \\right )} \\cos{\\left (x \\right )}}{\\sin{\\left (x \\right )}}$$"
      ],
      "text/plain": [
       "                   a          \n",
       "∂ ⎛   a   ⎞   a⋅sin (x)⋅cos(x)\n",
       "──⎝sin (x)⎠ = ────────────────\n",
       "∂x                 sin(x)     "
      ]
     },
     "execution_count": 32,
     "metadata": {},
     "output_type": "execute_result"
    }
   ],
   "source": [
    "expr = sym.sin(x)**a\n",
    "sym.Eq(sym.Derivative(expr, x), sym.diff(expr, x))"
   ]
  },
  {
   "cell_type": "code",
   "execution_count": 33,
   "metadata": {},
   "outputs": [
    {
     "data": {
      "image/png": "[encoded data removed]",
      "text/latex": [
       "$$\\frac{\\partial}{\\partial x} \\cos^{a}{\\left (x \\right )} = - \\frac{a \\sin{\\left (x \\right )} \\cos^{a}{\\left (x \\right )}}{\\cos{\\left (x \\right )}}$$"
      ],
      "text/plain": [
       "                           a    \n",
       "∂ ⎛   a   ⎞   -a⋅sin(x)⋅cos (x) \n",
       "──⎝cos (x)⎠ = ──────────────────\n",
       "∂x                  cos(x)      "
      ]
     },
     "execution_count": 33,
     "metadata": {},
     "output_type": "execute_result"
    }
   ],
   "source": [
    "expr = sym.cos(x)**a\n",
    "sym.Eq(sym.Derivative(expr, x), sym.diff(expr, x))"
   ]
  },
  {
   "cell_type": "code",
   "execution_count": 34,
   "metadata": {},
   "outputs": [
    {
     "data": {
      "image/png": "[encoded data removed]",
      "text/latex": [
       "$$\\frac{\\partial}{\\partial x} \\tan^{a}{\\left (x \\right )} = \\frac{a \\left(\\tan^{2}{\\left (x \\right )} + 1\\right) \\tan^{a}{\\left (x \\right )}}{\\tan{\\left (x \\right )}}$$"
      ],
      "text/plain": [
       "                ⎛   2       ⎞    a   \n",
       "∂ ⎛   a   ⎞   a⋅⎝tan (x) + 1⎠⋅tan (x)\n",
       "──⎝tan (x)⎠ = ───────────────────────\n",
       "∂x                     tan(x)        "
      ]
     },
     "execution_count": 34,
     "metadata": {},
     "output_type": "execute_result"
    }
   ],
   "source": [
    "expr = sym.tan(x)**a\n",
    "sym.Eq(sym.Derivative(expr, x), sym.diff(expr, x))"
   ]
  },
  {
   "cell_type": "code",
   "execution_count": 35,
   "metadata": {},
   "outputs": [
    {
     "data": {
      "image/png": "[encoded data removed]",
      "text/latex": [
       "$$\\frac{\\partial}{\\partial x} \\log{\\left (x \\right )}^{a} = \\frac{a \\log{\\left (x \\right )}^{a}}{x \\log{\\left (x \\right )}}$$"
      ],
      "text/plain": [
       "                   a   \n",
       "∂ ⎛   a   ⎞   a⋅log (x)\n",
       "──⎝log (x)⎠ = ─────────\n",
       "∂x             x⋅log(x)"
      ]
     },
     "execution_count": 35,
     "metadata": {},
     "output_type": "execute_result"
    }
   ],
   "source": [
    "expr = sym.log(x)**a\n",
    "sym.Eq(sym.Derivative(expr, x), sym.diff(expr, x))"
   ]
  },
  {
   "cell_type": "code",
   "execution_count": 36,
   "metadata": {},
   "outputs": [
    {
     "data": {
      "image/png": "[encoded data removed]",
      "text/latex": [
       "$$\\frac{d}{d x} f{\\left (x \\right )} g{\\left (x \\right )} = f{\\left (x \\right )} \\frac{d}{d x} g{\\left (x \\right )} + g{\\left (x \\right )} \\frac{d}{d x} f{\\left (x \\right )}$$"
      ],
      "text/plain": [
       "d                    d               d       \n",
       "──(f(x)⋅g(x)) = f(x)⋅──(g(x)) + g(x)⋅──(f(x))\n",
       "dx                   dx              dx      "
      ]
     },
     "execution_count": 36,
     "metadata": {},
     "output_type": "execute_result"
    }
   ],
   "source": [
    "expr = f(x) * g(x)\n",
    "sym.Eq(sym.Derivative(expr, x), sym.diff(expr, x))"
   ]
  },
  {
   "cell_type": "code",
   "execution_count": 37,
   "metadata": {},
   "outputs": [
    {
     "data": {
      "image/png": "[encoded data removed]",
      "text/latex": [
       "$$\\frac{d}{d x} \\frac{f{\\left (x \\right )}}{g{\\left (x \\right )}} = - \\frac{f{\\left (x \\right )} \\frac{d}{d x} g{\\left (x \\right )}}{g^{2}{\\left (x \\right )}} + \\frac{\\frac{d}{d x} f{\\left (x \\right )}}{g{\\left (x \\right )}}$$"
      ],
      "text/plain": [
       "                  d          d       \n",
       "             f(x)⋅──(g(x))   ──(f(x))\n",
       "d ⎛f(x)⎞          dx         dx      \n",
       "──⎜────⎟ = - ───────────── + ────────\n",
       "dx⎝g(x)⎠          2            g(x)  \n",
       "                 g (x)               "
      ]
     },
     "execution_count": 37,
     "metadata": {},
     "output_type": "execute_result"
    }
   ],
   "source": [
    "expr = f(x) / g(x)\n",
    "sym.Eq(sym.Derivative(expr, x), sym.diff(expr, x))"
   ]
  },
  {
   "cell_type": "markdown",
   "metadata": {},
   "source": [
    "## 常微分方程式 \n",
    "\n",
    "### 2 f'(x) + 5 f(x) = 0 を解く"
   ]
  },
  {
   "cell_type": "code",
   "execution_count": 38,
   "metadata": {},
   "outputs": [
    {
     "data": {
      "image/png": "[encoded data removed]",
      "text/latex": [
       "$$5 f{\\left (x \\right )} + 2 \\frac{d}{d x} f{\\left (x \\right )} = 0$$"
      ],
      "text/plain": [
       "           d           \n",
       "5⋅f(x) + 2⋅──(f(x)) = 0\n",
       "           dx          "
      ]
     },
     "execution_count": 38,
     "metadata": {},
     "output_type": "execute_result"
    }
   ],
   "source": [
    "# 常微分方程式\n",
    "eq = sym.Eq(2 * f(x).diff(x,1) + 5 * f(x))\n",
    "eq"
   ]
  },
  {
   "cell_type": "code",
   "execution_count": 39,
   "metadata": {},
   "outputs": [
    {
     "name": "stdout",
     "output_type": "stream",
     "text": [
      "Eq(f(x), C1*exp(-5*x/2))\n"
     ]
    },
    {
     "data": {
      "image/png": "[encoded data removed]",
      "text/latex": [
       "$$f{\\left (x \\right )} = C_{1} e^{- \\frac{5 x}{2}}$$"
      ],
      "text/plain": [
       "           -5⋅x \n",
       "           ─────\n",
       "             2  \n",
       "f(x) = C₁⋅ℯ     "
      ]
     },
     "execution_count": 39,
     "metadata": {},
     "output_type": "execute_result"
    }
   ],
   "source": [
    "# 一般解\n",
    "ans = sym.dsolve(eq)\n",
    "print(ans)\n",
    "ans"
   ]
  },
  {
   "cell_type": "code",
   "execution_count": 40,
   "metadata": {},
   "outputs": [
    {
     "name": "stdout",
     "output_type": "stream",
     "text": [
      "Eq(f(x), exp(-5*x/2))\n"
     ]
    },
    {
     "data": {
      "image/png": "[encoded data removed]",
      "text/latex": [
       "$$f{\\left (x \\right )} = e^{- \\frac{5 x}{2}}$$"
      ],
      "text/plain": [
       "        -5⋅x \n",
       "        ─────\n",
       "          2  \n",
       "f(x) = ℯ     "
      ]
     },
     "execution_count": 40,
     "metadata": {},
     "output_type": "execute_result"
    }
   ],
   "source": [
    "# 特殊解\n",
    "ans = sym.dsolve(eq, ics={f(0):1})\n",
    "print(ans)\n",
    "ans"
   ]
  },
  {
   "cell_type": "code",
   "execution_count": 41,
   "metadata": {},
   "outputs": [
    {
     "data": {
      "image/png": "[encoded data removed]",
      "text/plain": [
       "<Figure size 432x288 with 1 Axes>"
      ]
     },
     "metadata": {
      "needs_background": "light"
     },
     "output_type": "display_data"
    },
    {
     "data": {
      "text/plain": [
       "<sympy.plotting.plot.Plot at 0x115afd358>"
      ]
     },
     "execution_count": 41,
     "metadata": {},
     "output_type": "execute_result"
    }
   ],
   "source": [
    "plot(ans.rhs, (x, -10, 10)) # rhs は右辺(Right-hand side)の意味"
   ]
  },
  {
   "cell_type": "code",
   "execution_count": 42,
   "metadata": {},
   "outputs": [
    {
     "name": "stdout",
     "output_type": "stream",
     "text": [
      "Eq(f(2), exp(-5))\n"
     ]
    },
    {
     "data": {
      "image/png": "[encoded data removed]",
      "text/latex": [
       "$$f{\\left (2 \\right )} = e^{-5}$$"
      ],
      "text/plain": [
       "        -5\n",
       "f(2) = ℯ  "
      ]
     },
     "execution_count": 42,
     "metadata": {},
     "output_type": "execute_result"
    }
   ],
   "source": [
    "# 特殊解で x = 2 のとき\n",
    "print(ans.subs(x, 2))\n",
    "ans.subs(x, 2)"
   ]
  },
  {
   "cell_type": "markdown",
   "metadata": {},
   "source": [
    "Sympy ではこれ以上展開してくれる（小数表示にしてくれる）方法が見つからなかったので、とりあえず numpyなどから関数を借りてきて次のように計算してみました。"
   ]
  },
  {
   "cell_type": "code",
   "execution_count": 43,
   "metadata": {},
   "outputs": [
    {
     "data": {
      "image/png": "[encoded data removed]",
      "text/latex": [
       "$$0.006737946999085467$$"
      ],
      "text/plain": [
       "0.006737946999085467"
      ]
     },
     "execution_count": 43,
     "metadata": {},
     "output_type": "execute_result"
    }
   ],
   "source": [
    "# 小数表示\n",
    "from numpy import sqrt, sin, cos, tan, log, exp\n",
    "exp(-5)"
   ]
  },
  {
   "cell_type": "markdown",
   "metadata": {},
   "source": [
    "### f''(x) + f'(x) + 4 f(x) = 0"
   ]
  },
  {
   "cell_type": "code",
   "execution_count": 44,
   "metadata": {},
   "outputs": [
    {
     "data": {
      "image/png": "[encoded data removed]",
      "text/latex": [
       "$$4 f{\\left (x \\right )} + \\frac{d}{d x} f{\\left (x \\right )} + \\frac{d^{2}}{d x^{2}} f{\\left (x \\right )} = 0$$"
      ],
      "text/plain": [
       "                      2          \n",
       "         d           d           \n",
       "4⋅f(x) + ──(f(x)) + ───(f(x)) = 0\n",
       "         dx           2          \n",
       "                    dx           "
      ]
     },
     "execution_count": 44,
     "metadata": {},
     "output_type": "execute_result"
    }
   ],
   "source": [
    "# 常微分方程式\n",
    "eq = sym.Eq(f(x).diff(x,2) + f(x).diff(x,1) + 4 * f(x))\n",
    "eq"
   ]
  },
  {
   "cell_type": "code",
   "execution_count": 45,
   "metadata": {},
   "outputs": [
    {
     "name": "stdout",
     "output_type": "stream",
     "text": [
      "Eq(f(x), (C1*sin(sqrt(15)*x/2) + C2*cos(sqrt(15)*x/2))/sqrt(exp(x)))\n"
     ]
    },
    {
     "data": {
      "image/png": "[encoded data removed]",
      "text/latex": [
       "$$f{\\left (x \\right )} = \\frac{C_{1} \\sin{\\left (\\frac{\\sqrt{15} x}{2} \\right )} + C_{2} \\cos{\\left (\\frac{\\sqrt{15} x}{2} \\right )}}{\\sqrt{e^{x}}}$$"
      ],
      "text/plain": [
       "             ⎛√15⋅x⎞         ⎛√15⋅x⎞\n",
       "       C₁⋅sin⎜─────⎟ + C₂⋅cos⎜─────⎟\n",
       "             ⎝  2  ⎠         ⎝  2  ⎠\n",
       "f(x) = ─────────────────────────────\n",
       "                     ____           \n",
       "                    ╱  x            \n",
       "                  ╲╱  ℯ             "
      ]
     },
     "execution_count": 45,
     "metadata": {},
     "output_type": "execute_result"
    }
   ],
   "source": [
    "# 一般解\n",
    "ans = sym.dsolve(eq)\n",
    "print(ans)\n",
    "ans"
   ]
  },
  {
   "cell_type": "code",
   "execution_count": 46,
   "metadata": {},
   "outputs": [
    {
     "name": "stdout",
     "output_type": "stream",
     "text": [
      "Eq(f(x), (sqrt(15)*sin(sqrt(15)*x/2)/5 + cos(sqrt(15)*x/2))/sqrt(exp(x)))\n"
     ]
    },
    {
     "data": {
      "image/png": "[encoded data removed]",
      "text/latex": [
       "$$f{\\left (x \\right )} = \\frac{\\frac{\\sqrt{15} \\sin{\\left (\\frac{\\sqrt{15} x}{2} \\right )}}{5} + \\cos{\\left (\\frac{\\sqrt{15} x}{2} \\right )}}{\\sqrt{e^{x}}}$$"
      ],
      "text/plain": [
       "              ⎛√15⋅x⎞             \n",
       "       √15⋅sin⎜─────⎟             \n",
       "              ⎝  2  ⎠      ⎛√15⋅x⎞\n",
       "       ────────────── + cos⎜─────⎟\n",
       "             5             ⎝  2  ⎠\n",
       "f(x) = ───────────────────────────\n",
       "                    ____          \n",
       "                   ╱  x           \n",
       "                 ╲╱  ℯ            "
      ]
     },
     "execution_count": 46,
     "metadata": {},
     "output_type": "execute_result"
    }
   ],
   "source": [
    "# 特殊解\n",
    "ans = sym.dsolve(eq, ics={f(0):1, f(x).diff(x,1).subs(x, 0):1})\n",
    "print(ans)\n",
    "ans"
   ]
  },
  {
   "cell_type": "code",
   "execution_count": 47,
   "metadata": {},
   "outputs": [
    {
     "data": {
      "image/png": "[encoded data removed]",
      "text/plain": [
       "<Figure size 432x288 with 1 Axes>"
      ]
     },
     "metadata": {
      "needs_background": "light"
     },
     "output_type": "display_data"
    },
    {
     "data": {
      "text/plain": [
       "<sympy.plotting.plot.Plot at 0x115c24f60>"
      ]
     },
     "execution_count": 47,
     "metadata": {},
     "output_type": "execute_result"
    }
   ],
   "source": [
    "plot(ans.rhs, (x, -10, 10)) # rhs は右辺(Right-hand side)の意味"
   ]
  },
  {
   "cell_type": "code",
   "execution_count": 48,
   "metadata": {},
   "outputs": [
    {
     "name": "stdout",
     "output_type": "stream",
     "text": [
      "Eq(f(2), (cos(sqrt(15)) + sqrt(15)*sin(sqrt(15))/5)*exp(-1))\n"
     ]
    },
    {
     "data": {
      "image/png": "[encoded data removed]",
      "text/latex": [
       "$$f{\\left (2 \\right )} = \\frac{\\cos{\\left (\\sqrt{15} \\right )} + \\frac{\\sqrt{15} \\sin{\\left (\\sqrt{15} \\right )}}{5}}{e}$$"
      ],
      "text/plain": [
       "       ⎛           √15⋅sin(√15)⎞  -1\n",
       "f(2) = ⎜cos(√15) + ────────────⎟⋅ℯ  \n",
       "       ⎝                5      ⎠    "
      ]
     },
     "execution_count": 48,
     "metadata": {},
     "output_type": "execute_result"
    }
   ],
   "source": [
    "# 特殊解に x = 2 を代入\n",
    "ans2 = ans.subs(x, 2)\n",
    "print(ans2)\n",
    "ans2"
   ]
  },
  {
   "cell_type": "code",
   "execution_count": 49,
   "metadata": {},
   "outputs": [
    {
     "data": {
      "image/png": "[encoded data removed]",
      "text/latex": [
       "$$-0.4641179871879223$$"
      ],
      "text/plain": [
       "-0.4641179871879223"
      ]
     },
     "execution_count": 49,
     "metadata": {},
     "output_type": "execute_result"
    }
   ],
   "source": [
    "# 小数表示\n",
    "from numpy import sqrt, sin, cos, tan, log, exp\n",
    "(cos(sqrt(15)) + sqrt(15)*sin(sqrt(15))/5)*exp(-1)"
   ]
  },
  {
   "cell_type": "markdown",
   "metadata": {},
   "source": [
    "### f'(x) + 0.2 f(x) = 0 を解く, ただし f(0) = 5"
   ]
  },
  {
   "cell_type": "code",
   "execution_count": 50,
   "metadata": {},
   "outputs": [
    {
     "name": "stdout",
     "output_type": "stream",
     "text": [
      "Eq(f(x), 5*exp(-0.2*x))\n"
     ]
    },
    {
     "data": {
      "image/png": "[encoded data removed]",
      "text/latex": [
       "$$f{\\left (x \\right )} = 5 e^{- 0.2 x}$$"
      ],
      "text/plain": [
       "          -0.2⋅x\n",
       "f(x) = 5⋅ℯ      "
      ]
     },
     "execution_count": 50,
     "metadata": {},
     "output_type": "execute_result"
    }
   ],
   "source": [
    "eq = sym.Eq(f(x).diff(x,1) + 0.2 * f(x))\n",
    "ans = sym.dsolve(eq, ics={f(0):5})\n",
    "print(ans)\n",
    "ans"
   ]
  },
  {
   "cell_type": "code",
   "execution_count": 51,
   "metadata": {},
   "outputs": [
    {
     "data": {
      "image/png": "[encoded data removed]",
      "text/plain": [
       "<Figure size 432x288 with 1 Axes>"
      ]
     },
     "metadata": {
      "needs_background": "light"
     },
     "output_type": "display_data"
    },
    {
     "data": {
      "text/plain": [
       "<sympy.plotting.plot.Plot at 0x115be3f98>"
      ]
     },
     "execution_count": 51,
     "metadata": {},
     "output_type": "execute_result"
    }
   ],
   "source": [
    "plot(ans.rhs, (x, -10, 10)) # rhs は右辺(Right-hand side)の意味"
   ]
  },
  {
   "cell_type": "markdown",
   "metadata": {},
   "source": [
    "### f'(x) + 0.2 x = 0 を解く, ただし f(0) = 5"
   ]
  },
  {
   "cell_type": "code",
   "execution_count": 52,
   "metadata": {},
   "outputs": [
    {
     "name": "stdout",
     "output_type": "stream",
     "text": [
      "Eq(f(x), -0.1*x**2 + 5)\n"
     ]
    },
    {
     "data": {
      "image/png": "[encoded data removed]",
      "text/latex": [
       "$$f{\\left (x \\right )} = - 0.1 x^{2} + 5$$"
      ],
      "text/plain": [
       "              2    \n",
       "f(x) = - 0.1⋅x  + 5"
      ]
     },
     "execution_count": 52,
     "metadata": {},
     "output_type": "execute_result"
    }
   ],
   "source": [
    "eq = sym.Eq(f(x).diff(x,1) + 0.2 * x)\n",
    "ans = sym.dsolve(eq, ics={f(0):5})\n",
    "print(ans)\n",
    "ans"
   ]
  },
  {
   "cell_type": "code",
   "execution_count": 53,
   "metadata": {},
   "outputs": [
    {
     "data": {
      "image/png": "[encoded data removed]",
      "text/plain": [
       "<Figure size 432x288 with 1 Axes>"
      ]
     },
     "metadata": {
      "needs_background": "light"
     },
     "output_type": "display_data"
    },
    {
     "data": {
      "text/plain": [
       "<sympy.plotting.plot.Plot at 0x115a76128>"
      ]
     },
     "execution_count": 53,
     "metadata": {},
     "output_type": "execute_result"
    }
   ],
   "source": [
    "plot(ans.rhs, (x, -10, 10)) # rhs は右辺(Right-hand side)の意味"
   ]
  },
  {
   "cell_type": "markdown",
   "metadata": {},
   "source": [
    "### f'(x) + f(x)/x - 2 を解く, ただし f(1) = 2"
   ]
  },
  {
   "cell_type": "code",
   "execution_count": 54,
   "metadata": {},
   "outputs": [
    {
     "name": "stdout",
     "output_type": "stream",
     "text": [
      "Eq(f(x), x + 1/x)\n"
     ]
    },
    {
     "data": {
      "image/png": "[encoded data removed]",
      "text/latex": [
       "$$f{\\left (x \\right )} = x + \\frac{1}{x}$$"
      ],
      "text/plain": [
       "           1\n",
       "f(x) = x + ─\n",
       "           x"
      ]
     },
     "execution_count": 54,
     "metadata": {},
     "output_type": "execute_result"
    }
   ],
   "source": [
    "eq = sym.Eq(f(x).diff(x,1) + f(x)/x - 2)\n",
    "ans = sym.dsolve(eq, ics={f(1):2})\n",
    "print(ans)\n",
    "ans"
   ]
  },
  {
   "cell_type": "code",
   "execution_count": 55,
   "metadata": {},
   "outputs": [
    {
     "data": {
      "image/png": "[encoded data removed]",
      "text/plain": [
       "<Figure size 432x288 with 1 Axes>"
      ]
     },
     "metadata": {
      "needs_background": "light"
     },
     "output_type": "display_data"
    },
    {
     "data": {
      "text/plain": [
       "<sympy.plotting.plot.Plot at 0x115ce1a90>"
      ]
     },
     "execution_count": 55,
     "metadata": {},
     "output_type": "execute_result"
    }
   ],
   "source": [
    "plot(ans.rhs, (x, 0.1, 1)) # rhs は右辺(Right-hand side)の意味"
   ]
  },
  {
   "cell_type": "markdown",
   "metadata": {},
   "source": [
    "# Scipy.integrate.odeint を使う方法"
   ]
  },
  {
   "cell_type": "markdown",
   "metadata": {},
   "source": [
    "インターネットで検索すると使用例がいくつか見つかります。たとえば：\n",
    "https://apmonitor.com/pdc/index.php/Main/SolveDifferentialEquations"
   ]
  },
  {
   "cell_type": "code",
   "execution_count": 56,
   "metadata": {},
   "outputs": [
    {
     "data": {
      "image/png": "[encoded data removed]",
      "text/plain": [
       "<Figure size 432x288 with 1 Axes>"
      ]
     },
     "metadata": {
      "needs_background": "light"
     },
     "output_type": "display_data"
    }
   ],
   "source": [
    "import numpy as np\n",
    "from scipy.integrate import odeint\n",
    "import matplotlib.pyplot as plt\n",
    "%matplotlib inline\n",
    "\n",
    "# function that returns dy/dt\n",
    "def model(y,t,k):\n",
    "    dydt = -k * y\n",
    "    return dydt\n",
    "\n",
    "# initial condition\n",
    "y0 = 5\n",
    "\n",
    "# time points\n",
    "t = np.linspace(0,20)\n",
    "\n",
    "# solve ODEs\n",
    "k = 0.1\n",
    "y1 = odeint(model,y0,t,args=(k,))\n",
    "k = 0.2\n",
    "y2 = odeint(model,y0,t,args=(k,))\n",
    "k = 0.5\n",
    "y3 = odeint(model,y0,t,args=(k,))\n",
    "\n",
    "# plot results\n",
    "plt.plot(t,y1,'r-',linewidth=2,label='k=0.1')\n",
    "plt.plot(t,y2,'b--',linewidth=2,label='k=0.2')\n",
    "plt.plot(t,y3,'g:',linewidth=2,label='k=0.5')\n",
    "plt.xlabel('time')\n",
    "plt.ylabel('y(t)')\n",
    "plt.legend()\n",
    "plt.show()"
   ]
  },
  {
   "cell_type": "markdown",
   "metadata": {},
   "source": [
    "# 微分方程式の数値解法\n",
    "\n",
    "## Euler法\n",
    "## Runge-Kutta法"
   ]
  }
 ],
 "metadata": {
  "kernelspec": {
   "display_name": "Python 3",
   "language": "python",
   "name": "python3"
  },
  "language_info": {
   "codemirror_mode": {
    "name": "ipython",
    "version": 3
   },
   "file_extension": ".py",
   "mimetype": "text/x-python",
   "name": "python",
   "nbconvert_exporter": "python",
   "pygments_lexer": "ipython3",
   "version": "3.6.7"
  }
 },
 "nbformat": 4,
 "nbformat_minor": 2
}
